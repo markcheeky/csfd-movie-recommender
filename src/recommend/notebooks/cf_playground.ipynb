{
 "cells": [
  {
   "cell_type": "code",
   "execution_count": 68,
   "metadata": {},
   "outputs": [],
   "source": [
    "import copy\n",
    "from typing import Dict, Tuple\n",
    "\n",
    "import numpy as np\n",
    "import pandas as pd\n",
    "import sklearn\n",
    "import sklearn.model_selection\n",
    "import torch\n",
    "import torch.nn.functional as F\n",
    "from torch.utils.data import Dataset, Subset, DataLoader\n",
    "from tqdm.notebook import tqdm\n",
    "\n",
    "from recommend.utils import PROJ_ROOT"
   ]
  },
  {
   "cell_type": "code",
   "execution_count": 8,
   "metadata": {},
   "outputs": [],
   "source": [
    "ratings = pd.read_pickle(f\"{PROJ_ROOT}/data/ratings.pkl\")"
   ]
  },
  {
   "cell_type": "code",
   "execution_count": 9,
   "metadata": {},
   "outputs": [
    {
     "data": {
      "text/plain": [
       "(2797751, 5)"
      ]
     },
     "execution_count": 9,
     "metadata": {},
     "output_type": "execute_result"
    }
   ],
   "source": [
    "ratings.shape"
   ]
  },
  {
   "cell_type": "code",
   "execution_count": 10,
   "metadata": {},
   "outputs": [],
   "source": [
    "def filter_ratings(ratings: pd.DataFrame, min_user_ratings: int, min_movie_ratings: int) -> pd.DataFrame:\n",
    "    ratings = ratings.dropna()\n",
    "\n",
    "    user_rating_count = ratings.groupby(\"username\").size()\n",
    "    worthy_users = set(user_rating_count[user_rating_count >= min_user_ratings].index)\n",
    "    ratings = ratings.loc[ratings.username.isin(worthy_users)]\n",
    "\n",
    "    movie_rating_count = ratings.groupby(\"movie_id\").size()\n",
    "    worthy_movies = set(movie_rating_count[movie_rating_count >= min_movie_ratings].index)\n",
    "    ratings = ratings.loc[ratings.movie_id.isin(worthy_movies)]\n",
    "    \n",
    "    return ratings"
   ]
  },
  {
   "cell_type": "code",
   "execution_count": 11,
   "metadata": {},
   "outputs": [],
   "source": [
    "ratings = filter_ratings(ratings, 10, 10)"
   ]
  },
  {
   "cell_type": "code",
   "execution_count": 12,
   "metadata": {},
   "outputs": [
    {
     "data": {
      "text/plain": [
       "(2722362, 5)"
      ]
     },
     "execution_count": 12,
     "metadata": {},
     "output_type": "execute_result"
    }
   ],
   "source": [
    "ratings.shape"
   ]
  },
  {
   "cell_type": "code",
   "execution_count": 13,
   "metadata": {},
   "outputs": [],
   "source": [
    "ratings_train, ratings_test = sklearn.model_selection.train_test_split(\n",
    "    ratings,\n",
    "    test_size=0.1,\n",
    "    shuffle=True,\n",
    "    random_state=0,\n",
    ")\n",
    "\n",
    "ratings_train, ratings_valid = sklearn.model_selection.train_test_split(\n",
    "    ratings_train,\n",
    "    test_size=0.1,\n",
    "    shuffle=True,\n",
    "    random_state=0,\n",
    ")"
   ]
  },
  {
   "cell_type": "code",
   "execution_count": 14,
   "metadata": {},
   "outputs": [
    {
     "data": {
      "text/plain": [
       "230421-houbicky                       0\n",
       "10789-prvni-liga                      1\n",
       "235032-yes-man                        2\n",
       "234754-chlapec-v-pruhovanem-pyzamu    3\n",
       "301717-nejvetsi-showman               4\n",
       "dtype: int64"
      ]
     },
     "execution_count": 14,
     "metadata": {},
     "output_type": "execute_result"
    }
   ],
   "source": [
    "idx2movie = pd.Series(ratings.movie_id.unique())\n",
    "movie2idx = pd.Series(idx2movie.index.values, index=idx2movie.values)\n",
    "movie2idx.head()"
   ]
  },
  {
   "cell_type": "code",
   "execution_count": 15,
   "metadata": {},
   "outputs": [
    {
     "data": {
      "text/plain": [
       "kinghome     0\n",
       "SimonShot    1\n",
       "blackend     2\n",
       "LCH          3\n",
       "knoxville    4\n",
       "dtype: int64"
      ]
     },
     "execution_count": 15,
     "metadata": {},
     "output_type": "execute_result"
    }
   ],
   "source": [
    "idx2user = pd.Series(ratings.username.unique())\n",
    "user2idx = pd.Series(idx2user.index.values, index=idx2user.values)\n",
    "user2idx.head()\n"
   ]
  },
  {
   "cell_type": "code",
   "execution_count": 80,
   "metadata": {},
   "outputs": [],
   "source": [
    "class Model(torch.nn.Module):\n",
    "\n",
    "    def __init__(self, num_features: int, num_movies: int, num_users: int, seed: int = 42):\n",
    "        super().__init__()\n",
    "        random_gen = np.random.default_rng(seed)\n",
    "\n",
    "        self.movies_weights = torch.nn.Embedding.from_pretrained(torch.from_numpy(\n",
    "            random_gen.standard_normal((num_movies, num_features), dtype=np.float32).clip(-2, 2)\n",
    "        ))\n",
    "\n",
    "        self.users_weights = torch.nn.Embedding.from_pretrained(torch.from_numpy(\n",
    "            random_gen.standard_normal((num_users, num_features), dtype=np.float32).clip(-2, 2)\n",
    "        ))\n",
    "\n",
    "        self.movies_biases = torch.nn.Parameter(torch.from_numpy(\n",
    "            random_gen.standard_normal((num_movies,), dtype=np.float32).clip(-2, 2)\n",
    "        ))\n",
    "\n",
    "        self.users_biases = torch.nn.Parameter(torch.from_numpy(\n",
    "            random_gen.standard_normal((num_users,), dtype=np.float32).clip(-2, 2)\n",
    "        ))\n",
    "        \n",
    "\n",
    "    def forward(self, movie_idx, user_idx) -> torch.Tensor:\n",
    "        m_w = self.movies_weights(movie_idx)\n",
    "        m_b = self.movies_biases[movie_idx]\n",
    "        u_w = self.users_weights(user_idx)\n",
    "        u_b = self.users_biases[user_idx]\n",
    "        return torch.sigmoid((m_w * u_w).sum(-1) + m_b + u_b)"
   ]
  },
  {
   "cell_type": "code",
   "execution_count": 99,
   "metadata": {},
   "outputs": [],
   "source": [
    "model = Model(\n",
    "    num_features=100,\n",
    "    num_movies=len(movie2idx),\n",
    "    num_users=len(user2idx)\n",
    ")"
   ]
  },
  {
   "cell_type": "code",
   "execution_count": 100,
   "metadata": {},
   "outputs": [],
   "source": [
    "device = 'cuda'\n",
    "model = model.to(device)"
   ]
  },
  {
   "cell_type": "code",
   "execution_count": 101,
   "metadata": {},
   "outputs": [
    {
     "data": {
      "text/html": [
       "<div>\n",
       "<style scoped>\n",
       "    .dataframe tbody tr th:only-of-type {\n",
       "        vertical-align: middle;\n",
       "    }\n",
       "\n",
       "    .dataframe tbody tr th {\n",
       "        vertical-align: top;\n",
       "    }\n",
       "\n",
       "    .dataframe thead th {\n",
       "        text-align: right;\n",
       "    }\n",
       "</style>\n",
       "<table border=\"1\" class=\"dataframe\">\n",
       "  <thead>\n",
       "    <tr style=\"text-align: right;\">\n",
       "      <th></th>\n",
       "      <th>username</th>\n",
       "      <th>movie_id</th>\n",
       "      <th>stars</th>\n",
       "      <th>date</th>\n",
       "      <th>comment</th>\n",
       "    </tr>\n",
       "  </thead>\n",
       "  <tbody>\n",
       "    <tr>\n",
       "      <th>328863</th>\n",
       "      <td>pepo</td>\n",
       "      <td>2596-osm-a-pul</td>\n",
       "      <td>1.0</td>\n",
       "      <td>2018-04-24</td>\n",
       "      <td>Súhlasím, že 8 1/2 je umelecký film. Je totiž...</td>\n",
       "    </tr>\n",
       "    <tr>\n",
       "      <th>1601217</th>\n",
       "      <td>Melly.pro</td>\n",
       "      <td>224137-hvezdny-prach</td>\n",
       "      <td>5.0</td>\n",
       "      <td>2008-01-18</td>\n",
       "      <td>Tak nejsem si úplně jistej, co o tom říct, pr...</td>\n",
       "    </tr>\n",
       "    <tr>\n",
       "      <th>1369474</th>\n",
       "      <td>GOREGASM</td>\n",
       "      <td>223564-kazatel</td>\n",
       "      <td>2.0</td>\n",
       "      <td>2016-01-31</td>\n",
       "      <td>Béčkové vody zakalené do digitálního apokalyp...</td>\n",
       "    </tr>\n",
       "    <tr>\n",
       "      <th>499592</th>\n",
       "      <td>Ernie_13</td>\n",
       "      <td>308635-zpatky-ve-hre</td>\n",
       "      <td>3.0</td>\n",
       "      <td>2014-03-07</td>\n",
       "      <td>No je to tých 70%....hrozná réžia, hrozný sce...</td>\n",
       "    </tr>\n",
       "    <tr>\n",
       "      <th>2322162</th>\n",
       "      <td>Khumbac</td>\n",
       "      <td>71194-walker-texas-ranger</td>\n",
       "      <td>4.0</td>\n",
       "      <td>2012-07-14</td>\n",
       "      <td>Z nostalgie, z recese, z úcty ke komedii dává...</td>\n",
       "    </tr>\n",
       "  </tbody>\n",
       "</table>\n",
       "</div>"
      ],
      "text/plain": [
       "          username                   movie_id  stars       date  \\\n",
       "328863        pepo             2596-osm-a-pul    1.0 2018-04-24   \n",
       "1601217  Melly.pro       224137-hvezdny-prach    5.0 2008-01-18   \n",
       "1369474   GOREGASM             223564-kazatel    2.0 2016-01-31   \n",
       "499592    Ernie_13       308635-zpatky-ve-hre    3.0 2014-03-07   \n",
       "2322162    Khumbac  71194-walker-texas-ranger    4.0 2012-07-14   \n",
       "\n",
       "                                                   comment  \n",
       "328863    Súhlasím, že 8 1/2 je umelecký film. Je totiž...  \n",
       "1601217   Tak nejsem si úplně jistej, co o tom říct, pr...  \n",
       "1369474   Béčkové vody zakalené do digitálního apokalyp...  \n",
       "499592    No je to tých 70%....hrozná réžia, hrozný sce...  \n",
       "2322162   Z nostalgie, z recese, z úcty ke komedii dává...  "
      ]
     },
     "execution_count": 101,
     "metadata": {},
     "output_type": "execute_result"
    }
   ],
   "source": [
    "ratings_train.head()"
   ]
  },
  {
   "cell_type": "code",
   "execution_count": 102,
   "metadata": {},
   "outputs": [],
   "source": [
    "class RatingDataset(Dataset): \n",
    "\n",
    "    def __init__(self, df_ratings: pd.DataFrame, movie2idx: pd.Series, user2idx: pd.Series):\n",
    "        self.df_ratings = df_ratings\n",
    "        self.movie2idx = movie2idx\n",
    "        self.user2idx = user2idx\n",
    "\n",
    "    def __len__(self) -> int:\n",
    "        return len(self.df_ratings)\n",
    "\n",
    "    def __getitem__(self, idx: int) -> Tuple[int, int, float]:\n",
    "        row = self.df_ratings.iloc[idx]\n",
    "        idx_movie = self.movie2idx[row.movie_id]\n",
    "        idx_user = self.user2idx[row.username]\n",
    "        rating = (row.stars / 5.0).astype(np.float32)\n",
    "        return idx_movie, idx_user, rating"
   ]
  },
  {
   "cell_type": "code",
   "execution_count": 103,
   "metadata": {},
   "outputs": [],
   "source": [
    "ds_train = RatingDataset(ratings_train, movie2idx, user2idx)\n",
    "ds_valid = RatingDataset(ratings_valid, movie2idx, user2idx)\n",
    "ds_test = RatingDataset(ratings_test, movie2idx, user2idx)\n",
    "\n",
    "ds_train_mini = Subset(\n",
    "    ds_train,\n",
    "    np.random.default_rng(0).choice(len(ds_train), len(ds_valid), replace=False)\n",
    ")"
   ]
  },
  {
   "cell_type": "code",
   "execution_count": 104,
   "metadata": {},
   "outputs": [
    {
     "data": {
      "text/plain": [
       "(2205112, 245013, 272237, 245013)"
      ]
     },
     "execution_count": 104,
     "metadata": {},
     "output_type": "execute_result"
    }
   ],
   "source": [
    "len(ds_train), len(ds_valid), len(ds_test), len(ds_train_mini)"
   ]
  },
  {
   "cell_type": "code",
   "execution_count": 105,
   "metadata": {},
   "outputs": [
    {
     "data": {
      "text/plain": [
       "(1023, 2359, 0.2)"
      ]
     },
     "execution_count": 105,
     "metadata": {},
     "output_type": "execute_result"
    }
   ],
   "source": [
    "ds_train[0]"
   ]
  },
  {
   "cell_type": "code",
   "execution_count": 106,
   "metadata": {},
   "outputs": [],
   "source": [
    "batch_size = 64\n",
    "\n",
    "def collate_move(device):\n",
    "    def collate(*params):\n",
    "        movie_idx, user_idx, rating = torch.utils.data.default_collate(*params)\n",
    "        return movie_idx.to(device), user_idx.to(device), rating.to(device)\n",
    "    return collate\n",
    "\n",
    "\n",
    "loader_train = DataLoader(ds_train, batch_size, collate_fn=collate_move(device))\n",
    "loader_valid = DataLoader(ds_valid, batch_size, collate_fn=collate_move(device))\n",
    "loader_test = DataLoader(ds_test, batch_size, collate_fn=collate_move(device))\n",
    "\n",
    "loader_train_mini = DataLoader(ds_train_mini, batch_size, collate_fn=collate_move(device))"
   ]
  },
  {
   "cell_type": "code",
   "execution_count": 107,
   "metadata": {},
   "outputs": [
    {
     "data": {
      "text/plain": [
       "(34455, 3829, 4254, 3829)"
      ]
     },
     "execution_count": 107,
     "metadata": {},
     "output_type": "execute_result"
    }
   ],
   "source": [
    "len(loader_train), len(loader_valid), len(loader_test), len(loader_train_mini)"
   ]
  },
  {
   "cell_type": "code",
   "execution_count": 108,
   "metadata": {},
   "outputs": [],
   "source": [
    "optim = torch.optim.Adam(\n",
    "    params=model.parameters(),\n",
    "    lr=1e-1,\n",
    ")"
   ]
  },
  {
   "cell_type": "code",
   "execution_count": 114,
   "metadata": {},
   "outputs": [],
   "source": [
    "class Trainer:\n",
    "\n",
    "    def __init__(\n",
    "        self,\n",
    "        model: Model,\n",
    "        optimizer: torch.optim.Optimizer,\n",
    "    ):\n",
    "        self.model = model\n",
    "        self.metrics_train = []\n",
    "        self.metrics_valid = []\n",
    "        self.past_models = []\n",
    "        self.optimizer = optimizer\n",
    "\n",
    "\n",
    "    def evaluate(\n",
    "        self,\n",
    "        loader: DataLoader,\n",
    "        tqdm_desc: str,\n",
    "        tqdm_leave: bool,\n",
    "    ) -> Dict[str, float]:\n",
    "\n",
    "        metrics = {\n",
    "            \"mse\": 0.0,\n",
    "            \"mae_stars\": 0.0\n",
    "        }\n",
    "\n",
    "        with torch.no_grad():\n",
    "            for movie_idx, user_idx, rating in tqdm(loader, desc=tqdm_desc, leave=tqdm_leave, position=1):\n",
    "                pred = model(movie_idx, user_idx)\n",
    "                metrics[\"mse\"] += F.mse_loss(pred, rating).cpu().item()\n",
    "                metrics[\"mae_stars\"] += F.l1_loss(pred * 5, rating * 5).cpu().item()\n",
    "        return {name: value / len(loader) for name, value in metrics.items()}\n",
    "\n",
    "    \n",
    "    def train(\n",
    "        self,\n",
    "        loader_train: DataLoader,\n",
    "        loader_train_mini: DataLoader,\n",
    "        loader_valid: DataLoader,\n",
    "        patience: int = 5,\n",
    "        max_epochs: int = 25,\n",
    "        evaluate_every_n_steps: int = 12500,\n",
    "        early_stopping_metric: str = \"mae_stars\",\n",
    "    ):\n",
    "        step = 0\n",
    "        for epoch in range(max_epochs):\n",
    "            for movie_idx, user_idx, rating in tqdm(loader_train, desc=f\"epoch {epoch}\", position=0):\n",
    "                pred = model(movie_idx, user_idx)\n",
    "                F.mse_loss(pred, rating).backward()\n",
    "                self.optimizer.step()\n",
    "                self.optimizer.zero_grad()\n",
    "                if step % evaluate_every_n_steps == 0:\n",
    "                    self.metrics_train.append(self.evaluate(loader_train_mini, \"train evaluation\", tqdm_leave=False))\n",
    "                    self.metrics_valid.append(self.evaluate(loader_valid, \"validation evaluation\", tqdm_leave=False))\n",
    "                    print(\"train metrics:     \", self.metrics_train[-1])\n",
    "                    print(\"validation metrics:\", self.metrics_valid[-1])\n",
    "                    self.past_models.append(copy.deepcopy(model).cpu())\n",
    "                    if len(self.metrics_train) >= patience:\n",
    "                        self.past_models.pop(0)\n",
    "                        last_n = pd.DataFrame(self.metrics_train[-patience:])[early_stopping_metric]\n",
    "                        if last_n.argmin() == 0:\n",
    "                            device = list(model.parameters())[0].device\n",
    "                            self.model = self.past_models[0].to(device)\n",
    "                            return self.model\n",
    "                step += 1\n",
    "        return self.model\n"
   ]
  },
  {
   "cell_type": "code",
   "execution_count": 110,
   "metadata": {},
   "outputs": [],
   "source": [
    "trainer = Trainer(model, optim)"
   ]
  },
  {
   "cell_type": "code",
   "execution_count": 111,
   "metadata": {},
   "outputs": [
    {
     "data": {
      "application/vnd.jupyter.widget-view+json": {
       "model_id": "76ace5e87ee240b2a9cb1844242ce06e",
       "version_major": 2,
       "version_minor": 0
      },
      "text/plain": [
       "epoch 0:   0%|          | 0/34455 [00:00<?, ?it/s]"
      ]
     },
     "metadata": {},
     "output_type": "display_data"
    },
    {
     "data": {
      "application/vnd.jupyter.widget-view+json": {
       "model_id": "532446d21dbe47478e6a65940d74d6d6",
       "version_major": 2,
       "version_minor": 0
      },
      "text/plain": [
       "train evaluation:   0%|          | 0/3829 [00:00<?, ?it/s]"
      ]
     },
     "metadata": {},
     "output_type": "display_data"
    },
    {
     "data": {
      "application/vnd.jupyter.widget-view+json": {
       "model_id": "49148ccd26a440cdbe98f84d624a6ab5",
       "version_major": 2,
       "version_minor": 0
      },
      "text/plain": [
       "validation evaluation:   0%|          | 0/3829 [00:00<?, ?it/s]"
      ]
     },
     "metadata": {},
     "output_type": "display_data"
    },
    {
     "name": "stdout",
     "output_type": "stream",
     "text": [
      "train metrics:      {'mse': 0.31293469379841116, 'mae_stars': 2.321519985339697}\n",
      "validation metrics: {'mse': 0.31249594485270943, 'mae_stars': 2.3195831577035024}\n"
     ]
    },
    {
     "data": {
      "application/vnd.jupyter.widget-view+json": {
       "model_id": "e48d95d4ac7f4491bc37c4639fa1235b",
       "version_major": 2,
       "version_minor": 0
      },
      "text/plain": [
       "train evaluation:   0%|          | 0/3829 [00:00<?, ?it/s]"
      ]
     },
     "metadata": {},
     "output_type": "display_data"
    },
    {
     "data": {
      "application/vnd.jupyter.widget-view+json": {
       "model_id": "6d26d8e903854e97bd4c905eb46846e3",
       "version_major": 2,
       "version_minor": 0
      },
      "text/plain": [
       "validation evaluation:   0%|          | 0/3829 [00:00<?, ?it/s]"
      ]
     },
     "metadata": {},
     "output_type": "display_data"
    },
    {
     "name": "stdout",
     "output_type": "stream",
     "text": [
      "train metrics:      {'mse': 0.1469001427631398, 'mae_stars': 1.4594384279597301}\n",
      "validation metrics: {'mse': 0.14913660194262665, 'mae_stars': 1.472096759412456}\n"
     ]
    },
    {
     "data": {
      "application/vnd.jupyter.widget-view+json": {
       "model_id": "9b906bc16aa3475ab2e84bf93b70c7bf",
       "version_major": 2,
       "version_minor": 0
      },
      "text/plain": [
       "train evaluation:   0%|          | 0/3829 [00:00<?, ?it/s]"
      ]
     },
     "metadata": {},
     "output_type": "display_data"
    },
    {
     "data": {
      "application/vnd.jupyter.widget-view+json": {
       "model_id": "f9abde8ce0b14d54adc3525e9d9acd0a",
       "version_major": 2,
       "version_minor": 0
      },
      "text/plain": [
       "validation evaluation:   0%|          | 0/3829 [00:00<?, ?it/s]"
      ]
     },
     "metadata": {},
     "output_type": "display_data"
    },
    {
     "name": "stdout",
     "output_type": "stream",
     "text": [
      "train metrics:      {'mse': 0.14004322591868415, 'mae_stars': 1.4235767961855998}\n",
      "validation metrics: {'mse': 0.1433714321206649, 'mae_stars': 1.4420375617561032}\n"
     ]
    },
    {
     "data": {
      "application/vnd.jupyter.widget-view+json": {
       "model_id": "f69f5735a8f54cbf8c0dc26a5b8cf963",
       "version_major": 2,
       "version_minor": 0
      },
      "text/plain": [
       "epoch 1:   0%|          | 0/34455 [00:00<?, ?it/s]"
      ]
     },
     "metadata": {},
     "output_type": "display_data"
    },
    {
     "data": {
      "application/vnd.jupyter.widget-view+json": {
       "model_id": "8e0b03ba67c54112a53b783f605b3d60",
       "version_major": 2,
       "version_minor": 0
      },
      "text/plain": [
       "train evaluation:   0%|          | 0/3829 [00:00<?, ?it/s]"
      ]
     },
     "metadata": {},
     "output_type": "display_data"
    },
    {
     "data": {
      "application/vnd.jupyter.widget-view+json": {
       "model_id": "c676bae00904470c9fc22074a7cc1a98",
       "version_major": 2,
       "version_minor": 0
      },
      "text/plain": [
       "validation evaluation:   0%|          | 0/3829 [00:00<?, ?it/s]"
      ]
     },
     "metadata": {},
     "output_type": "display_data"
    },
    {
     "name": "stdout",
     "output_type": "stream",
     "text": [
      "train metrics:      {'mse': 0.1376422492392725, 'mae_stars': 1.4112411741022342}\n",
      "validation metrics: {'mse': 0.14132866200150132, 'mae_stars': 1.4312973939024396}\n"
     ]
    },
    {
     "data": {
      "application/vnd.jupyter.widget-view+json": {
       "model_id": "921b0e41bf55493c8d465d2feef9dc4f",
       "version_major": 2,
       "version_minor": 0
      },
      "text/plain": [
       "train evaluation:   0%|          | 0/3829 [00:00<?, ?it/s]"
      ]
     },
     "metadata": {},
     "output_type": "display_data"
    },
    {
     "data": {
      "application/vnd.jupyter.widget-view+json": {
       "model_id": "7534b3fcfebb4d5e8b80b306ea3c2a7c",
       "version_major": 2,
       "version_minor": 0
      },
      "text/plain": [
       "validation evaluation:   0%|          | 0/3829 [00:00<?, ?it/s]"
      ]
     },
     "metadata": {},
     "output_type": "display_data"
    },
    {
     "name": "stdout",
     "output_type": "stream",
     "text": [
      "train metrics:      {'mse': 0.13615418705952076, 'mae_stars': 1.4037754787076202}\n",
      "validation metrics: {'mse': 0.1402191033202072, 'mae_stars': 1.4256003709958969}\n"
     ]
    },
    {
     "data": {
      "application/vnd.jupyter.widget-view+json": {
       "model_id": "972867d763f842eb97aee0ccbd88d2ae",
       "version_major": 2,
       "version_minor": 0
      },
      "text/plain": [
       "train evaluation:   0%|          | 0/3829 [00:00<?, ?it/s]"
      ]
     },
     "metadata": {},
     "output_type": "display_data"
    },
    {
     "data": {
      "application/vnd.jupyter.widget-view+json": {
       "model_id": "f8648c754bdd400eb7c7c2c688c6ed1b",
       "version_major": 2,
       "version_minor": 0
      },
      "text/plain": [
       "validation evaluation:   0%|          | 0/3829 [00:00<?, ?it/s]"
      ]
     },
     "metadata": {},
     "output_type": "display_data"
    },
    {
     "name": "stdout",
     "output_type": "stream",
     "text": [
      "train metrics:      {'mse': 0.13566375462511993, 'mae_stars': 1.4008644891177497}\n",
      "validation metrics: {'mse': 0.14003643939516258, 'mae_stars': 1.4247534457807225}\n"
     ]
    },
    {
     "data": {
      "application/vnd.jupyter.widget-view+json": {
       "model_id": "8214f0447fce48b890be7f0a9b503aa7",
       "version_major": 2,
       "version_minor": 0
      },
      "text/plain": [
       "epoch 2:   0%|          | 0/34455 [00:00<?, ?it/s]"
      ]
     },
     "metadata": {},
     "output_type": "display_data"
    },
    {
     "data": {
      "application/vnd.jupyter.widget-view+json": {
       "model_id": "5e89f37884894d25ba3fcd9dbd78f582",
       "version_major": 2,
       "version_minor": 0
      },
      "text/plain": [
       "train evaluation:   0%|          | 0/3829 [00:00<?, ?it/s]"
      ]
     },
     "metadata": {},
     "output_type": "display_data"
    },
    {
     "data": {
      "application/vnd.jupyter.widget-view+json": {
       "model_id": "06ac85a06f1544a28680fedab01bfd3c",
       "version_major": 2,
       "version_minor": 0
      },
      "text/plain": [
       "validation evaluation:   0%|          | 0/3829 [00:00<?, ?it/s]"
      ]
     },
     "metadata": {},
     "output_type": "display_data"
    },
    {
     "name": "stdout",
     "output_type": "stream",
     "text": [
      "train metrics:      {'mse': 0.13486892812014342, 'mae_stars': 1.396647390450034}\n",
      "validation metrics: {'mse': 0.1389391231444244, 'mae_stars': 1.4189455155200514}\n"
     ]
    },
    {
     "data": {
      "application/vnd.jupyter.widget-view+json": {
       "model_id": "db451e6a9ccc4e5b890ed89983d7ffa0",
       "version_major": 2,
       "version_minor": 0
      },
      "text/plain": [
       "train evaluation:   0%|          | 0/3829 [00:00<?, ?it/s]"
      ]
     },
     "metadata": {},
     "output_type": "display_data"
    },
    {
     "data": {
      "application/vnd.jupyter.widget-view+json": {
       "model_id": "2bd3f0057cbc49d8a5eca8853f831e60",
       "version_major": 2,
       "version_minor": 0
      },
      "text/plain": [
       "validation evaluation:   0%|          | 0/3829 [00:00<?, ?it/s]"
      ]
     },
     "metadata": {},
     "output_type": "display_data"
    },
    {
     "name": "stdout",
     "output_type": "stream",
     "text": [
      "train metrics:      {'mse': 0.13443621128532898, 'mae_stars': 1.3944637374424629}\n",
      "validation metrics: {'mse': 0.13886985373648006, 'mae_stars': 1.4184206273045792}\n"
     ]
    },
    {
     "data": {
      "application/vnd.jupyter.widget-view+json": {
       "model_id": "7cb61444753843bf9dbf301c58b22a85",
       "version_major": 2,
       "version_minor": 0
      },
      "text/plain": [
       "train evaluation:   0%|          | 0/3829 [00:00<?, ?it/s]"
      ]
     },
     "metadata": {},
     "output_type": "display_data"
    },
    {
     "data": {
      "application/vnd.jupyter.widget-view+json": {
       "model_id": "9557921a44854004aa729d194e38f679",
       "version_major": 2,
       "version_minor": 0
      },
      "text/plain": [
       "validation evaluation:   0%|          | 0/3829 [00:00<?, ?it/s]"
      ]
     },
     "metadata": {},
     "output_type": "display_data"
    },
    {
     "name": "stdout",
     "output_type": "stream",
     "text": [
      "train metrics:      {'mse': 0.1339803738210649, 'mae_stars': 1.3923197326538115}\n",
      "validation metrics: {'mse': 0.13828166647402915, 'mae_stars': 1.4153577600206648}\n"
     ]
    },
    {
     "data": {
      "application/vnd.jupyter.widget-view+json": {
       "model_id": "cc9d94e80b594964b051a55bf9092d09",
       "version_major": 2,
       "version_minor": 0
      },
      "text/plain": [
       "epoch 3:   0%|          | 0/34455 [00:00<?, ?it/s]"
      ]
     },
     "metadata": {},
     "output_type": "display_data"
    },
    {
     "data": {
      "application/vnd.jupyter.widget-view+json": {
       "model_id": "7f79addc2c634dd0a61a40d2a88e9f71",
       "version_major": 2,
       "version_minor": 0
      },
      "text/plain": [
       "train evaluation:   0%|          | 0/3829 [00:00<?, ?it/s]"
      ]
     },
     "metadata": {},
     "output_type": "display_data"
    },
    {
     "data": {
      "application/vnd.jupyter.widget-view+json": {
       "model_id": "089bb1c8fcfb41289075ec7007f9df07",
       "version_major": 2,
       "version_minor": 0
      },
      "text/plain": [
       "validation evaluation:   0%|          | 0/3829 [00:00<?, ?it/s]"
      ]
     },
     "metadata": {},
     "output_type": "display_data"
    },
    {
     "name": "stdout",
     "output_type": "stream",
     "text": [
      "train metrics:      {'mse': 0.1338594939825304, 'mae_stars': 1.3918715425557584}\n",
      "validation metrics: {'mse': 0.13812339570315896, 'mae_stars': 1.4145074111109583}\n"
     ]
    },
    {
     "data": {
      "application/vnd.jupyter.widget-view+json": {
       "model_id": "896977dd4bc74bc0aeabffd41aeb6858",
       "version_major": 2,
       "version_minor": 0
      },
      "text/plain": [
       "train evaluation:   0%|          | 0/3829 [00:00<?, ?it/s]"
      ]
     },
     "metadata": {},
     "output_type": "display_data"
    },
    {
     "data": {
      "application/vnd.jupyter.widget-view+json": {
       "model_id": "2a6441cb6c0d42eaba3fc397c4526ef9",
       "version_major": 2,
       "version_minor": 0
      },
      "text/plain": [
       "validation evaluation:   0%|          | 0/3829 [00:00<?, ?it/s]"
      ]
     },
     "metadata": {},
     "output_type": "display_data"
    },
    {
     "name": "stdout",
     "output_type": "stream",
     "text": [
      "train metrics:      {'mse': 0.13335103058560488, 'mae_stars': 1.3891987165168111}\n",
      "validation metrics: {'mse': 0.1379327409496722, 'mae_stars': 1.413561559869154}\n"
     ]
    },
    {
     "data": {
      "application/vnd.jupyter.widget-view+json": {
       "model_id": "a09f8677b8d448c899f59bcef1fc8b25",
       "version_major": 2,
       "version_minor": 0
      },
      "text/plain": [
       "train evaluation:   0%|          | 0/3829 [00:00<?, ?it/s]"
      ]
     },
     "metadata": {},
     "output_type": "display_data"
    },
    {
     "data": {
      "application/vnd.jupyter.widget-view+json": {
       "model_id": "d48e6124172b4b1dbee1622692c19f95",
       "version_major": 2,
       "version_minor": 0
      },
      "text/plain": [
       "validation evaluation:   0%|          | 0/3829 [00:00<?, ?it/s]"
      ]
     },
     "metadata": {},
     "output_type": "display_data"
    },
    {
     "name": "stdout",
     "output_type": "stream",
     "text": [
      "train metrics:      {'mse': 0.13296757327510905, 'mae_stars': 1.3870875698120981}\n",
      "validation metrics: {'mse': 0.13789059922243105, 'mae_stars': 1.4133691378161564}\n"
     ]
    },
    {
     "data": {
      "application/vnd.jupyter.widget-view+json": {
       "model_id": "4d98332393704a0caf44448a50c44eb9",
       "version_major": 2,
       "version_minor": 0
      },
      "text/plain": [
       "epoch 4:   0%|          | 0/34455 [00:00<?, ?it/s]"
      ]
     },
     "metadata": {},
     "output_type": "display_data"
    },
    {
     "data": {
      "application/vnd.jupyter.widget-view+json": {
       "model_id": "ab7af46908a24ac6a06401b5898d2c85",
       "version_major": 2,
       "version_minor": 0
      },
      "text/plain": [
       "train evaluation:   0%|          | 0/3829 [00:00<?, ?it/s]"
      ]
     },
     "metadata": {},
     "output_type": "display_data"
    },
    {
     "data": {
      "application/vnd.jupyter.widget-view+json": {
       "model_id": "e7cd16fa71954ba890f3c6f4b4704a7e",
       "version_major": 2,
       "version_minor": 0
      },
      "text/plain": [
       "validation evaluation:   0%|          | 0/3829 [00:00<?, ?it/s]"
      ]
     },
     "metadata": {},
     "output_type": "display_data"
    },
    {
     "name": "stdout",
     "output_type": "stream",
     "text": [
      "train metrics:      {'mse': 0.1328107949320035, 'mae_stars': 1.3860466380161665}\n",
      "validation metrics: {'mse': 0.13743950381629863, 'mae_stars': 1.4110892740233694}\n"
     ]
    },
    {
     "data": {
      "application/vnd.jupyter.widget-view+json": {
       "model_id": "8b91f2cd4ab74e3baa001339730d1c36",
       "version_major": 2,
       "version_minor": 0
      },
      "text/plain": [
       "train evaluation:   0%|          | 0/3829 [00:00<?, ?it/s]"
      ]
     },
     "metadata": {},
     "output_type": "display_data"
    },
    {
     "data": {
      "application/vnd.jupyter.widget-view+json": {
       "model_id": "43e7b0a2315d417d9a80b55d5014c734",
       "version_major": 2,
       "version_minor": 0
      },
      "text/plain": [
       "validation evaluation:   0%|          | 0/3829 [00:00<?, ?it/s]"
      ]
     },
     "metadata": {},
     "output_type": "display_data"
    },
    {
     "name": "stdout",
     "output_type": "stream",
     "text": [
      "train metrics:      {'mse': 0.1326264979074069, 'mae_stars': 1.3855122486895572}\n",
      "validation metrics: {'mse': 0.13713748444267712, 'mae_stars': 1.409738239948729}\n"
     ]
    },
    {
     "data": {
      "application/vnd.jupyter.widget-view+json": {
       "model_id": "946ee7e003ef47c88efaf5ebeaf014f3",
       "version_major": 2,
       "version_minor": 0
      },
      "text/plain": [
       "epoch 5:   0%|          | 0/34455 [00:00<?, ?it/s]"
      ]
     },
     "metadata": {},
     "output_type": "display_data"
    },
    {
     "data": {
      "application/vnd.jupyter.widget-view+json": {
       "model_id": "bdff4cfa0e184c1c8366b6501bfa704c",
       "version_major": 2,
       "version_minor": 0
      },
      "text/plain": [
       "train evaluation:   0%|          | 0/3829 [00:00<?, ?it/s]"
      ]
     },
     "metadata": {},
     "output_type": "display_data"
    },
    {
     "data": {
      "application/vnd.jupyter.widget-view+json": {
       "model_id": "98d42349459b493ab7c68f8ca1bcc51b",
       "version_major": 2,
       "version_minor": 0
      },
      "text/plain": [
       "validation evaluation:   0%|          | 0/3829 [00:00<?, ?it/s]"
      ]
     },
     "metadata": {},
     "output_type": "display_data"
    },
    {
     "name": "stdout",
     "output_type": "stream",
     "text": [
      "train metrics:      {'mse': 0.13241319688750672, 'mae_stars': 1.3841073304905098}\n",
      "validation metrics: {'mse': 0.1370571072464607, 'mae_stars': 1.4094177310788685}\n"
     ]
    },
    {
     "data": {
      "application/vnd.jupyter.widget-view+json": {
       "model_id": "26d51a5abc3849f0941b26b261544c50",
       "version_major": 2,
       "version_minor": 0
      },
      "text/plain": [
       "train evaluation:   0%|          | 0/3829 [00:00<?, ?it/s]"
      ]
     },
     "metadata": {},
     "output_type": "display_data"
    },
    {
     "data": {
      "application/vnd.jupyter.widget-view+json": {
       "model_id": "c8858e3340b249e986d342a1a67925e3",
       "version_major": 2,
       "version_minor": 0
      },
      "text/plain": [
       "validation evaluation:   0%|          | 0/3829 [00:00<?, ?it/s]"
      ]
     },
     "metadata": {},
     "output_type": "display_data"
    },
    {
     "name": "stdout",
     "output_type": "stream",
     "text": [
      "train metrics:      {'mse': 0.13236457747683322, 'mae_stars': 1.3839328849586503}\n",
      "validation metrics: {'mse': 0.1369808052551438, 'mae_stars': 1.4087926828384898}\n"
     ]
    },
    {
     "data": {
      "application/vnd.jupyter.widget-view+json": {
       "model_id": "699f7c2c7aa945af93ca97f10718113b",
       "version_major": 2,
       "version_minor": 0
      },
      "text/plain": [
       "train evaluation:   0%|          | 0/3829 [00:00<?, ?it/s]"
      ]
     },
     "metadata": {},
     "output_type": "display_data"
    },
    {
     "data": {
      "application/vnd.jupyter.widget-view+json": {
       "model_id": "5165ea16fb134ee3aad6c3020975e750",
       "version_major": 2,
       "version_minor": 0
      },
      "text/plain": [
       "validation evaluation:   0%|          | 0/3829 [00:00<?, ?it/s]"
      ]
     },
     "metadata": {},
     "output_type": "display_data"
    },
    {
     "name": "stdout",
     "output_type": "stream",
     "text": [
      "train metrics:      {'mse': 0.13258457713881808, 'mae_stars': 1.3851385639304745}\n",
      "validation metrics: {'mse': 0.13755290748268856, 'mae_stars': 1.4118866499860718}\n"
     ]
    },
    {
     "data": {
      "application/vnd.jupyter.widget-view+json": {
       "model_id": "bc7999ad9efb498d86d3e35f492f59f3",
       "version_major": 2,
       "version_minor": 0
      },
      "text/plain": [
       "epoch 6:   0%|          | 0/34455 [00:00<?, ?it/s]"
      ]
     },
     "metadata": {},
     "output_type": "display_data"
    },
    {
     "data": {
      "application/vnd.jupyter.widget-view+json": {
       "model_id": "57de893da84e46a0bc2fa418e565382b",
       "version_major": 2,
       "version_minor": 0
      },
      "text/plain": [
       "train evaluation:   0%|          | 0/3829 [00:00<?, ?it/s]"
      ]
     },
     "metadata": {},
     "output_type": "display_data"
    },
    {
     "data": {
      "application/vnd.jupyter.widget-view+json": {
       "model_id": "54b2a4ba46f848c09144eaa40086b766",
       "version_major": 2,
       "version_minor": 0
      },
      "text/plain": [
       "validation evaluation:   0%|          | 0/3829 [00:00<?, ?it/s]"
      ]
     },
     "metadata": {},
     "output_type": "display_data"
    },
    {
     "name": "stdout",
     "output_type": "stream",
     "text": [
      "train metrics:      {'mse': 0.13243107687021305, 'mae_stars': 1.384488394784068}\n",
      "validation metrics: {'mse': 0.13728658580988623, 'mae_stars': 1.4101795919354325}\n"
     ]
    },
    {
     "data": {
      "application/vnd.jupyter.widget-view+json": {
       "model_id": "a6d3978101834a18938e9ac13183453a",
       "version_major": 2,
       "version_minor": 0
      },
      "text/plain": [
       "train evaluation:   0%|          | 0/3829 [00:00<?, ?it/s]"
      ]
     },
     "metadata": {},
     "output_type": "display_data"
    },
    {
     "data": {
      "application/vnd.jupyter.widget-view+json": {
       "model_id": "312e15aa451945158ba841c6f25597e1",
       "version_major": 2,
       "version_minor": 0
      },
      "text/plain": [
       "validation evaluation:   0%|          | 0/3829 [00:00<?, ?it/s]"
      ]
     },
     "metadata": {},
     "output_type": "display_data"
    },
    {
     "name": "stdout",
     "output_type": "stream",
     "text": [
      "train metrics:      {'mse': 0.1326270870870229, 'mae_stars': 1.3853622141784774}\n",
      "validation metrics: {'mse': 0.1374406270929932, 'mae_stars': 1.411262867873504}\n"
     ]
    },
    {
     "data": {
      "application/vnd.jupyter.widget-view+json": {
       "model_id": "55586472e5cd4487a59a5fb69d5606d6",
       "version_major": 2,
       "version_minor": 0
      },
      "text/plain": [
       "train evaluation:   0%|          | 0/3829 [00:00<?, ?it/s]"
      ]
     },
     "metadata": {},
     "output_type": "display_data"
    },
    {
     "data": {
      "application/vnd.jupyter.widget-view+json": {
       "model_id": "413db6674f91473c9f5aeb2e5bad4365",
       "version_major": 2,
       "version_minor": 0
      },
      "text/plain": [
       "validation evaluation:   0%|          | 0/3829 [00:00<?, ?it/s]"
      ]
     },
     "metadata": {},
     "output_type": "display_data"
    },
    {
     "name": "stdout",
     "output_type": "stream",
     "text": [
      "train metrics:      {'mse': 0.13230670554445195, 'mae_stars': 1.3837584925557154}\n",
      "validation metrics: {'mse': 0.13740053390181697, 'mae_stars': 1.4110282857382568}\n"
     ]
    },
    {
     "data": {
      "application/vnd.jupyter.widget-view+json": {
       "model_id": "be9dad6aac454a1386e125e567d8aee9",
       "version_major": 2,
       "version_minor": 0
      },
      "text/plain": [
       "epoch 7:   0%|          | 0/34455 [00:00<?, ?it/s]"
      ]
     },
     "metadata": {},
     "output_type": "display_data"
    },
    {
     "data": {
      "application/vnd.jupyter.widget-view+json": {
       "model_id": "dcc179490353460286dcc33efbfcfe78",
       "version_major": 2,
       "version_minor": 0
      },
      "text/plain": [
       "train evaluation:   0%|          | 0/3829 [00:00<?, ?it/s]"
      ]
     },
     "metadata": {},
     "output_type": "display_data"
    },
    {
     "data": {
      "application/vnd.jupyter.widget-view+json": {
       "model_id": "dfd4d86fa68945ffaabca10fbe8a28ae",
       "version_major": 2,
       "version_minor": 0
      },
      "text/plain": [
       "validation evaluation:   0%|          | 0/3829 [00:00<?, ?it/s]"
      ]
     },
     "metadata": {},
     "output_type": "display_data"
    },
    {
     "name": "stdout",
     "output_type": "stream",
     "text": [
      "train metrics:      {'mse': 0.13210678530614225, 'mae_stars': 1.3826548968353978}\n",
      "validation metrics: {'mse': 0.13700368796511958, 'mae_stars': 1.4087902513923953}\n"
     ]
    },
    {
     "data": {
      "application/vnd.jupyter.widget-view+json": {
       "model_id": "889501048e9c42a0872668fbdf480be2",
       "version_major": 2,
       "version_minor": 0
      },
      "text/plain": [
       "train evaluation:   0%|          | 0/3829 [00:00<?, ?it/s]"
      ]
     },
     "metadata": {},
     "output_type": "display_data"
    },
    {
     "data": {
      "application/vnd.jupyter.widget-view+json": {
       "model_id": "64999ad8cf5f46deb77cfb90e11fb0da",
       "version_major": 2,
       "version_minor": 0
      },
      "text/plain": [
       "validation evaluation:   0%|          | 0/3829 [00:00<?, ?it/s]"
      ]
     },
     "metadata": {},
     "output_type": "display_data"
    },
    {
     "name": "stdout",
     "output_type": "stream",
     "text": [
      "train metrics:      {'mse': 0.13206383492140897, 'mae_stars': 1.3826336347113455}\n",
      "validation metrics: {'mse': 0.13691346000779792, 'mae_stars': 1.4086978708399467}\n"
     ]
    },
    {
     "data": {
      "application/vnd.jupyter.widget-view+json": {
       "model_id": "30af41efc10a4f43afe0d4604fe38365",
       "version_major": 2,
       "version_minor": 0
      },
      "text/plain": [
       "train evaluation:   0%|          | 0/3829 [00:00<?, ?it/s]"
      ]
     },
     "metadata": {},
     "output_type": "display_data"
    },
    {
     "data": {
      "application/vnd.jupyter.widget-view+json": {
       "model_id": "38d284b19f24426da83d2a67839687ea",
       "version_major": 2,
       "version_minor": 0
      },
      "text/plain": [
       "validation evaluation:   0%|          | 0/3829 [00:00<?, ?it/s]"
      ]
     },
     "metadata": {},
     "output_type": "display_data"
    },
    {
     "name": "stdout",
     "output_type": "stream",
     "text": [
      "train metrics:      {'mse': 0.13199305048683785, 'mae_stars': 1.3824357317707563}\n",
      "validation metrics: {'mse': 0.13647035330331614, 'mae_stars': 1.4064547978234558}\n"
     ]
    },
    {
     "data": {
      "application/vnd.jupyter.widget-view+json": {
       "model_id": "0c938987b0e2462eafee9caeb1379738",
       "version_major": 2,
       "version_minor": 0
      },
      "text/plain": [
       "epoch 8:   0%|          | 0/34455 [00:00<?, ?it/s]"
      ]
     },
     "metadata": {},
     "output_type": "display_data"
    },
    {
     "data": {
      "application/vnd.jupyter.widget-view+json": {
       "model_id": "241a0886a8a34efbbae773140f733cf6",
       "version_major": 2,
       "version_minor": 0
      },
      "text/plain": [
       "train evaluation:   0%|          | 0/3829 [00:00<?, ?it/s]"
      ]
     },
     "metadata": {},
     "output_type": "display_data"
    },
    {
     "data": {
      "application/vnd.jupyter.widget-view+json": {
       "model_id": "0bd81a770f894e7cb6d9a9b4bcf95a04",
       "version_major": 2,
       "version_minor": 0
      },
      "text/plain": [
       "validation evaluation:   0%|          | 0/3829 [00:00<?, ?it/s]"
      ]
     },
     "metadata": {},
     "output_type": "display_data"
    },
    {
     "name": "stdout",
     "output_type": "stream",
     "text": [
      "train metrics:      {'mse': 0.13154346722945062, 'mae_stars': 1.380117439529422}\n",
      "validation metrics: {'mse': 0.13631329930234934, 'mae_stars': 1.4055721253413511}\n"
     ]
    },
    {
     "data": {
      "application/vnd.jupyter.widget-view+json": {
       "model_id": "fbf415ad405e4be7babe670aca706af7",
       "version_major": 2,
       "version_minor": 0
      },
      "text/plain": [
       "train evaluation:   0%|          | 0/3829 [00:00<?, ?it/s]"
      ]
     },
     "metadata": {},
     "output_type": "display_data"
    },
    {
     "data": {
      "application/vnd.jupyter.widget-view+json": {
       "model_id": "bf01e25911d14af593ba1ff3dddee37a",
       "version_major": 2,
       "version_minor": 0
      },
      "text/plain": [
       "validation evaluation:   0%|          | 0/3829 [00:00<?, ?it/s]"
      ]
     },
     "metadata": {},
     "output_type": "display_data"
    },
    {
     "name": "stdout",
     "output_type": "stream",
     "text": [
      "train metrics:      {'mse': 0.13169107487686435, 'mae_stars': 1.3807538291218076}\n",
      "validation metrics: {'mse': 0.1365590615698581, 'mae_stars': 1.4067478406893177}\n"
     ]
    },
    {
     "data": {
      "application/vnd.jupyter.widget-view+json": {
       "model_id": "0a6d87321ecc489fb966465224007551",
       "version_major": 2,
       "version_minor": 0
      },
      "text/plain": [
       "epoch 9:   0%|          | 0/34455 [00:00<?, ?it/s]"
      ]
     },
     "metadata": {},
     "output_type": "display_data"
    },
    {
     "data": {
      "application/vnd.jupyter.widget-view+json": {
       "model_id": "0c662c6522c043a884cb63b453743ba7",
       "version_major": 2,
       "version_minor": 0
      },
      "text/plain": [
       "train evaluation:   0%|          | 0/3829 [00:00<?, ?it/s]"
      ]
     },
     "metadata": {},
     "output_type": "display_data"
    },
    {
     "data": {
      "application/vnd.jupyter.widget-view+json": {
       "model_id": "09491d2be9054ac29fda4ddc62eb0507",
       "version_major": 2,
       "version_minor": 0
      },
      "text/plain": [
       "validation evaluation:   0%|          | 0/3829 [00:00<?, ?it/s]"
      ]
     },
     "metadata": {},
     "output_type": "display_data"
    },
    {
     "name": "stdout",
     "output_type": "stream",
     "text": [
      "train metrics:      {'mse': 0.13163217275042732, 'mae_stars': 1.3805716379593544}\n",
      "validation metrics: {'mse': 0.13643643405355588, 'mae_stars': 1.4062886592706085}\n"
     ]
    },
    {
     "data": {
      "application/vnd.jupyter.widget-view+json": {
       "model_id": "de64ba9f8f9a404baf393f3f70554b22",
       "version_major": 2,
       "version_minor": 0
      },
      "text/plain": [
       "train evaluation:   0%|          | 0/3829 [00:00<?, ?it/s]"
      ]
     },
     "metadata": {},
     "output_type": "display_data"
    },
    {
     "data": {
      "application/vnd.jupyter.widget-view+json": {
       "model_id": "d76cf81198d84ef380ee0a5c7f9844e7",
       "version_major": 2,
       "version_minor": 0
      },
      "text/plain": [
       "validation evaluation:   0%|          | 0/3829 [00:00<?, ?it/s]"
      ]
     },
     "metadata": {},
     "output_type": "display_data"
    },
    {
     "name": "stdout",
     "output_type": "stream",
     "text": [
      "train metrics:      {'mse': 0.13157790586776538, 'mae_stars': 1.3800329198317978}\n",
      "validation metrics: {'mse': 0.1359961824100022, 'mae_stars': 1.4039188185694573}\n"
     ]
    },
    {
     "data": {
      "application/vnd.jupyter.widget-view+json": {
       "model_id": "eb0bb9fbecd34a179f0c67956cf15e67",
       "version_major": 2,
       "version_minor": 0
      },
      "text/plain": [
       "train evaluation:   0%|          | 0/3829 [00:00<?, ?it/s]"
      ]
     },
     "metadata": {},
     "output_type": "display_data"
    },
    {
     "data": {
      "application/vnd.jupyter.widget-view+json": {
       "model_id": "f3f75b7d34a94c17adaba18e08eaf17c",
       "version_major": 2,
       "version_minor": 0
      },
      "text/plain": [
       "validation evaluation:   0%|          | 0/3829 [00:00<?, ?it/s]"
      ]
     },
     "metadata": {},
     "output_type": "display_data"
    },
    {
     "name": "stdout",
     "output_type": "stream",
     "text": [
      "train metrics:      {'mse': 0.13156927269964935, 'mae_stars': 1.3802196153090063}\n",
      "validation metrics: {'mse': 0.13627865587911583, 'mae_stars': 1.4054418853164248}\n"
     ]
    },
    {
     "data": {
      "application/vnd.jupyter.widget-view+json": {
       "model_id": "7390b893083e4dd68eb4e7545dc856a4",
       "version_major": 2,
       "version_minor": 0
      },
      "text/plain": [
       "epoch 10:   0%|          | 0/34455 [00:00<?, ?it/s]"
      ]
     },
     "metadata": {},
     "output_type": "display_data"
    },
    {
     "data": {
      "application/vnd.jupyter.widget-view+json": {
       "model_id": "8e643d8ac3fc4028af1a12017eb0d065",
       "version_major": 2,
       "version_minor": 0
      },
      "text/plain": [
       "train evaluation:   0%|          | 0/3829 [00:00<?, ?it/s]"
      ]
     },
     "metadata": {},
     "output_type": "display_data"
    },
    {
     "data": {
      "application/vnd.jupyter.widget-view+json": {
       "model_id": "32b16286b7c64021b69add03817696f8",
       "version_major": 2,
       "version_minor": 0
      },
      "text/plain": [
       "validation evaluation:   0%|          | 0/3829 [00:00<?, ?it/s]"
      ]
     },
     "metadata": {},
     "output_type": "display_data"
    },
    {
     "name": "stdout",
     "output_type": "stream",
     "text": [
      "train metrics:      {'mse': 0.13150855987781518, 'mae_stars': 1.380005461751216}\n",
      "validation metrics: {'mse': 0.13626010397234609, 'mae_stars': 1.4050617051610252}\n"
     ]
    },
    {
     "data": {
      "application/vnd.jupyter.widget-view+json": {
       "model_id": "e06d34baa76344c4b170b3c7b4dd4a71",
       "version_major": 2,
       "version_minor": 0
      },
      "text/plain": [
       "train evaluation:   0%|          | 0/3829 [00:00<?, ?it/s]"
      ]
     },
     "metadata": {},
     "output_type": "display_data"
    },
    {
     "data": {
      "application/vnd.jupyter.widget-view+json": {
       "model_id": "8355441441dc4a1891251d3c0e37f914",
       "version_major": 2,
       "version_minor": 0
      },
      "text/plain": [
       "validation evaluation:   0%|          | 0/3829 [00:00<?, ?it/s]"
      ]
     },
     "metadata": {},
     "output_type": "display_data"
    },
    {
     "name": "stdout",
     "output_type": "stream",
     "text": [
      "train metrics:      {'mse': 0.13138822008670545, 'mae_stars': 1.37894989140322}\n",
      "validation metrics: {'mse': 0.13600253849855817, 'mae_stars': 1.4036825210377515}\n"
     ]
    },
    {
     "data": {
      "application/vnd.jupyter.widget-view+json": {
       "model_id": "0c1602441f4f444f91c95d53bacf8978",
       "version_major": 2,
       "version_minor": 0
      },
      "text/plain": [
       "train evaluation:   0%|          | 0/3829 [00:00<?, ?it/s]"
      ]
     },
     "metadata": {},
     "output_type": "display_data"
    },
    {
     "data": {
      "application/vnd.jupyter.widget-view+json": {
       "model_id": "a31b12baa4ab40e3874e5979fd42de39",
       "version_major": 2,
       "version_minor": 0
      },
      "text/plain": [
       "validation evaluation:   0%|          | 0/3829 [00:00<?, ?it/s]"
      ]
     },
     "metadata": {},
     "output_type": "display_data"
    },
    {
     "name": "stdout",
     "output_type": "stream",
     "text": [
      "train metrics:      {'mse': 0.1315935746625311, 'mae_stars': 1.3802220279973056}\n",
      "validation metrics: {'mse': 0.13608013028480825, 'mae_stars': 1.404575894725139}\n"
     ]
    },
    {
     "data": {
      "application/vnd.jupyter.widget-view+json": {
       "model_id": "c185feda76e84cada7b6f0b8d41760d7",
       "version_major": 2,
       "version_minor": 0
      },
      "text/plain": [
       "epoch 11:   0%|          | 0/34455 [00:00<?, ?it/s]"
      ]
     },
     "metadata": {},
     "output_type": "display_data"
    },
    {
     "data": {
      "application/vnd.jupyter.widget-view+json": {
       "model_id": "b32e129f1f0d4861a686c82e13f3a685",
       "version_major": 2,
       "version_minor": 0
      },
      "text/plain": [
       "train evaluation:   0%|          | 0/3829 [00:00<?, ?it/s]"
      ]
     },
     "metadata": {},
     "output_type": "display_data"
    },
    {
     "data": {
      "application/vnd.jupyter.widget-view+json": {
       "model_id": "b3251d204762498eb56ccc2eb55006dc",
       "version_major": 2,
       "version_minor": 0
      },
      "text/plain": [
       "validation evaluation:   0%|          | 0/3829 [00:00<?, ?it/s]"
      ]
     },
     "metadata": {},
     "output_type": "display_data"
    },
    {
     "name": "stdout",
     "output_type": "stream",
     "text": [
      "train metrics:      {'mse': 0.13119663598176923, 'mae_stars': 1.3783125269347614}\n",
      "validation metrics: {'mse': 0.13615182967558329, 'mae_stars': 1.404764423049066}\n"
     ]
    },
    {
     "data": {
      "application/vnd.jupyter.widget-view+json": {
       "model_id": "07c53434a96a42d2b3873c498df31a33",
       "version_major": 2,
       "version_minor": 0
      },
      "text/plain": [
       "train evaluation:   0%|          | 0/3829 [00:00<?, ?it/s]"
      ]
     },
     "metadata": {},
     "output_type": "display_data"
    },
    {
     "data": {
      "application/vnd.jupyter.widget-view+json": {
       "model_id": "c298c27140f34144abed77804ac218b3",
       "version_major": 2,
       "version_minor": 0
      },
      "text/plain": [
       "validation evaluation:   0%|          | 0/3829 [00:00<?, ?it/s]"
      ]
     },
     "metadata": {},
     "output_type": "display_data"
    },
    {
     "name": "stdout",
     "output_type": "stream",
     "text": [
      "train metrics:      {'mse': 0.1310456905248396, 'mae_stars': 1.3773348581451572}\n",
      "validation metrics: {'mse': 0.13592685897416001, 'mae_stars': 1.403352489823864}\n"
     ]
    },
    {
     "data": {
      "application/vnd.jupyter.widget-view+json": {
       "model_id": "ab24bc3b49404888b3405197d1408198",
       "version_major": 2,
       "version_minor": 0
      },
      "text/plain": [
       "train evaluation:   0%|          | 0/3829 [00:00<?, ?it/s]"
      ]
     },
     "metadata": {},
     "output_type": "display_data"
    },
    {
     "data": {
      "application/vnd.jupyter.widget-view+json": {
       "model_id": "64bc3591ea194da989c05906b33b204d",
       "version_major": 2,
       "version_minor": 0
      },
      "text/plain": [
       "validation evaluation:   0%|          | 0/3829 [00:00<?, ?it/s]"
      ]
     },
     "metadata": {},
     "output_type": "display_data"
    },
    {
     "name": "stdout",
     "output_type": "stream",
     "text": [
      "train metrics:      {'mse': 0.1315063276457301, 'mae_stars': 1.3797840281920135}\n",
      "validation metrics: {'mse': 0.13611126986869043, 'mae_stars': 1.4047661539810263}\n"
     ]
    },
    {
     "data": {
      "application/vnd.jupyter.widget-view+json": {
       "model_id": "4ea3c8165e1c4b9bbea0c11d8ac6f84d",
       "version_major": 2,
       "version_minor": 0
      },
      "text/plain": [
       "epoch 12:   0%|          | 0/34455 [00:00<?, ?it/s]"
      ]
     },
     "metadata": {},
     "output_type": "display_data"
    },
    {
     "data": {
      "application/vnd.jupyter.widget-view+json": {
       "model_id": "d2f0156096a14bcbb8f6a2fc66c7efce",
       "version_major": 2,
       "version_minor": 0
      },
      "text/plain": [
       "train evaluation:   0%|          | 0/3829 [00:00<?, ?it/s]"
      ]
     },
     "metadata": {},
     "output_type": "display_data"
    },
    {
     "data": {
      "application/vnd.jupyter.widget-view+json": {
       "model_id": "7e494ce8d67147c29cad5db2eb64e38f",
       "version_major": 2,
       "version_minor": 0
      },
      "text/plain": [
       "validation evaluation:   0%|          | 0/3829 [00:00<?, ?it/s]"
      ]
     },
     "metadata": {},
     "output_type": "display_data"
    },
    {
     "name": "stdout",
     "output_type": "stream",
     "text": [
      "train metrics:      {'mse': 0.13122184861030114, 'mae_stars': 1.3781003946889379}\n",
      "validation metrics: {'mse': 0.13601310313969936, 'mae_stars': 1.4039233851351853}\n"
     ]
    },
    {
     "data": {
      "application/vnd.jupyter.widget-view+json": {
       "model_id": "a314dfdf0fad470399178b9aaeb7cf86",
       "version_major": 2,
       "version_minor": 0
      },
      "text/plain": [
       "train evaluation:   0%|          | 0/3829 [00:00<?, ?it/s]"
      ]
     },
     "metadata": {},
     "output_type": "display_data"
    },
    {
     "data": {
      "application/vnd.jupyter.widget-view+json": {
       "model_id": "ed8bd6da3d6c40f8b08d4233e786919a",
       "version_major": 2,
       "version_minor": 0
      },
      "text/plain": [
       "validation evaluation:   0%|          | 0/3829 [00:00<?, ?it/s]"
      ]
     },
     "metadata": {},
     "output_type": "display_data"
    },
    {
     "name": "stdout",
     "output_type": "stream",
     "text": [
      "train metrics:      {'mse': 0.1312541563222445, 'mae_stars': 1.3787118163174827}\n",
      "validation metrics: {'mse': 0.13639763811178512, 'mae_stars': 1.4062514528184624}\n"
     ]
    },
    {
     "data": {
      "application/vnd.jupyter.widget-view+json": {
       "model_id": "1a03e1fb61a846f488b35fa311520bb2",
       "version_major": 2,
       "version_minor": 0
      },
      "text/plain": [
       "epoch 13:   0%|          | 0/34455 [00:00<?, ?it/s]"
      ]
     },
     "metadata": {},
     "output_type": "display_data"
    },
    {
     "data": {
      "application/vnd.jupyter.widget-view+json": {
       "model_id": "a7881ecd11254a47b4f65f8a73f755a1",
       "version_major": 2,
       "version_minor": 0
      },
      "text/plain": [
       "train evaluation:   0%|          | 0/3829 [00:00<?, ?it/s]"
      ]
     },
     "metadata": {},
     "output_type": "display_data"
    },
    {
     "data": {
      "application/vnd.jupyter.widget-view+json": {
       "model_id": "4ee85efdec1c4445b7c94c7fde56cffd",
       "version_major": 2,
       "version_minor": 0
      },
      "text/plain": [
       "validation evaluation:   0%|          | 0/3829 [00:00<?, ?it/s]"
      ]
     },
     "metadata": {},
     "output_type": "display_data"
    },
    {
     "name": "stdout",
     "output_type": "stream",
     "text": [
      "train metrics:      {'mse': 0.1314029836680348, 'mae_stars': 1.3792965188758683}\n",
      "validation metrics: {'mse': 0.13657375377232925, 'mae_stars': 1.4070892150142418}\n"
     ]
    },
    {
     "data": {
      "text/plain": [
       "Model(\n",
       "  (movies_weights): Embedding(8670, 100)\n",
       "  (users_weights): Embedding(22222, 100)\n",
       ")"
      ]
     },
     "execution_count": 111,
     "metadata": {},
     "output_type": "execute_result"
    }
   ],
   "source": [
    "trainer.train(loader_train, loader_train_mini, loader_valid)"
   ]
  },
  {
   "cell_type": "code",
   "execution_count": null,
   "metadata": {},
   "outputs": [],
   "source": []
  }
 ],
 "metadata": {
  "interpreter": {
   "hash": "ac41bbbcefc99109c907fdabb34e4468b7c5711414ea0b5f9d02fdd6869e5cad"
  },
  "kernelspec": {
   "display_name": "Python 3.9.7 ('env': venv)",
   "language": "python",
   "name": "python3"
  },
  "language_info": {
   "codemirror_mode": {
    "name": "ipython",
    "version": 3
   },
   "file_extension": ".py",
   "mimetype": "text/x-python",
   "name": "python",
   "nbconvert_exporter": "python",
   "pygments_lexer": "ipython3",
   "version": "3.9.7"
  },
  "orig_nbformat": 4
 },
 "nbformat": 4,
 "nbformat_minor": 2
}
