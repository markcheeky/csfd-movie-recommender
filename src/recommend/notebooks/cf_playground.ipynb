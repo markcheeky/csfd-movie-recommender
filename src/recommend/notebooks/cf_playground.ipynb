{
 "cells": [
  {
   "cell_type": "code",
   "execution_count": null,
   "metadata": {},
   "outputs": [],
   "source": [
    "from typing import Tuple\n",
    "\n",
    "import numpy as np\n",
    "import sklearn\n",
    "import sklearn.model_selection\n",
    "import torch\n",
    "import torch.nn.functional as F\n",
    "from tqdm.notebook import tqdm\n",
    "import pandas as pd\n",
    "\n",
    "from recommend.utils import PROJ_ROOT"
   ]
  },
  {
   "cell_type": "code",
   "execution_count": null,
   "metadata": {},
   "outputs": [],
   "source": [
    "ratings = pd.read_pickle(f\"{PROJ_ROOT}/data/ratings.pkl\")"
   ]
  },
  {
   "cell_type": "code",
   "execution_count": null,
   "metadata": {},
   "outputs": [],
   "source": [
    "ratings.shape"
   ]
  },
  {
   "cell_type": "code",
   "execution_count": null,
   "metadata": {},
   "outputs": [],
   "source": [
    "def filter_ratings(ratings: pd.DataFrame, min_user_ratings: int, min_movie_ratings: int) -> pd.DataFrame:\n",
    "    ratings = ratings.dropna()\n",
    "\n",
    "    user_rating_count = ratings.groupby(\"username\").size()\n",
    "    worthy_users = set(user_rating_count[user_rating_count >= min_user_ratings].index)\n",
    "    ratings = ratings.loc[ratings.username.isin(worthy_users)]\n",
    "\n",
    "    movie_rating_count = ratings.groupby(\"movie_id\").size()\n",
    "    worthy_movies = set(movie_rating_count[movie_rating_count >= min_movie_ratings].index)\n",
    "    ratings = ratings.loc[ratings.movie_id.isin(worthy_movies)]\n",
    "    \n",
    "    return ratings"
   ]
  },
  {
   "cell_type": "code",
   "execution_count": null,
   "metadata": {},
   "outputs": [],
   "source": [
    "ratings = filter_ratings(ratings, 10, 10)"
   ]
  },
  {
   "cell_type": "code",
   "execution_count": null,
   "metadata": {},
   "outputs": [],
   "source": [
    "ratings.shape"
   ]
  },
  {
   "cell_type": "code",
   "execution_count": null,
   "metadata": {},
   "outputs": [],
   "source": [
    "ratings_train, ratings_test = sklearn.model_selection.train_test_split(\n",
    "    ratings,\n",
    "    test_size=0.1,\n",
    "    shuffle=True,\n",
    "    random_state=0,\n",
    ")\n",
    "\n",
    "ratings_train, ratings_valid = sklearn.model_selection.train_test_split(\n",
    "    ratings_train,\n",
    "    test_size=0.1,\n",
    "    shuffle=True,\n",
    "    random_state=0,\n",
    ")"
   ]
  },
  {
   "cell_type": "code",
   "execution_count": null,
   "metadata": {},
   "outputs": [],
   "source": [
    "idx2movie = pd.Series(ratings.movie_id.unique())\n",
    "movie2idx = pd.Series(idx2movie.index.values, index=idx2movie.values)\n",
    "movie2idx.head()"
   ]
  },
  {
   "cell_type": "code",
   "execution_count": null,
   "metadata": {},
   "outputs": [],
   "source": [
    "idx2user = pd.Series(ratings.username.unique())\n",
    "user2idx = pd.Series(idx2user.index.values, index=idx2user.values)\n",
    "user2idx.head()\n"
   ]
  },
  {
   "cell_type": "code",
   "execution_count": null,
   "metadata": {},
   "outputs": [],
   "source": [
    "random_gen = np.random.default_rng(seed=42)\n",
    "\n",
    "num_features = 100\n",
    "\n",
    "movies_shape = len(movie2idx), num_features\n",
    "movies = torch.from_numpy(\n",
    "    random_gen.standard_normal(movies_shape, dtype=np.float32).clip(-2, 2)\n",
    ")\n",
    "\n",
    "users_shape = len(user2idx), num_features\n",
    "users = torch.from_numpy(\n",
    "    random_gen.standard_normal(users_shape, dtype=np.float32).clip(-2, 2)\n",
    ")\n"
   ]
  },
  {
   "cell_type": "code",
   "execution_count": null,
   "metadata": {},
   "outputs": [],
   "source": [
    "device = 'cuda'\n",
    "movies = movies.to(device).requires_grad_()\n",
    "users = users.to(device).requires_grad_()\n",
    "None"
   ]
  },
  {
   "cell_type": "code",
   "execution_count": null,
   "metadata": {},
   "outputs": [],
   "source": [
    "optim = torch.optim.Adam(\n",
    "    params=[movies, users],\n",
    "    lr=1e-4,\n",
    ")"
   ]
  },
  {
   "cell_type": "code",
   "execution_count": null,
   "metadata": {},
   "outputs": [],
   "source": [
    "ratings_train.head()"
   ]
  },
  {
   "cell_type": "code",
   "execution_count": null,
   "metadata": {},
   "outputs": [],
   "source": [
    "class RatingDataset(torch.utils.data.Dataset): \n",
    "\n",
    "    def __init__(self, df_ratings: pd.DataFrame, movie2idx: pd.Series, user2idx: pd.Series):\n",
    "        self.df_ratings = df_ratings\n",
    "        self.movie2idx = movie2idx\n",
    "        self.user2idx = user2idx\n",
    "\n",
    "    def __len__(self) -> int:\n",
    "        return len(self.df_ratings)\n",
    "\n",
    "    def __getitem__(self, idx: int) -> Tuple[int, int, float]:\n",
    "        row = self.df_ratings.iloc[idx]\n",
    "        idx_movie = self.movie2idx[row.movie_id]\n",
    "        idx_user = self.user2idx[row.username]\n",
    "        rating = (row.stars / 5.0).astype(np.float32)\n",
    "        return idx_movie, idx_user, rating"
   ]
  },
  {
   "cell_type": "code",
   "execution_count": null,
   "metadata": {},
   "outputs": [],
   "source": [
    "ds_train = RatingDataset(ratings_train, movie2idx, user2idx)\n",
    "ds_valid = RatingDataset(ratings_valid, movie2idx, user2idx)\n",
    "ds_test = RatingDataset(ratings_test, movie2idx, user2idx)\n",
    "\n",
    "ds_train_mini = torch.utils.data.Subset(\n",
    "    ds_train,\n",
    "    np.random.default_rng(0).choice(len(ds_train), len(ds_valid), replace=False)\n",
    ")"
   ]
  },
  {
   "cell_type": "code",
   "execution_count": null,
   "metadata": {},
   "outputs": [],
   "source": [
    "len(ds_train), len(ds_valid), len(ds_test), len(ds_train_mini)"
   ]
  },
  {
   "cell_type": "code",
   "execution_count": null,
   "metadata": {},
   "outputs": [],
   "source": [
    "ds_train[0]"
   ]
  },
  {
   "cell_type": "code",
   "execution_count": null,
   "metadata": {},
   "outputs": [],
   "source": [
    "batch_size = 64\n",
    "\n",
    "def collate_move(device):\n",
    "    def collate(*params):\n",
    "        movie_idx, user_idx, rating = torch.utils.data.default_collate(*params)\n",
    "        return movie_idx.to(device), user_idx.to(device), rating.to(device)\n",
    "    return collate\n",
    "\n",
    "\n",
    "loader_train = torch.utils.data.DataLoader(ds_train, batch_size, collate_fn=collate_move(device))\n",
    "loader_valid = torch.utils.data.DataLoader(ds_valid, batch_size, collate_fn=collate_move(device))\n",
    "loader_test = torch.utils.data.DataLoader(ds_test, batch_size, collate_fn=collate_move(device))\n",
    "\n",
    "loader_train_mini = torch.utils.data.DataLoader(ds_train_mini, batch_size, collate_fn=collate_move(device))"
   ]
  },
  {
   "cell_type": "code",
   "execution_count": null,
   "metadata": {},
   "outputs": [],
   "source": [
    "len(loader_train), len(loader_valid), len(loader_test), len(loader_train_mini)"
   ]
  },
  {
   "cell_type": "code",
   "execution_count": null,
   "metadata": {},
   "outputs": [],
   "source": [
    "def evaluate(movies, users, loader, desc, leave) -> float:\n",
    "    total_loss = 0.0\n",
    "    with torch.no_grad():\n",
    "        for movie_idx, user_idx, rating in tqdm(loader, desc=desc, leave=leave, position=1):\n",
    "            m = movies[movie_idx]\n",
    "            u = users[user_idx]\n",
    "            pred = torch.sigmoid((m * u).sum(-1))\n",
    "            total_loss += F.mse_loss(pred, rating).cpu().item()\n",
    "    return total_loss / len(loader)\n"
   ]
  },
  {
   "cell_type": "code",
   "execution_count": null,
   "metadata": {},
   "outputs": [],
   "source": [
    "\n",
    "\"\"\"\n",
    "class Trainer:\n",
    "    def __init__(movies, users, loader_train, loader_valid):\n",
    "        self.movies = movies\n",
    "        self.users = users\n",
    "\"\"\"\n",
    "\n",
    "patience = 5\n",
    "step = 0\n",
    "losses_train = []\n",
    "losses_valid = []\n",
    "past_movies = []\n",
    "past_users = []\n",
    "for epoch in range(25):\n",
    "    for movie_idx, user_idx, rating in tqdm(loader_train, desc=f\"epoch {epoch}\", position=0):\n",
    "        step += 1\n",
    "        m = movies[movie_idx]\n",
    "        u = users[user_idx]\n",
    "        pred = torch.sigmoid((m * u).sum(-1))\n",
    "        loss = F.mse_loss(pred, rating)\n",
    "        loss.backward()\n",
    "        optim.step()\n",
    "        optim.zero_grad()\n",
    "        if step % 12500 == 0:\n",
    "            losses_train.append(evaluate(movies, users, loader_train_mini, \"train evaluation\", leave=False))\n",
    "            losses_valid.append(evaluate(movies, users, loader_valid, \"validation evaluation\", leave=False))\n",
    "            print(f\"train loss: {losses_train[-1]:.4f}, validation loss: {losses_valid[-1]:.4f}\")\n",
    "            past_movies.append(movies.clone().detach().cpu())\n",
    "            past_users.append(users.clone().detach().cpu())\n",
    "            if len(losses_valid) >= patience:\n",
    "                past_movies.pop(0)\n",
    "                past_users.pop(0)\n",
    "                last_n = losses_valid[-patience:]\n",
    "                if np.argmax(last_n) == 0:\n",
    "                    break\n"
   ]
  },
  {
   "cell_type": "code",
   "execution_count": null,
   "metadata": {},
   "outputs": [],
   "source": []
  }
 ],
 "metadata": {
  "interpreter": {
   "hash": "ac41bbbcefc99109c907fdabb34e4468b7c5711414ea0b5f9d02fdd6869e5cad"
  },
  "kernelspec": {
   "display_name": "Python 3.9.7 ('env': venv)",
   "language": "python",
   "name": "python3"
  },
  "language_info": {
   "codemirror_mode": {
    "name": "ipython",
    "version": 3
   },
   "file_extension": ".py",
   "mimetype": "text/x-python",
   "name": "python",
   "nbconvert_exporter": "python",
   "pygments_lexer": "ipython3",
   "version": "3.9.7"
  },
  "orig_nbformat": 4
 },
 "nbformat": 4,
 "nbformat_minor": 2
}
