{
 "cells": [
  {
   "cell_type": "code",
   "execution_count": 1,
   "metadata": {},
   "outputs": [],
   "source": [
    "import numpy as np\n",
    "import pandas as pd\n",
    "import sklearn\n",
    "import sklearn.model_selection\n",
    "\n",
    "from recommend.utils import PROJ_ROOT\n",
    "from recommend.cf_recommenders import CFBaseline, CFGradFactor"
   ]
  },
  {
   "cell_type": "code",
   "execution_count": 2,
   "metadata": {},
   "outputs": [],
   "source": [
    "ratings = pd.read_pickle(f\"{PROJ_ROOT}/data/ratings.pkl\")"
   ]
  },
  {
   "cell_type": "code",
   "execution_count": 3,
   "metadata": {},
   "outputs": [
    {
     "data": {
      "text/plain": [
       "(2797751, 5)"
      ]
     },
     "execution_count": 3,
     "metadata": {},
     "output_type": "execute_result"
    }
   ],
   "source": [
    "ratings.shape"
   ]
  },
  {
   "cell_type": "code",
   "execution_count": 4,
   "metadata": {},
   "outputs": [],
   "source": [
    "def filter_ratings(ratings: pd.DataFrame, min_user_ratings: int, min_movie_ratings: int) -> pd.DataFrame:\n",
    "    ratings = ratings.dropna()\n",
    "\n",
    "    user_rating_count = ratings.groupby(\"username\").size()\n",
    "    worthy_users = set(user_rating_count[user_rating_count >= min_user_ratings].index)\n",
    "    ratings = ratings.loc[ratings.username.isin(worthy_users)]\n",
    "\n",
    "    movie_rating_count = ratings.groupby(\"movie_id\").size()\n",
    "    worthy_movies = set(movie_rating_count[movie_rating_count >= min_movie_ratings].index)\n",
    "    ratings = ratings.loc[ratings.movie_id.isin(worthy_movies)]\n",
    "    \n",
    "    return ratings"
   ]
  },
  {
   "cell_type": "code",
   "execution_count": 5,
   "metadata": {},
   "outputs": [],
   "source": [
    "ratings = filter_ratings(ratings, 10, 10)"
   ]
  },
  {
   "cell_type": "code",
   "execution_count": 6,
   "metadata": {},
   "outputs": [
    {
     "data": {
      "text/plain": [
       "(2722362, 5)"
      ]
     },
     "execution_count": 6,
     "metadata": {},
     "output_type": "execute_result"
    }
   ],
   "source": [
    "ratings.shape"
   ]
  },
  {
   "cell_type": "code",
   "execution_count": 7,
   "metadata": {},
   "outputs": [],
   "source": [
    "ratings_train, ratings_test = sklearn.model_selection.train_test_split(\n",
    "    ratings,\n",
    "    test_size=0.1,\n",
    "    shuffle=True,\n",
    "    random_state=0,\n",
    ")\n",
    "\n",
    "ratings_train, ratings_valid = sklearn.model_selection.train_test_split(\n",
    "    ratings_train,\n",
    "    test_size=0.1,\n",
    "    shuffle=True,\n",
    "    random_state=0,\n",
    ")"
   ]
  },
  {
   "cell_type": "code",
   "execution_count": 8,
   "metadata": {},
   "outputs": [
    {
     "data": {
      "text/html": [
       "<div>\n",
       "<style scoped>\n",
       "    .dataframe tbody tr th:only-of-type {\n",
       "        vertical-align: middle;\n",
       "    }\n",
       "\n",
       "    .dataframe tbody tr th {\n",
       "        vertical-align: top;\n",
       "    }\n",
       "\n",
       "    .dataframe thead th {\n",
       "        text-align: right;\n",
       "    }\n",
       "</style>\n",
       "<table border=\"1\" class=\"dataframe\">\n",
       "  <thead>\n",
       "    <tr style=\"text-align: right;\">\n",
       "      <th></th>\n",
       "      <th>username</th>\n",
       "      <th>movie_id</th>\n",
       "      <th>stars</th>\n",
       "      <th>date</th>\n",
       "      <th>comment</th>\n",
       "    </tr>\n",
       "  </thead>\n",
       "  <tbody>\n",
       "    <tr>\n",
       "      <th>328863</th>\n",
       "      <td>pepo</td>\n",
       "      <td>2596-osm-a-pul</td>\n",
       "      <td>1.0</td>\n",
       "      <td>2018-04-24</td>\n",
       "      <td>Súhlasím, že 8 1/2 je umelecký film. Je totiž...</td>\n",
       "    </tr>\n",
       "    <tr>\n",
       "      <th>1601217</th>\n",
       "      <td>Melly.pro</td>\n",
       "      <td>224137-hvezdny-prach</td>\n",
       "      <td>5.0</td>\n",
       "      <td>2008-01-18</td>\n",
       "      <td>Tak nejsem si úplně jistej, co o tom říct, pr...</td>\n",
       "    </tr>\n",
       "    <tr>\n",
       "      <th>1369474</th>\n",
       "      <td>GOREGASM</td>\n",
       "      <td>223564-kazatel</td>\n",
       "      <td>2.0</td>\n",
       "      <td>2016-01-31</td>\n",
       "      <td>Béčkové vody zakalené do digitálního apokalyp...</td>\n",
       "    </tr>\n",
       "    <tr>\n",
       "      <th>499592</th>\n",
       "      <td>Ernie_13</td>\n",
       "      <td>308635-zpatky-ve-hre</td>\n",
       "      <td>3.0</td>\n",
       "      <td>2014-03-07</td>\n",
       "      <td>No je to tých 70%....hrozná réžia, hrozný sce...</td>\n",
       "    </tr>\n",
       "    <tr>\n",
       "      <th>2322162</th>\n",
       "      <td>Khumbac</td>\n",
       "      <td>71194-walker-texas-ranger</td>\n",
       "      <td>4.0</td>\n",
       "      <td>2012-07-14</td>\n",
       "      <td>Z nostalgie, z recese, z úcty ke komedii dává...</td>\n",
       "    </tr>\n",
       "  </tbody>\n",
       "</table>\n",
       "</div>"
      ],
      "text/plain": [
       "          username                   movie_id  stars       date  \\\n",
       "328863        pepo             2596-osm-a-pul    1.0 2018-04-24   \n",
       "1601217  Melly.pro       224137-hvezdny-prach    5.0 2008-01-18   \n",
       "1369474   GOREGASM             223564-kazatel    2.0 2016-01-31   \n",
       "499592    Ernie_13       308635-zpatky-ve-hre    3.0 2014-03-07   \n",
       "2322162    Khumbac  71194-walker-texas-ranger    4.0 2012-07-14   \n",
       "\n",
       "                                                   comment  \n",
       "328863    Súhlasím, že 8 1/2 je umelecký film. Je totiž...  \n",
       "1601217   Tak nejsem si úplně jistej, co o tom říct, pr...  \n",
       "1369474   Béčkové vody zakalené do digitálního apokalyp...  \n",
       "499592    No je to tých 70%....hrozná réžia, hrozný sce...  \n",
       "2322162   Z nostalgie, z recese, z úcty ke komedii dává...  "
      ]
     },
     "execution_count": 8,
     "metadata": {},
     "output_type": "execute_result"
    }
   ],
   "source": [
    "ratings_train.head()"
   ]
  },
  {
   "cell_type": "code",
   "execution_count": 9,
   "metadata": {},
   "outputs": [],
   "source": [
    "baseline = CFBaseline()\n",
    "baseline.train(ratings_train)"
   ]
  },
  {
   "cell_type": "code",
   "execution_count": 10,
   "metadata": {},
   "outputs": [],
   "source": [
    "recommenders = {}\n",
    "num_features_list = [2, 5, 10, 20, 30]"
   ]
  },
  {
   "cell_type": "code",
   "execution_count": 11,
   "metadata": {},
   "outputs": [
    {
     "name": "stdout",
     "output_type": "stream",
     "text": [
      "\n",
      "====================================================================================================\n",
      "2\n",
      "\n",
      "\n",
      "====================================================================================================\n",
      "5\n",
      "\n",
      "\n",
      "====================================================================================================\n",
      "10\n",
      "\n",
      "\n",
      "====================================================================================================\n",
      "20\n",
      "\n",
      "\n",
      "====================================================================================================\n",
      "30\n",
      "\n"
     ]
    }
   ],
   "source": [
    "import math\n",
    "\n",
    "for num_features in num_features_list:\n",
    "\n",
    "    print()\n",
    "    print(\"=\" * 100)\n",
    "    print(num_features)\n",
    "    print()\n",
    "\n",
    "    recommender = CFGradFactor(\n",
    "        all_movies=ratings.movie_id.unique().tolist(),\n",
    "        all_users=ratings.username.unique().tolist(),\n",
    "        num_features=num_features,\n",
    "        init_scale=0.05,\n",
    "        init_shift=math.sqrt(0.5/num_features),\n",
    "    )\n",
    "\n",
    "    recommender.train(\n",
    "        ratings_train,\n",
    "        ratings_valid,\n",
    "        learning_rate=0.001,\n",
    "        batch_size=256,\n",
    "        early_stopping_threshold=0.02,\n",
    "        max_epochs=4,\n",
    "        evaluate_every_n_steps=4000,\n",
    "        return_to_best=True,\n",
    "        path_to_save=f\"{PROJ_ROOT}/models/cf_recommender_{num_features:02}.pt\",\n",
    "    )\n",
    "\n",
    "    recommenders[num_features] = recommender\n"
   ]
  },
  {
   "cell_type": "code",
   "execution_count": 12,
   "metadata": {},
   "outputs": [],
   "source": [
    "import matplotlib.pyplot as plt\n",
    "\n",
    "for num_features, recommender in recommenders.items():\n",
    "    try:\n",
    "        pd.DataFrame({\n",
    "            \"Train MAE stars\": pd.DataFrame(recommender.trainer.metrics_train).mae_stars,\n",
    "            \"Valid MAE stars\": pd.DataFrame(recommender.trainer.metrics_valid).mae_stars,\n",
    "        }).plot(title=f\"Learning curve ({num_features} features)\")\n",
    "        plt.show()\n",
    "    except:\n",
    "        pass"
   ]
  },
  {
   "cell_type": "code",
   "execution_count": 13,
   "metadata": {},
   "outputs": [
    {
     "data": {
      "text/plain": [
       "<AxesSubplot:>"
      ]
     },
     "execution_count": 13,
     "metadata": {},
     "output_type": "execute_result"
    },
    {
     "data": {
      "image/png": "[encoded data removed]",
      "text/plain": [
       "<Figure size 432x288 with 1 Axes>"
      ]
     },
     "metadata": {
      "needs_background": "light"
     },
     "output_type": "display_data"
    }
   ],
   "source": [
    "ratings_valid.stars.round().value_counts().sort_index().plot.bar()"
   ]
  },
  {
   "cell_type": "code",
   "execution_count": 14,
   "metadata": {},
   "outputs": [
    {
     "data": {
      "text/plain": [
       "<AxesSubplot:>"
      ]
     },
     "execution_count": 14,
     "metadata": {},
     "output_type": "execute_result"
    },
    {
     "data": {
      "image/png": "[encoded data removed]",
      "text/plain": [
       "<Figure size 432x288 with 1 Axes>"
      ]
     },
     "metadata": {
      "needs_background": "light"
     },
     "output_type": "display_data"
    }
   ],
   "source": [
    "pd.Series(baseline.predict_ratings(ratings_test.movie_id, ratings_test.username)).round().value_counts().sort_index().plot.bar()"
   ]
  },
  {
   "cell_type": "code",
   "execution_count": 15,
   "metadata": {},
   "outputs": [
    {
     "data": {
      "text/plain": [
       "<AxesSubplot:>"
      ]
     },
     "execution_count": 15,
     "metadata": {},
     "output_type": "execute_result"
    },
    {
     "data": {
      "image/png": "[encoded data removed]",
      "text/plain": [
       "<Figure size 432x288 with 1 Axes>"
      ]
     },
     "metadata": {
      "needs_background": "light"
     },
     "output_type": "display_data"
    }
   ],
   "source": [
    "pd.Series(recommenders[10].predict_ratings(ratings_valid.movie_id, ratings_valid.username)).round().value_counts().sort_index().plot.bar()"
   ]
  },
  {
   "cell_type": "code",
   "execution_count": 16,
   "metadata": {},
   "outputs": [
    {
     "data": {
      "text/html": [
       "<div>\n",
       "<style scoped>\n",
       "    .dataframe tbody tr th:only-of-type {\n",
       "        vertical-align: middle;\n",
       "    }\n",
       "\n",
       "    .dataframe tbody tr th {\n",
       "        vertical-align: top;\n",
       "    }\n",
       "\n",
       "    .dataframe thead th {\n",
       "        text-align: right;\n",
       "    }\n",
       "</style>\n",
       "<table border=\"1\" class=\"dataframe\">\n",
       "  <thead>\n",
       "    <tr style=\"text-align: right;\">\n",
       "      <th></th>\n",
       "      <th>title</th>\n",
       "      <th>description</th>\n",
       "      <th>kind</th>\n",
       "      <th>genres</th>\n",
       "      <th>countries</th>\n",
       "      <th>year</th>\n",
       "      <th>length</th>\n",
       "      <th>poster</th>\n",
       "      <th>foreign_titles</th>\n",
       "      <th>creators</th>\n",
       "    </tr>\n",
       "    <tr>\n",
       "      <th>movie_id</th>\n",
       "      <th></th>\n",
       "      <th></th>\n",
       "      <th></th>\n",
       "      <th></th>\n",
       "      <th></th>\n",
       "      <th></th>\n",
       "      <th></th>\n",
       "      <th></th>\n",
       "      <th></th>\n",
       "      <th></th>\n",
       "    </tr>\n",
       "  </thead>\n",
       "  <tbody>\n",
       "    <tr>\n",
       "      <th>230421-houbicky</th>\n",
       "      <td>Houbičky</td>\n",
       "      <td>Partička amerických teenagerů, která si vyrazi...</td>\n",
       "      <td>movie</td>\n",
       "      <td>[Horor, Thriller]</td>\n",
       "      <td>[Irsko, Velká Británie, Dánsko]</td>\n",
       "      <td>2007</td>\n",
       "      <td>84 min</td>\n",
       "      <td>//image.pmgstatic.com/cache/resized/w420/files...</td>\n",
       "      <td>{'Irsko': 'Shrooms'}</td>\n",
       "      <td>{'Režie': [('/tvurce/4690-paddy-breathnach/', ...</td>\n",
       "    </tr>\n",
       "    <tr>\n",
       "      <th>10789-prvni-liga</th>\n",
       "      <td>První liga</td>\n",
       "      <td>V nejvyšší lize získávají hráči baseballu boha...</td>\n",
       "      <td>movie</td>\n",
       "      <td>[Komedie, Sportovní]</td>\n",
       "      <td>[USA]</td>\n",
       "      <td>1989</td>\n",
       "      <td>107 min</td>\n",
       "      <td>//image.pmgstatic.com/cache/resized/w420/files...</td>\n",
       "      <td>{'USA': 'Major League', 'Slovensko': 'Prvá liga'}</td>\n",
       "      <td>{'Režie': [('/tvurce/4010-david-s-ward/', 'Dav...</td>\n",
       "    </tr>\n",
       "    <tr>\n",
       "      <th>235032-yes-man</th>\n",
       "      <td>Yes Man</td>\n",
       "      <td>Carl Allen je zatrpklý bankovní úředník, který...</td>\n",
       "      <td>movie</td>\n",
       "      <td>[Komedie, Romantický]</td>\n",
       "      <td>[USA]</td>\n",
       "      <td>2008</td>\n",
       "      <td>100 min</td>\n",
       "      <td>//image.pmgstatic.com/files/images/film/poster...</td>\n",
       "      <td>{'Austrálie': 'Yes Man', 'Kanada': 'Yes Man', ...</td>\n",
       "      <td>{'Režie': [('/tvurce/8883-peyton-reed/', 'Peyt...</td>\n",
       "    </tr>\n",
       "    <tr>\n",
       "      <th>234754-chlapec-v-pruhovanem-pyzamu</th>\n",
       "      <td>Chlapec v pruhovaném pyžamu</td>\n",
       "      <td>Osmiletý Bruno žije se svojí rodinou v Berlíně...</td>\n",
       "      <td>movie</td>\n",
       "      <td>[Drama, Válečný]</td>\n",
       "      <td>[Velká Británie, USA]</td>\n",
       "      <td>2008</td>\n",
       "      <td>94 min</td>\n",
       "      <td>//image.pmgstatic.com/files/images/film/poster...</td>\n",
       "      <td>{'USA': 'The Boy in the Striped Pajamas', 'ang...</td>\n",
       "      <td>{'Režie': [('/tvurce/6600-mark-herman/', 'Mark...</td>\n",
       "    </tr>\n",
       "    <tr>\n",
       "      <th>301717-nejvetsi-showman</th>\n",
       "      <td>Největší showman</td>\n",
       "      <td>Hugh Jackman vévodí hvězdnému obsazení odvážné...</td>\n",
       "      <td>movie</td>\n",
       "      <td>[Muzikál, Životopisný, Drama]</td>\n",
       "      <td>[USA]</td>\n",
       "      <td>2017</td>\n",
       "      <td>105 min</td>\n",
       "      <td>//image.pmgstatic.com/cache/resized/w420/files...</td>\n",
       "      <td>{'USA': 'The Greatest Showman', 'Slovensko': '...</td>\n",
       "      <td>{'Režie': [('/tvurce/78497-michael-gracey/', '...</td>\n",
       "    </tr>\n",
       "  </tbody>\n",
       "</table>\n",
       "</div>"
      ],
      "text/plain": [
       "                                                          title  \\\n",
       "movie_id                                                          \n",
       "230421-houbicky                                        Houbičky   \n",
       "10789-prvni-liga                                     První liga   \n",
       "235032-yes-man                                          Yes Man   \n",
       "234754-chlapec-v-pruhovanem-pyzamu  Chlapec v pruhovaném pyžamu   \n",
       "301717-nejvetsi-showman                        Největší showman   \n",
       "\n",
       "                                                                          description  \\\n",
       "movie_id                                                                                \n",
       "230421-houbicky                     Partička amerických teenagerů, která si vyrazi...   \n",
       "10789-prvni-liga                    V nejvyšší lize získávají hráči baseballu boha...   \n",
       "235032-yes-man                      Carl Allen je zatrpklý bankovní úředník, který...   \n",
       "234754-chlapec-v-pruhovanem-pyzamu  Osmiletý Bruno žije se svojí rodinou v Berlíně...   \n",
       "301717-nejvetsi-showman             Hugh Jackman vévodí hvězdnému obsazení odvážné...   \n",
       "\n",
       "                                     kind                         genres  \\\n",
       "movie_id                                                                   \n",
       "230421-houbicky                     movie              [Horor, Thriller]   \n",
       "10789-prvni-liga                    movie           [Komedie, Sportovní]   \n",
       "235032-yes-man                      movie          [Komedie, Romantický]   \n",
       "234754-chlapec-v-pruhovanem-pyzamu  movie               [Drama, Válečný]   \n",
       "301717-nejvetsi-showman             movie  [Muzikál, Životopisný, Drama]   \n",
       "\n",
       "                                                          countries  year  \\\n",
       "movie_id                                                                    \n",
       "230421-houbicky                     [Irsko, Velká Británie, Dánsko]  2007   \n",
       "10789-prvni-liga                                              [USA]  1989   \n",
       "235032-yes-man                                                [USA]  2008   \n",
       "234754-chlapec-v-pruhovanem-pyzamu            [Velká Británie, USA]  2008   \n",
       "301717-nejvetsi-showman                                       [USA]  2017   \n",
       "\n",
       "                                     length  \\\n",
       "movie_id                                      \n",
       "230421-houbicky                      84 min   \n",
       "10789-prvni-liga                    107 min   \n",
       "235032-yes-man                      100 min   \n",
       "234754-chlapec-v-pruhovanem-pyzamu   94 min   \n",
       "301717-nejvetsi-showman             105 min   \n",
       "\n",
       "                                                                               poster  \\\n",
       "movie_id                                                                                \n",
       "230421-houbicky                     //image.pmgstatic.com/cache/resized/w420/files...   \n",
       "10789-prvni-liga                    //image.pmgstatic.com/cache/resized/w420/files...   \n",
       "235032-yes-man                      //image.pmgstatic.com/files/images/film/poster...   \n",
       "234754-chlapec-v-pruhovanem-pyzamu  //image.pmgstatic.com/files/images/film/poster...   \n",
       "301717-nejvetsi-showman             //image.pmgstatic.com/cache/resized/w420/files...   \n",
       "\n",
       "                                                                       foreign_titles  \\\n",
       "movie_id                                                                                \n",
       "230421-houbicky                                                  {'Irsko': 'Shrooms'}   \n",
       "10789-prvni-liga                    {'USA': 'Major League', 'Slovensko': 'Prvá liga'}   \n",
       "235032-yes-man                      {'Austrálie': 'Yes Man', 'Kanada': 'Yes Man', ...   \n",
       "234754-chlapec-v-pruhovanem-pyzamu  {'USA': 'The Boy in the Striped Pajamas', 'ang...   \n",
       "301717-nejvetsi-showman             {'USA': 'The Greatest Showman', 'Slovensko': '...   \n",
       "\n",
       "                                                                             creators  \n",
       "movie_id                                                                               \n",
       "230421-houbicky                     {'Režie': [('/tvurce/4690-paddy-breathnach/', ...  \n",
       "10789-prvni-liga                    {'Režie': [('/tvurce/4010-david-s-ward/', 'Dav...  \n",
       "235032-yes-man                      {'Režie': [('/tvurce/8883-peyton-reed/', 'Peyt...  \n",
       "234754-chlapec-v-pruhovanem-pyzamu  {'Režie': [('/tvurce/6600-mark-herman/', 'Mark...  \n",
       "301717-nejvetsi-showman             {'Režie': [('/tvurce/78497-michael-gracey/', '...  "
      ]
     },
     "execution_count": 16,
     "metadata": {},
     "output_type": "execute_result"
    }
   ],
   "source": [
    "df_movies = pd.read_pickle(f\"{PROJ_ROOT}/data/movies.pkl\")\n",
    "df_movies.head()"
   ]
  },
  {
   "cell_type": "code",
   "execution_count": 17,
   "metadata": {},
   "outputs": [],
   "source": [
    "from sklearn.metrics import mean_absolute_error as mae"
   ]
  },
  {
   "cell_type": "code",
   "execution_count": 18,
   "metadata": {},
   "outputs": [],
   "source": [
    "glob_avg = ratings_train.stars.mean()\n",
    "\n",
    "evaluation = pd.DataFrame()\n",
    "\n",
    "for part, name in  [(ratings_train, \"train\"), (ratings_valid, \"valid\"), (ratings_test, \"test\")]:\n",
    "\n",
    "    baseline_preds = baseline.predict_ratings(part.movie_id, part.username)\n",
    "    \n",
    "    results = {\n",
    "        f\"global avg {glob_avg:<0.2f}\": mae(part.stars, np.ones_like(part.stars) * glob_avg),\n",
    "        \"baseline\": mae(part.stars, baseline_preds),\n",
    "        \"baseline + round\": mae(part.stars, baseline_preds.round()),\n",
    "    }\n",
    "\n",
    "    for num_features, recommender in recommenders.items():\n",
    "        if num_features in {2, 5, 10, 30}:\n",
    "            model_preds = np.clip(recommender.predict_ratings(part.movie_id, part.username), 0, 5)\n",
    "            results[f\"model {num_features}\"] = mae(part.stars, model_preds)\n",
    "            results[f\"model {num_features} + round\"] = mae(part.stars, model_preds.round())\n",
    "\n",
    "    evaluation[name] = pd.Series(results)\n"
   ]
  },
  {
   "cell_type": "code",
   "execution_count": 19,
   "metadata": {},
   "outputs": [
    {
     "data": {
      "text/html": [
       "<div>\n",
       "<style scoped>\n",
       "    .dataframe tbody tr th:only-of-type {\n",
       "        vertical-align: middle;\n",
       "    }\n",
       "\n",
       "    .dataframe tbody tr th {\n",
       "        vertical-align: top;\n",
       "    }\n",
       "\n",
       "    .dataframe thead th {\n",
       "        text-align: right;\n",
       "    }\n",
       "</style>\n",
       "<table border=\"1\" class=\"dataframe\">\n",
       "  <thead>\n",
       "    <tr style=\"text-align: right;\">\n",
       "      <th></th>\n",
       "      <th>train</th>\n",
       "      <th>valid</th>\n",
       "      <th>test</th>\n",
       "    </tr>\n",
       "  </thead>\n",
       "  <tbody>\n",
       "    <tr>\n",
       "      <th>global avg 3.48</th>\n",
       "      <td>1.059991</td>\n",
       "      <td>1.058233</td>\n",
       "      <td>1.058616</td>\n",
       "    </tr>\n",
       "    <tr>\n",
       "      <th>baseline</th>\n",
       "      <td>0.846989</td>\n",
       "      <td>0.851608</td>\n",
       "      <td>0.853504</td>\n",
       "    </tr>\n",
       "    <tr>\n",
       "      <th>baseline + round</th>\n",
       "      <td>0.802943</td>\n",
       "      <td>0.807443</td>\n",
       "      <td>0.810162</td>\n",
       "    </tr>\n",
       "    <tr>\n",
       "      <th>model 2</th>\n",
       "      <td>0.762679</td>\n",
       "      <td>0.772321</td>\n",
       "      <td>0.775753</td>\n",
       "    </tr>\n",
       "    <tr>\n",
       "      <th>model 2 + round</th>\n",
       "      <td>0.727014</td>\n",
       "      <td>0.736569</td>\n",
       "      <td>0.740641</td>\n",
       "    </tr>\n",
       "    <tr>\n",
       "      <th>model 5</th>\n",
       "      <td>0.762892</td>\n",
       "      <td>0.772538</td>\n",
       "      <td>0.775972</td>\n",
       "    </tr>\n",
       "    <tr>\n",
       "      <th>model 5 + round</th>\n",
       "      <td>0.727352</td>\n",
       "      <td>0.736969</td>\n",
       "      <td>0.740843</td>\n",
       "    </tr>\n",
       "    <tr>\n",
       "      <th>model 10</th>\n",
       "      <td>0.763193</td>\n",
       "      <td>0.772712</td>\n",
       "      <td>0.776201</td>\n",
       "    </tr>\n",
       "    <tr>\n",
       "      <th>model 10 + round</th>\n",
       "      <td>0.727651</td>\n",
       "      <td>0.737100</td>\n",
       "      <td>0.741233</td>\n",
       "    </tr>\n",
       "    <tr>\n",
       "      <th>model 30</th>\n",
       "      <td>0.764402</td>\n",
       "      <td>0.773948</td>\n",
       "      <td>0.777535</td>\n",
       "    </tr>\n",
       "    <tr>\n",
       "      <th>model 30 + round</th>\n",
       "      <td>0.728891</td>\n",
       "      <td>0.738683</td>\n",
       "      <td>0.742405</td>\n",
       "    </tr>\n",
       "  </tbody>\n",
       "</table>\n",
       "</div>"
      ],
      "text/plain": [
       "                     train     valid      test\n",
       "global avg 3.48   1.059991  1.058233  1.058616\n",
       "baseline          0.846989  0.851608  0.853504\n",
       "baseline + round  0.802943  0.807443  0.810162\n",
       "model 2           0.762679  0.772321  0.775753\n",
       "model 2 + round   0.727014  0.736569  0.740641\n",
       "model 5           0.762892  0.772538  0.775972\n",
       "model 5 + round   0.727352  0.736969  0.740843\n",
       "model 10          0.763193  0.772712  0.776201\n",
       "model 10 + round  0.727651  0.737100  0.741233\n",
       "model 30          0.764402  0.773948  0.777535\n",
       "model 30 + round  0.728891  0.738683  0.742405"
      ]
     },
     "execution_count": 19,
     "metadata": {},
     "output_type": "execute_result"
    }
   ],
   "source": [
    "evaluation"
   ]
  },
  {
   "cell_type": "code",
   "execution_count": 20,
   "metadata": {},
   "outputs": [
    {
     "data": {
      "text/plain": [
       "<AxesSubplot:>"
      ]
     },
     "execution_count": 20,
     "metadata": {},
     "output_type": "execute_result"
    },
    {
     "data": {
      "image/png": "[encoded data removed]",
      "text/plain": [
       "<Figure size 1080x1080 with 2 Axes>"
      ]
     },
     "metadata": {},
     "output_type": "display_data"
    }
   ],
   "source": [
    "import seaborn as sns\n",
    "\n",
    "sns.set(rc = {'figure.figsize':(15,15)})\n",
    "sns.set(font_scale=1.3)\n",
    "sns.heatmap(\n",
    "    evaluation,\n",
    "    annot=True,\n",
    "    vmin=evaluation.min().min(),\n",
    "    vmax=evaluation.max().max() + 0.1,\n",
    "    fmt=\".4\",\n",
    "    cmap=\"Blues_r\",\n",
    ")"
   ]
  },
  {
   "cell_type": "code",
   "execution_count": 28,
   "metadata": {},
   "outputs": [
    {
     "data": {
      "text/plain": [
       "movie_id\n",
       "232535-labyrint-lzi                                [Drama, Akční, Thriller]\n",
       "32435-mrchozrouti                                        [Komedie, Válečný]\n",
       "10090-dovolena-s-andelem                                          [Komedie]\n",
       "134363-sam-v-temnote                               [Horor, Thriller, Akční]\n",
       "282120-lol                                     [Komedie, Drama, Romantický]\n",
       "24953-letiste                                             [Drama, Thriller]\n",
       "481213-pribeh-sluzebnice                          [Drama, Sci-Fi, Thriller]\n",
       "467591-strnadovi                                             [Dokumentární]\n",
       "452089-nikdys-nebyl                   [Mysteriózní, Krimi, Thriller, Drama]\n",
       "2411-funny-face                              [Romantický, Komedie, Muzikál]\n",
       "21953-tisic-dnu-s-annou                                 [Drama, Historický]\n",
       "317124-hra-na-hrane                                [Krimi, Drama, Thriller]\n",
       "323531-expendables-postradatelni-3           [Akční, Thriller, Dobrodružný]\n",
       "11041-exploze                               [Akční, Krimi, Thriller, Drama]\n",
       "266834-variete                                 [Muzikál, Drama, Romantický]\n",
       "Name: genres, dtype: object"
      ]
     },
     "execution_count": 28,
     "metadata": {},
     "output_type": "execute_result"
    }
   ],
   "source": [
    "df_movies.loc[recommender.recommend_from_movie(\n",
    "    #\"393331-avengers-infinity-war\"\n",
    "    #\"234460-skyfall\"\n",
    "    #\"110420-mission-impossible-iii\"\n",
    "    \"5992-marecku-podejte-mi-pero\"\n",
    "    #\"19838-doba-ledova\"\n",
    "    #\"301401-rivalove\"\n",
    ")][\"genres\"]"
   ]
  },
  {
   "cell_type": "code",
   "execution_count": 22,
   "metadata": {},
   "outputs": [
    {
     "data": {
      "text/plain": [
       "8670"
      ]
     },
     "execution_count": 22,
     "metadata": {},
     "output_type": "execute_result"
    }
   ],
   "source": [
    "len(ratings.movie_id.unique())"
   ]
  },
  {
   "cell_type": "code",
   "execution_count": null,
   "metadata": {},
   "outputs": [],
   "source": []
  }
 ],
 "metadata": {
  "interpreter": {
   "hash": "89eb082ae6c6b674b58723e7dbeb62e5a1b7485fb86b1c38c4bc34a20140b32d"
  },
  "kernelspec": {
   "display_name": "Python 3.9.7 ('env': venv)",
   "language": "python",
   "name": "python3"
  },
  "language_info": {
   "codemirror_mode": {
    "name": "ipython",
    "version": 3
   },
   "file_extension": ".py",
   "mimetype": "text/x-python",
   "name": "python",
   "nbconvert_exporter": "python",
   "pygments_lexer": "ipython3",
   "version": "3.9.7"
  },
  "orig_nbformat": 4
 },
 "nbformat": 4,
 "nbformat_minor": 2
}
