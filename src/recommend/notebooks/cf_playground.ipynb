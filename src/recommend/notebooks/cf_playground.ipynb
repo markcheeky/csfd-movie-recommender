{
 "cells": [
  {
   "cell_type": "code",
   "execution_count": 1,
   "metadata": {},
   "outputs": [],
   "source": [
    "import numpy as np\n",
    "import pandas as pd\n",
    "import sklearn\n",
    "import sklearn.model_selection\n",
    "\n",
    "from recommend.utils import PROJ_ROOT\n",
    "from recommend.cf_recommenders import CFBaseline, CFGradFactor"
   ]
  },
  {
   "cell_type": "code",
   "execution_count": 2,
   "metadata": {},
   "outputs": [],
   "source": [
    "ratings = pd.read_pickle(f\"{PROJ_ROOT}/data/ratings.pkl\")"
   ]
  },
  {
   "cell_type": "code",
   "execution_count": 3,
   "metadata": {},
   "outputs": [
    {
     "data": {
      "text/plain": [
       "(2797751, 5)"
      ]
     },
     "execution_count": 3,
     "metadata": {},
     "output_type": "execute_result"
    }
   ],
   "source": [
    "ratings.shape"
   ]
  },
  {
   "cell_type": "code",
   "execution_count": 4,
   "metadata": {},
   "outputs": [],
   "source": [
    "def filter_ratings(ratings: pd.DataFrame, min_user_ratings: int, min_movie_ratings: int) -> pd.DataFrame:\n",
    "    ratings = ratings.dropna()\n",
    "\n",
    "    user_rating_count = ratings.groupby(\"username\").size()\n",
    "    worthy_users = set(user_rating_count[user_rating_count >= min_user_ratings].index)\n",
    "    ratings = ratings.loc[ratings.username.isin(worthy_users)]\n",
    "\n",
    "    movie_rating_count = ratings.groupby(\"movie_id\").size()\n",
    "    worthy_movies = set(movie_rating_count[movie_rating_count >= min_movie_ratings].index)\n",
    "    ratings = ratings.loc[ratings.movie_id.isin(worthy_movies)]\n",
    "    \n",
    "    return ratings"
   ]
  },
  {
   "cell_type": "code",
   "execution_count": 5,
   "metadata": {},
   "outputs": [],
   "source": [
    "ratings = filter_ratings(ratings, 10, 10)"
   ]
  },
  {
   "cell_type": "code",
   "execution_count": 6,
   "metadata": {},
   "outputs": [
    {
     "data": {
      "text/plain": [
       "(2722362, 5)"
      ]
     },
     "execution_count": 6,
     "metadata": {},
     "output_type": "execute_result"
    }
   ],
   "source": [
    "ratings.shape"
   ]
  },
  {
   "cell_type": "code",
   "execution_count": 7,
   "metadata": {},
   "outputs": [],
   "source": [
    "ratings_train, ratings_test = sklearn.model_selection.train_test_split(\n",
    "    ratings,\n",
    "    test_size=0.1,\n",
    "    shuffle=True,\n",
    "    random_state=0,\n",
    ")\n",
    "\n",
    "ratings_train, ratings_valid = sklearn.model_selection.train_test_split(\n",
    "    ratings_train,\n",
    "    test_size=0.1,\n",
    "    shuffle=True,\n",
    "    random_state=0,\n",
    ")"
   ]
  },
  {
   "cell_type": "code",
   "execution_count": 8,
   "metadata": {},
   "outputs": [
    {
     "data": {
      "text/html": [
       "<div>\n",
       "<style scoped>\n",
       "    .dataframe tbody tr th:only-of-type {\n",
       "        vertical-align: middle;\n",
       "    }\n",
       "\n",
       "    .dataframe tbody tr th {\n",
       "        vertical-align: top;\n",
       "    }\n",
       "\n",
       "    .dataframe thead th {\n",
       "        text-align: right;\n",
       "    }\n",
       "</style>\n",
       "<table border=\"1\" class=\"dataframe\">\n",
       "  <thead>\n",
       "    <tr style=\"text-align: right;\">\n",
       "      <th></th>\n",
       "      <th>username</th>\n",
       "      <th>movie_id</th>\n",
       "      <th>stars</th>\n",
       "      <th>date</th>\n",
       "      <th>comment</th>\n",
       "    </tr>\n",
       "  </thead>\n",
       "  <tbody>\n",
       "    <tr>\n",
       "      <th>328863</th>\n",
       "      <td>pepo</td>\n",
       "      <td>2596-osm-a-pul</td>\n",
       "      <td>1.0</td>\n",
       "      <td>2018-04-24</td>\n",
       "      <td>Súhlasím, že 8 1/2 je umelecký film. Je totiž...</td>\n",
       "    </tr>\n",
       "    <tr>\n",
       "      <th>1601217</th>\n",
       "      <td>Melly.pro</td>\n",
       "      <td>224137-hvezdny-prach</td>\n",
       "      <td>5.0</td>\n",
       "      <td>2008-01-18</td>\n",
       "      <td>Tak nejsem si úplně jistej, co o tom říct, pr...</td>\n",
       "    </tr>\n",
       "    <tr>\n",
       "      <th>1369474</th>\n",
       "      <td>GOREGASM</td>\n",
       "      <td>223564-kazatel</td>\n",
       "      <td>2.0</td>\n",
       "      <td>2016-01-31</td>\n",
       "      <td>Béčkové vody zakalené do digitálního apokalyp...</td>\n",
       "    </tr>\n",
       "    <tr>\n",
       "      <th>499592</th>\n",
       "      <td>Ernie_13</td>\n",
       "      <td>308635-zpatky-ve-hre</td>\n",
       "      <td>3.0</td>\n",
       "      <td>2014-03-07</td>\n",
       "      <td>No je to tých 70%....hrozná réžia, hrozný sce...</td>\n",
       "    </tr>\n",
       "    <tr>\n",
       "      <th>2322162</th>\n",
       "      <td>Khumbac</td>\n",
       "      <td>71194-walker-texas-ranger</td>\n",
       "      <td>4.0</td>\n",
       "      <td>2012-07-14</td>\n",
       "      <td>Z nostalgie, z recese, z úcty ke komedii dává...</td>\n",
       "    </tr>\n",
       "  </tbody>\n",
       "</table>\n",
       "</div>"
      ],
      "text/plain": [
       "          username                   movie_id  stars       date  \\\n",
       "328863        pepo             2596-osm-a-pul    1.0 2018-04-24   \n",
       "1601217  Melly.pro       224137-hvezdny-prach    5.0 2008-01-18   \n",
       "1369474   GOREGASM             223564-kazatel    2.0 2016-01-31   \n",
       "499592    Ernie_13       308635-zpatky-ve-hre    3.0 2014-03-07   \n",
       "2322162    Khumbac  71194-walker-texas-ranger    4.0 2012-07-14   \n",
       "\n",
       "                                                   comment  \n",
       "328863    Súhlasím, že 8 1/2 je umelecký film. Je totiž...  \n",
       "1601217   Tak nejsem si úplně jistej, co o tom říct, pr...  \n",
       "1369474   Béčkové vody zakalené do digitálního apokalyp...  \n",
       "499592    No je to tých 70%....hrozná réžia, hrozný sce...  \n",
       "2322162   Z nostalgie, z recese, z úcty ke komedii dává...  "
      ]
     },
     "execution_count": 8,
     "metadata": {},
     "output_type": "execute_result"
    }
   ],
   "source": [
    "ratings_train.head()"
   ]
  },
  {
   "cell_type": "code",
   "execution_count": 9,
   "metadata": {},
   "outputs": [
    {
     "data": {
      "text/plain": [
       "<AxesSubplot:>"
      ]
     },
     "execution_count": 9,
     "metadata": {},
     "output_type": "execute_result"
    },
    {
     "data": {
      "image/png": "[encoded data removed]",
      "text/plain": [
       "<Figure size 432x288 with 1 Axes>"
      ]
     },
     "metadata": {
      "needs_background": "light"
     },
     "output_type": "display_data"
    }
   ],
   "source": [
    "ratings_valid.stars.apply(int).value_counts().sort_index().plot.bar()"
   ]
  },
  {
   "cell_type": "code",
   "execution_count": 10,
   "metadata": {},
   "outputs": [],
   "source": [
    "baseline = CFBaseline()\n",
    "baseline.train(ratings_train)"
   ]
  },
  {
   "cell_type": "code",
   "execution_count": 11,
   "metadata": {},
   "outputs": [],
   "source": [
    "recommender = CFGradFactor(\n",
    "    all_movies=ratings.movie_id.unique().tolist(),\n",
    "    all_users=ratings.username.unique().tolist(),\n",
    "    num_features=100,\n",
    ")\n"
   ]
  },
  {
   "cell_type": "code",
   "execution_count": 12,
   "metadata": {},
   "outputs": [],
   "source": [
    "recommender.train(\n",
    "    ratings_train,\n",
    "    ratings_valid,\n",
    "    path_to_save=f\"{PROJ_ROOT}/models/cf_recommender.pt\"\n",
    ")"
   ]
  },
  {
   "cell_type": "code",
   "execution_count": 13,
   "metadata": {},
   "outputs": [],
   "source": [
    "recommender_big = CFGradFactor(\n",
    "    all_movies=ratings.movie_id.unique().tolist(),\n",
    "    all_users=ratings.username.unique().tolist(),\n",
    "    num_features=300,\n",
    "    scale=0.3\n",
    ")"
   ]
  },
  {
   "cell_type": "code",
   "execution_count": 14,
   "metadata": {},
   "outputs": [],
   "source": [
    "recommender_big.train(\n",
    "    ratings_train,\n",
    "    ratings_valid,\n",
    "    patience=5,\n",
    "    path_to_save=f\"{PROJ_ROOT}/models/cf_recommender_big.pt\",\n",
    ")\n"
   ]
  },
  {
   "cell_type": "code",
   "execution_count": 15,
   "metadata": {},
   "outputs": [],
   "source": [
    "\"\"\"recommender_tiny = CFGradFactor(\n",
    "    all_movies=ratings.movie_id.unique().tolist(),\n",
    "    all_users=ratings.username.unique().tolist(),\n",
    "    num_features=50,\n",
    ")\"\"\"\n",
    "None"
   ]
  },
  {
   "cell_type": "code",
   "execution_count": 16,
   "metadata": {},
   "outputs": [],
   "source": [
    "# recommender_tiny.train(ratings_train, ratings_valid)"
   ]
  },
  {
   "cell_type": "code",
   "execution_count": 17,
   "metadata": {},
   "outputs": [
    {
     "data": {
      "text/plain": [
       "<AxesSubplot:>"
      ]
     },
     "execution_count": 17,
     "metadata": {},
     "output_type": "execute_result"
    },
    {
     "data": {
      "image/png": "[encoded data removed]",
      "text/plain": [
       "<Figure size 432x288 with 1 Axes>"
      ]
     },
     "metadata": {
      "needs_background": "light"
     },
     "output_type": "display_data"
    }
   ],
   "source": [
    "pd.Series(baseline.predict_ratings(ratings_test.movie_id, ratings_test.username)).hist()"
   ]
  },
  {
   "cell_type": "code",
   "execution_count": 18,
   "metadata": {},
   "outputs": [
    {
     "data": {
      "text/plain": [
       "<AxesSubplot:>"
      ]
     },
     "execution_count": 18,
     "metadata": {},
     "output_type": "execute_result"
    },
    {
     "data": {
      "image/png": "[encoded data removed]",
      "text/plain": [
       "<Figure size 432x288 with 1 Axes>"
      ]
     },
     "metadata": {
      "needs_background": "light"
     },
     "output_type": "display_data"
    }
   ],
   "source": [
    "pd.Series(recommender.predict_ratings(ratings_test.movie_id, ratings_test.username)).hist()"
   ]
  },
  {
   "cell_type": "code",
   "execution_count": 19,
   "metadata": {},
   "outputs": [
    {
     "data": {
      "text/plain": [
       "<AxesSubplot:>"
      ]
     },
     "execution_count": 19,
     "metadata": {},
     "output_type": "execute_result"
    },
    {
     "data": {
      "image/png": "[encoded data removed]",
      "text/plain": [
       "<Figure size 432x288 with 1 Axes>"
      ]
     },
     "metadata": {
      "needs_background": "light"
     },
     "output_type": "display_data"
    }
   ],
   "source": [
    "pd.Series(recommender_big.predict_ratings(ratings_test.movie_id, ratings_test.username)).hist()\n"
   ]
  },
  {
   "cell_type": "code",
   "execution_count": 20,
   "metadata": {},
   "outputs": [
    {
     "data": {
      "text/html": [
       "<div>\n",
       "<style scoped>\n",
       "    .dataframe tbody tr th:only-of-type {\n",
       "        vertical-align: middle;\n",
       "    }\n",
       "\n",
       "    .dataframe tbody tr th {\n",
       "        vertical-align: top;\n",
       "    }\n",
       "\n",
       "    .dataframe thead th {\n",
       "        text-align: right;\n",
       "    }\n",
       "</style>\n",
       "<table border=\"1\" class=\"dataframe\">\n",
       "  <thead>\n",
       "    <tr style=\"text-align: right;\">\n",
       "      <th></th>\n",
       "      <th>title</th>\n",
       "      <th>description</th>\n",
       "      <th>kind</th>\n",
       "      <th>genres</th>\n",
       "      <th>countries</th>\n",
       "      <th>year</th>\n",
       "      <th>length</th>\n",
       "      <th>poster</th>\n",
       "      <th>foreign_titles</th>\n",
       "      <th>creators</th>\n",
       "    </tr>\n",
       "    <tr>\n",
       "      <th>movie_id</th>\n",
       "      <th></th>\n",
       "      <th></th>\n",
       "      <th></th>\n",
       "      <th></th>\n",
       "      <th></th>\n",
       "      <th></th>\n",
       "      <th></th>\n",
       "      <th></th>\n",
       "      <th></th>\n",
       "      <th></th>\n",
       "    </tr>\n",
       "  </thead>\n",
       "  <tbody>\n",
       "    <tr>\n",
       "      <th>230421-houbicky</th>\n",
       "      <td>Houbičky</td>\n",
       "      <td>Partička amerických teenagerů, která si vyrazi...</td>\n",
       "      <td>movie</td>\n",
       "      <td>[Horor, Thriller]</td>\n",
       "      <td>[Irsko, Velká Británie, Dánsko]</td>\n",
       "      <td>2007</td>\n",
       "      <td>84 min</td>\n",
       "      <td>//image.pmgstatic.com/cache/resized/w420/files...</td>\n",
       "      <td>{'Irsko': 'Shrooms'}</td>\n",
       "      <td>{'Režie': [('/tvurce/4690-paddy-breathnach/', ...</td>\n",
       "    </tr>\n",
       "    <tr>\n",
       "      <th>10789-prvni-liga</th>\n",
       "      <td>První liga</td>\n",
       "      <td>V nejvyšší lize získávají hráči baseballu boha...</td>\n",
       "      <td>movie</td>\n",
       "      <td>[Komedie, Sportovní]</td>\n",
       "      <td>[USA]</td>\n",
       "      <td>1989</td>\n",
       "      <td>107 min</td>\n",
       "      <td>//image.pmgstatic.com/cache/resized/w420/files...</td>\n",
       "      <td>{'USA': 'Major League', 'Slovensko': 'Prvá liga'}</td>\n",
       "      <td>{'Režie': [('/tvurce/4010-david-s-ward/', 'Dav...</td>\n",
       "    </tr>\n",
       "    <tr>\n",
       "      <th>235032-yes-man</th>\n",
       "      <td>Yes Man</td>\n",
       "      <td>Carl Allen je zatrpklý bankovní úředník, který...</td>\n",
       "      <td>movie</td>\n",
       "      <td>[Komedie, Romantický]</td>\n",
       "      <td>[USA]</td>\n",
       "      <td>2008</td>\n",
       "      <td>100 min</td>\n",
       "      <td>//image.pmgstatic.com/files/images/film/poster...</td>\n",
       "      <td>{'Austrálie': 'Yes Man', 'Kanada': 'Yes Man', ...</td>\n",
       "      <td>{'Režie': [('/tvurce/8883-peyton-reed/', 'Peyt...</td>\n",
       "    </tr>\n",
       "    <tr>\n",
       "      <th>234754-chlapec-v-pruhovanem-pyzamu</th>\n",
       "      <td>Chlapec v pruhovaném pyžamu</td>\n",
       "      <td>Osmiletý Bruno žije se svojí rodinou v Berlíně...</td>\n",
       "      <td>movie</td>\n",
       "      <td>[Drama, Válečný]</td>\n",
       "      <td>[Velká Británie, USA]</td>\n",
       "      <td>2008</td>\n",
       "      <td>94 min</td>\n",
       "      <td>//image.pmgstatic.com/files/images/film/poster...</td>\n",
       "      <td>{'USA': 'The Boy in the Striped Pajamas', 'ang...</td>\n",
       "      <td>{'Režie': [('/tvurce/6600-mark-herman/', 'Mark...</td>\n",
       "    </tr>\n",
       "    <tr>\n",
       "      <th>301717-nejvetsi-showman</th>\n",
       "      <td>Největší showman</td>\n",
       "      <td>Hugh Jackman vévodí hvězdnému obsazení odvážné...</td>\n",
       "      <td>movie</td>\n",
       "      <td>[Muzikál, Životopisný, Drama]</td>\n",
       "      <td>[USA]</td>\n",
       "      <td>2017</td>\n",
       "      <td>105 min</td>\n",
       "      <td>//image.pmgstatic.com/cache/resized/w420/files...</td>\n",
       "      <td>{'USA': 'The Greatest Showman', 'Slovensko': '...</td>\n",
       "      <td>{'Režie': [('/tvurce/78497-michael-gracey/', '...</td>\n",
       "    </tr>\n",
       "    <tr>\n",
       "      <th>...</th>\n",
       "      <td>...</td>\n",
       "      <td>...</td>\n",
       "      <td>...</td>\n",
       "      <td>...</td>\n",
       "      <td>...</td>\n",
       "      <td>...</td>\n",
       "      <td>...</td>\n",
       "      <td>...</td>\n",
       "      <td>...</td>\n",
       "      <td>...</td>\n",
       "    </tr>\n",
       "    <tr>\n",
       "      <th>9443-paralelni-svety</th>\n",
       "      <td>Paralelní světy</td>\n",
       "      <td>Film Paralelní světy vypráví zdánlivě obyčejný...</td>\n",
       "      <td>movie</td>\n",
       "      <td>[Drama, Psychologický]</td>\n",
       "      <td>[Česko, Francie, Nizozemsko]</td>\n",
       "      <td>2001</td>\n",
       "      <td>100 min</td>\n",
       "      <td>//image.pmgstatic.com/cache/resized/w140/files...</td>\n",
       "      <td>{'Francie': 'Les mondes parallèles', 'angličti...</td>\n",
       "      <td>{'Režie': [('/tvurce/3317-petr-vaclav/', 'Petr...</td>\n",
       "    </tr>\n",
       "    <tr>\n",
       "      <th>221264-zivot-jde-dal</th>\n",
       "      <td>Život jde dál</td>\n",
       "      <td>Po smrti svého snoubence se Gray (Jennifer Gar...</td>\n",
       "      <td>movie</td>\n",
       "      <td>[Komedie, Romantický, Drama]</td>\n",
       "      <td>[USA]</td>\n",
       "      <td>2006</td>\n",
       "      <td>107 min</td>\n",
       "      <td>//image.pmgstatic.com/cache/resized/w420/files...</td>\n",
       "      <td>{'USA': 'Catch and Release', 'Slovensko': 'Živ...</td>\n",
       "      <td>{'Režie': [('/tvurce/26116-susannah-grant/', '...</td>\n",
       "    </tr>\n",
       "    <tr>\n",
       "      <th>128968-spionky</th>\n",
       "      <td>Špionky</td>\n",
       "      <td>Sú mladé a krásne. Puberťáčky Sam, Alex a Clev...</td>\n",
       "      <td>series</td>\n",
       "      <td>[Animovaný, Komedie, Akční]</td>\n",
       "      <td>[Francie, Kanada, USA]</td>\n",
       "      <td>(2001–2013)</td>\n",
       "      <td>57 h 12 min\\n\\t\\t\\t\\t\\t(Minutáž: 22 min)</td>\n",
       "      <td>//image.pmgstatic.com/cache/resized/w420/files...</td>\n",
       "      <td>{'Česko': 'Totally Spies - Špiónky', 'Francie'...</td>\n",
       "      <td>{'Tvůrci': [('/tvurce/439025-david-michel/', '...</td>\n",
       "    </tr>\n",
       "    <tr>\n",
       "      <th>605767-beautiful-boy</th>\n",
       "      <td>Krásný kluk</td>\n",
       "      <td>Osmnáctiletý Nic (Timothée Chalamet) má na prv...</td>\n",
       "      <td>movie</td>\n",
       "      <td>[Drama, Životopisný]</td>\n",
       "      <td>[USA]</td>\n",
       "      <td>2018</td>\n",
       "      <td>120 min</td>\n",
       "      <td>//image.pmgstatic.com/cache/resized/w420/files...</td>\n",
       "      <td>{'USA': 'Beautiful Boy', 'Austrálie': 'Beautif...</td>\n",
       "      <td>{'Režie': [('/tvurce/39471-felix-van-groeninge...</td>\n",
       "    </tr>\n",
       "    <tr>\n",
       "      <th>231250-max-a-maxipriserky</th>\n",
       "      <td>Max a maxipříšerky</td>\n",
       "      <td>Novátorský režisér Spike Jonze spolupracoval s...</td>\n",
       "      <td>movie</td>\n",
       "      <td>[Dobrodružný, Drama, Rodinný, Fantasy]</td>\n",
       "      <td>[USA, Německo, Austrálie]</td>\n",
       "      <td>2009</td>\n",
       "      <td>97 min</td>\n",
       "      <td>//image.pmgstatic.com/cache/resized/w420/files...</td>\n",
       "      <td>{'USA': 'Where the Wild Things Are', 'Německo'...</td>\n",
       "      <td>{'Režie': [('/tvurce/2953-spike-jonze/', 'Spik...</td>\n",
       "    </tr>\n",
       "  </tbody>\n",
       "</table>\n",
       "<p>8674 rows × 10 columns</p>\n",
       "</div>"
      ],
      "text/plain": [
       "                                                          title  \\\n",
       "movie_id                                                          \n",
       "230421-houbicky                                        Houbičky   \n",
       "10789-prvni-liga                                     První liga   \n",
       "235032-yes-man                                          Yes Man   \n",
       "234754-chlapec-v-pruhovanem-pyzamu  Chlapec v pruhovaném pyžamu   \n",
       "301717-nejvetsi-showman                        Největší showman   \n",
       "...                                                         ...   \n",
       "9443-paralelni-svety                            Paralelní světy   \n",
       "221264-zivot-jde-dal                              Život jde dál   \n",
       "128968-spionky                                          Špionky   \n",
       "605767-beautiful-boy                                Krásný kluk   \n",
       "231250-max-a-maxipriserky                    Max a maxipříšerky   \n",
       "\n",
       "                                                                          description  \\\n",
       "movie_id                                                                                \n",
       "230421-houbicky                     Partička amerických teenagerů, která si vyrazi...   \n",
       "10789-prvni-liga                    V nejvyšší lize získávají hráči baseballu boha...   \n",
       "235032-yes-man                      Carl Allen je zatrpklý bankovní úředník, který...   \n",
       "234754-chlapec-v-pruhovanem-pyzamu  Osmiletý Bruno žije se svojí rodinou v Berlíně...   \n",
       "301717-nejvetsi-showman             Hugh Jackman vévodí hvězdnému obsazení odvážné...   \n",
       "...                                                                               ...   \n",
       "9443-paralelni-svety                Film Paralelní světy vypráví zdánlivě obyčejný...   \n",
       "221264-zivot-jde-dal                Po smrti svého snoubence se Gray (Jennifer Gar...   \n",
       "128968-spionky                      Sú mladé a krásne. Puberťáčky Sam, Alex a Clev...   \n",
       "605767-beautiful-boy                Osmnáctiletý Nic (Timothée Chalamet) má na prv...   \n",
       "231250-max-a-maxipriserky           Novátorský režisér Spike Jonze spolupracoval s...   \n",
       "\n",
       "                                      kind  \\\n",
       "movie_id                                     \n",
       "230421-houbicky                      movie   \n",
       "10789-prvni-liga                     movie   \n",
       "235032-yes-man                       movie   \n",
       "234754-chlapec-v-pruhovanem-pyzamu   movie   \n",
       "301717-nejvetsi-showman              movie   \n",
       "...                                    ...   \n",
       "9443-paralelni-svety                 movie   \n",
       "221264-zivot-jde-dal                 movie   \n",
       "128968-spionky                      series   \n",
       "605767-beautiful-boy                 movie   \n",
       "231250-max-a-maxipriserky            movie   \n",
       "\n",
       "                                                                    genres  \\\n",
       "movie_id                                                                     \n",
       "230421-houbicky                                          [Horor, Thriller]   \n",
       "10789-prvni-liga                                      [Komedie, Sportovní]   \n",
       "235032-yes-man                                       [Komedie, Romantický]   \n",
       "234754-chlapec-v-pruhovanem-pyzamu                        [Drama, Válečný]   \n",
       "301717-nejvetsi-showman                      [Muzikál, Životopisný, Drama]   \n",
       "...                                                                    ...   \n",
       "9443-paralelni-svety                                [Drama, Psychologický]   \n",
       "221264-zivot-jde-dal                          [Komedie, Romantický, Drama]   \n",
       "128968-spionky                                 [Animovaný, Komedie, Akční]   \n",
       "605767-beautiful-boy                                  [Drama, Životopisný]   \n",
       "231250-max-a-maxipriserky           [Dobrodružný, Drama, Rodinný, Fantasy]   \n",
       "\n",
       "                                                          countries  \\\n",
       "movie_id                                                              \n",
       "230421-houbicky                     [Irsko, Velká Británie, Dánsko]   \n",
       "10789-prvni-liga                                              [USA]   \n",
       "235032-yes-man                                                [USA]   \n",
       "234754-chlapec-v-pruhovanem-pyzamu            [Velká Británie, USA]   \n",
       "301717-nejvetsi-showman                                       [USA]   \n",
       "...                                                             ...   \n",
       "9443-paralelni-svety                   [Česko, Francie, Nizozemsko]   \n",
       "221264-zivot-jde-dal                                          [USA]   \n",
       "128968-spionky                               [Francie, Kanada, USA]   \n",
       "605767-beautiful-boy                                          [USA]   \n",
       "231250-max-a-maxipriserky                 [USA, Německo, Austrálie]   \n",
       "\n",
       "                                           year  \\\n",
       "movie_id                                          \n",
       "230421-houbicky                            2007   \n",
       "10789-prvni-liga                           1989   \n",
       "235032-yes-man                             2008   \n",
       "234754-chlapec-v-pruhovanem-pyzamu         2008   \n",
       "301717-nejvetsi-showman                    2017   \n",
       "...                                         ...   \n",
       "9443-paralelni-svety                       2001   \n",
       "221264-zivot-jde-dal                       2006   \n",
       "128968-spionky                      (2001–2013)   \n",
       "605767-beautiful-boy                       2018   \n",
       "231250-max-a-maxipriserky                  2009   \n",
       "\n",
       "                                                                      length  \\\n",
       "movie_id                                                                       \n",
       "230421-houbicky                                                       84 min   \n",
       "10789-prvni-liga                                                     107 min   \n",
       "235032-yes-man                                                       100 min   \n",
       "234754-chlapec-v-pruhovanem-pyzamu                                    94 min   \n",
       "301717-nejvetsi-showman                                              105 min   \n",
       "...                                                                      ...   \n",
       "9443-paralelni-svety                                                 100 min   \n",
       "221264-zivot-jde-dal                                                 107 min   \n",
       "128968-spionky                      57 h 12 min\\n\\t\\t\\t\\t\\t(Minutáž: 22 min)   \n",
       "605767-beautiful-boy                                                 120 min   \n",
       "231250-max-a-maxipriserky                                             97 min   \n",
       "\n",
       "                                                                               poster  \\\n",
       "movie_id                                                                                \n",
       "230421-houbicky                     //image.pmgstatic.com/cache/resized/w420/files...   \n",
       "10789-prvni-liga                    //image.pmgstatic.com/cache/resized/w420/files...   \n",
       "235032-yes-man                      //image.pmgstatic.com/files/images/film/poster...   \n",
       "234754-chlapec-v-pruhovanem-pyzamu  //image.pmgstatic.com/files/images/film/poster...   \n",
       "301717-nejvetsi-showman             //image.pmgstatic.com/cache/resized/w420/files...   \n",
       "...                                                                               ...   \n",
       "9443-paralelni-svety                //image.pmgstatic.com/cache/resized/w140/files...   \n",
       "221264-zivot-jde-dal                //image.pmgstatic.com/cache/resized/w420/files...   \n",
       "128968-spionky                      //image.pmgstatic.com/cache/resized/w420/files...   \n",
       "605767-beautiful-boy                //image.pmgstatic.com/cache/resized/w420/files...   \n",
       "231250-max-a-maxipriserky           //image.pmgstatic.com/cache/resized/w420/files...   \n",
       "\n",
       "                                                                       foreign_titles  \\\n",
       "movie_id                                                                                \n",
       "230421-houbicky                                                  {'Irsko': 'Shrooms'}   \n",
       "10789-prvni-liga                    {'USA': 'Major League', 'Slovensko': 'Prvá liga'}   \n",
       "235032-yes-man                      {'Austrálie': 'Yes Man', 'Kanada': 'Yes Man', ...   \n",
       "234754-chlapec-v-pruhovanem-pyzamu  {'USA': 'The Boy in the Striped Pajamas', 'ang...   \n",
       "301717-nejvetsi-showman             {'USA': 'The Greatest Showman', 'Slovensko': '...   \n",
       "...                                                                               ...   \n",
       "9443-paralelni-svety                {'Francie': 'Les mondes parallèles', 'angličti...   \n",
       "221264-zivot-jde-dal                {'USA': 'Catch and Release', 'Slovensko': 'Živ...   \n",
       "128968-spionky                      {'Česko': 'Totally Spies - Špiónky', 'Francie'...   \n",
       "605767-beautiful-boy                {'USA': 'Beautiful Boy', 'Austrálie': 'Beautif...   \n",
       "231250-max-a-maxipriserky           {'USA': 'Where the Wild Things Are', 'Německo'...   \n",
       "\n",
       "                                                                             creators  \n",
       "movie_id                                                                               \n",
       "230421-houbicky                     {'Režie': [('/tvurce/4690-paddy-breathnach/', ...  \n",
       "10789-prvni-liga                    {'Režie': [('/tvurce/4010-david-s-ward/', 'Dav...  \n",
       "235032-yes-man                      {'Režie': [('/tvurce/8883-peyton-reed/', 'Peyt...  \n",
       "234754-chlapec-v-pruhovanem-pyzamu  {'Režie': [('/tvurce/6600-mark-herman/', 'Mark...  \n",
       "301717-nejvetsi-showman             {'Režie': [('/tvurce/78497-michael-gracey/', '...  \n",
       "...                                                                               ...  \n",
       "9443-paralelni-svety                {'Režie': [('/tvurce/3317-petr-vaclav/', 'Petr...  \n",
       "221264-zivot-jde-dal                {'Režie': [('/tvurce/26116-susannah-grant/', '...  \n",
       "128968-spionky                      {'Tvůrci': [('/tvurce/439025-david-michel/', '...  \n",
       "605767-beautiful-boy                {'Režie': [('/tvurce/39471-felix-van-groeninge...  \n",
       "231250-max-a-maxipriserky           {'Režie': [('/tvurce/2953-spike-jonze/', 'Spik...  \n",
       "\n",
       "[8674 rows x 10 columns]"
      ]
     },
     "execution_count": 20,
     "metadata": {},
     "output_type": "execute_result"
    }
   ],
   "source": [
    "df_movies = pd.read_pickle(f\"{PROJ_ROOT}/data/movies.pkl\")\n",
    "df_movies"
   ]
  },
  {
   "cell_type": "code",
   "execution_count": 21,
   "metadata": {},
   "outputs": [
    {
     "data": {
      "text/plain": [
       "0.853504197963633"
      ]
     },
     "execution_count": 21,
     "metadata": {},
     "output_type": "execute_result"
    }
   ],
   "source": [
    "from sklearn.metrics import mean_absolute_error\n",
    "\n",
    "baseline_preds = baseline.predict_ratings(ratings_test.movie_id, ratings_test.username)\n",
    "mean_absolute_error(ratings_test.stars, baseline_preds)"
   ]
  },
  {
   "cell_type": "code",
   "execution_count": 22,
   "metadata": {},
   "outputs": [
    {
     "data": {
      "text/plain": [
       "0.9364440712143296"
      ]
     },
     "execution_count": 22,
     "metadata": {},
     "output_type": "execute_result"
    }
   ],
   "source": [
    "model_preds = recommender.predict_ratings(ratings_test.movie_id, ratings_test.username)\n",
    "mean_absolute_error(ratings_test.stars, model_preds)"
   ]
  },
  {
   "cell_type": "code",
   "execution_count": 23,
   "metadata": {},
   "outputs": [
    {
     "data": {
      "text/plain": [
       "0.8556588560702623"
      ]
     },
     "execution_count": 23,
     "metadata": {},
     "output_type": "execute_result"
    }
   ],
   "source": [
    "model_preds = recommender.predict_ratings(ratings_test.movie_id, ratings_test.username)\n",
    "mean_absolute_error(ratings_test.stars, model_preds.astype(int))"
   ]
  },
  {
   "cell_type": "code",
   "execution_count": 24,
   "metadata": {},
   "outputs": [
    {
     "data": {
      "text/plain": [
       "1.0590067022133107"
      ]
     },
     "execution_count": 24,
     "metadata": {},
     "output_type": "execute_result"
    }
   ],
   "source": [
    "mean_absolute_error(ratings_test.stars, np.ones_like(ratings_test.stars) * ratings_test.stars.mean())"
   ]
  },
  {
   "cell_type": "code",
   "execution_count": 25,
   "metadata": {},
   "outputs": [
    {
     "data": {
      "text/plain": [
       "0.9126346023015908"
      ]
     },
     "execution_count": 25,
     "metadata": {},
     "output_type": "execute_result"
    }
   ],
   "source": [
    "model_big_preds = recommender_big.predict_ratings(ratings_test.movie_id, ratings_test.username)\n",
    "mean_absolute_error(ratings_test.stars, model_big_preds)"
   ]
  },
  {
   "cell_type": "code",
   "execution_count": 26,
   "metadata": {},
   "outputs": [
    {
     "data": {
      "text/plain": [
       "movie_id\n",
       "29722-guru                     [Komedie, Romantický, Hudební, Fantasy]\n",
       "69880-miluji-te-k-sezrani                     [Horor, Thriller, Drama]\n",
       "15046-podraz                                   [Drama, Komedie, Krimi]\n",
       "234497-max-manus             [Válečný, Historický, Drama, Životopisný]\n",
       "18137-jak-na-vec                          [Komedie, Drama, Romantický]\n",
       "159947-milagros                               [Telenovela, Romantický]\n",
       "248751-bourneuv-odkaz                   [Akční, Dobrodružný, Thriller]\n",
       "223561-neznamy-svudce            [Krimi, Drama, Mysteriózní, Thriller]\n",
       "280119-terra-nova                   [Dobrodružný, Mysteriózní, Sci-Fi]\n",
       "12877-caligula                      [Drama, Historický, Pornografický]\n",
       "14679-kdyby                                                    [Drama]\n",
       "11688-dlouha-cesta                                 [Drama, Romantický]\n",
       "17800-jdi-za-svym-srdcem                  [Komedie, Drama, Romantický]\n",
       "241247-umeni-lhat                       [Komedie, Romantický, Fantasy]\n",
       "226771-az-na-krev                                    [Drama, Thriller]\n",
       "Name: genres, dtype: object"
      ]
     },
     "execution_count": 26,
     "metadata": {},
     "output_type": "execute_result"
    }
   ],
   "source": [
    "df_movies.loc[recommender.recommend_from_movie(\n",
    "    #\"393331-avengers-infinity-war\"\n",
    "    #\"234460-skyfall\"\n",
    "    #\"110420-mission-impossible-iii\"\n",
    "    #\"5992-marecku-podejte-mi-pero\"\n",
    "    #\"19838-doba-ledova\"\n",
    "    \"301401-rivalove\"\n",
    ")][\"genres\"]"
   ]
  },
  {
   "cell_type": "code",
   "execution_count": null,
   "metadata": {},
   "outputs": [],
   "source": []
  }
 ],
 "metadata": {
  "interpreter": {
   "hash": "ac41bbbcefc99109c907fdabb34e4468b7c5711414ea0b5f9d02fdd6869e5cad"
  },
  "kernelspec": {
   "display_name": "Python 3.9.7 ('env': venv)",
   "language": "python",
   "name": "python3"
  },
  "language_info": {
   "codemirror_mode": {
    "name": "ipython",
    "version": 3
   },
   "file_extension": ".py",
   "mimetype": "text/x-python",
   "name": "python",
   "nbconvert_exporter": "python",
   "pygments_lexer": "ipython3",
   "version": "3.9.7"
  },
  "orig_nbformat": 4
 },
 "nbformat": 4,
 "nbformat_minor": 2
}
