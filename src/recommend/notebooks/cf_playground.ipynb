{
 "cells": [
  {
   "cell_type": "code",
   "execution_count": 1,
   "metadata": {},
   "outputs": [],
   "source": [
    "from typing import Dict, Tuple\n",
    "\n",
    "import numpy as np\n",
    "import sklearn\n",
    "import sklearn.model_selection\n",
    "import torch\n",
    "import torch.nn.functional as F\n",
    "from torch.utils.data import Dataset, Subset, DataLoader\n",
    "from tqdm.notebook import tqdm\n",
    "import pandas as pd\n",
    "\n",
    "from recommend.utils import PROJ_ROOT"
   ]
  },
  {
   "cell_type": "code",
   "execution_count": 2,
   "metadata": {},
   "outputs": [],
   "source": [
    "ratings = pd.read_pickle(f\"{PROJ_ROOT}/data/ratings.pkl\")"
   ]
  },
  {
   "cell_type": "code",
   "execution_count": 3,
   "metadata": {},
   "outputs": [
    {
     "data": {
      "text/plain": [
       "(2797751, 5)"
      ]
     },
     "execution_count": 3,
     "metadata": {},
     "output_type": "execute_result"
    }
   ],
   "source": [
    "ratings.shape"
   ]
  },
  {
   "cell_type": "code",
   "execution_count": 4,
   "metadata": {},
   "outputs": [],
   "source": [
    "def filter_ratings(ratings: pd.DataFrame, min_user_ratings: int, min_movie_ratings: int) -> pd.DataFrame:\n",
    "    ratings = ratings.dropna()\n",
    "\n",
    "    user_rating_count = ratings.groupby(\"username\").size()\n",
    "    worthy_users = set(user_rating_count[user_rating_count >= min_user_ratings].index)\n",
    "    ratings = ratings.loc[ratings.username.isin(worthy_users)]\n",
    "\n",
    "    movie_rating_count = ratings.groupby(\"movie_id\").size()\n",
    "    worthy_movies = set(movie_rating_count[movie_rating_count >= min_movie_ratings].index)\n",
    "    ratings = ratings.loc[ratings.movie_id.isin(worthy_movies)]\n",
    "    \n",
    "    return ratings"
   ]
  },
  {
   "cell_type": "code",
   "execution_count": 5,
   "metadata": {},
   "outputs": [],
   "source": [
    "ratings = filter_ratings(ratings, 10, 10)"
   ]
  },
  {
   "cell_type": "code",
   "execution_count": 6,
   "metadata": {},
   "outputs": [
    {
     "data": {
      "text/plain": [
       "(2722362, 5)"
      ]
     },
     "execution_count": 6,
     "metadata": {},
     "output_type": "execute_result"
    }
   ],
   "source": [
    "ratings.shape"
   ]
  },
  {
   "cell_type": "code",
   "execution_count": 7,
   "metadata": {},
   "outputs": [],
   "source": [
    "ratings_train, ratings_test = sklearn.model_selection.train_test_split(\n",
    "    ratings,\n",
    "    test_size=0.1,\n",
    "    shuffle=True,\n",
    "    random_state=0,\n",
    ")\n",
    "\n",
    "ratings_train, ratings_valid = sklearn.model_selection.train_test_split(\n",
    "    ratings_train,\n",
    "    test_size=0.1,\n",
    "    shuffle=True,\n",
    "    random_state=0,\n",
    ")"
   ]
  },
  {
   "cell_type": "code",
   "execution_count": 8,
   "metadata": {},
   "outputs": [
    {
     "data": {
      "text/plain": [
       "230421-houbicky                       0\n",
       "10789-prvni-liga                      1\n",
       "235032-yes-man                        2\n",
       "234754-chlapec-v-pruhovanem-pyzamu    3\n",
       "301717-nejvetsi-showman               4\n",
       "dtype: int64"
      ]
     },
     "execution_count": 8,
     "metadata": {},
     "output_type": "execute_result"
    }
   ],
   "source": [
    "idx2movie = pd.Series(ratings.movie_id.unique())\n",
    "movie2idx = pd.Series(idx2movie.index.values, index=idx2movie.values)\n",
    "movie2idx.head()"
   ]
  },
  {
   "cell_type": "code",
   "execution_count": 9,
   "metadata": {},
   "outputs": [
    {
     "data": {
      "text/plain": [
       "kinghome     0\n",
       "SimonShot    1\n",
       "blackend     2\n",
       "LCH          3\n",
       "knoxville    4\n",
       "dtype: int64"
      ]
     },
     "execution_count": 9,
     "metadata": {},
     "output_type": "execute_result"
    }
   ],
   "source": [
    "idx2user = pd.Series(ratings.username.unique())\n",
    "user2idx = pd.Series(idx2user.index.values, index=idx2user.values)\n",
    "user2idx.head()\n"
   ]
  },
  {
   "cell_type": "code",
   "execution_count": 10,
   "metadata": {},
   "outputs": [],
   "source": [
    "random_gen = np.random.default_rng(seed=42)\n",
    "\n",
    "num_features = 100\n",
    "\n",
    "movies_shape = len(movie2idx), num_features\n",
    "movies = torch.from_numpy(\n",
    "    random_gen.standard_normal(movies_shape, dtype=np.float32).clip(-2, 2)\n",
    ")\n",
    "\n",
    "users_shape = len(user2idx), num_features\n",
    "users = torch.from_numpy(\n",
    "    random_gen.standard_normal(users_shape, dtype=np.float32).clip(-2, 2)\n",
    ")\n",
    "\n",
    "\n"
   ]
  },
  {
   "cell_type": "code",
   "execution_count": 11,
   "metadata": {},
   "outputs": [],
   "source": [
    "device = 'cuda'\n",
    "movies = movies.to(device).requires_grad_()\n",
    "users = users.to(device).requires_grad_()\n",
    "None"
   ]
  },
  {
   "cell_type": "code",
   "execution_count": 12,
   "metadata": {},
   "outputs": [
    {
     "data": {
      "text/html": [
       "<div>\n",
       "<style scoped>\n",
       "    .dataframe tbody tr th:only-of-type {\n",
       "        vertical-align: middle;\n",
       "    }\n",
       "\n",
       "    .dataframe tbody tr th {\n",
       "        vertical-align: top;\n",
       "    }\n",
       "\n",
       "    .dataframe thead th {\n",
       "        text-align: right;\n",
       "    }\n",
       "</style>\n",
       "<table border=\"1\" class=\"dataframe\">\n",
       "  <thead>\n",
       "    <tr style=\"text-align: right;\">\n",
       "      <th></th>\n",
       "      <th>username</th>\n",
       "      <th>movie_id</th>\n",
       "      <th>stars</th>\n",
       "      <th>date</th>\n",
       "      <th>comment</th>\n",
       "    </tr>\n",
       "  </thead>\n",
       "  <tbody>\n",
       "    <tr>\n",
       "      <th>328863</th>\n",
       "      <td>pepo</td>\n",
       "      <td>2596-osm-a-pul</td>\n",
       "      <td>1.0</td>\n",
       "      <td>2018-04-24</td>\n",
       "      <td>Súhlasím, že 8 1/2 je umelecký film. Je totiž...</td>\n",
       "    </tr>\n",
       "    <tr>\n",
       "      <th>1601217</th>\n",
       "      <td>Melly.pro</td>\n",
       "      <td>224137-hvezdny-prach</td>\n",
       "      <td>5.0</td>\n",
       "      <td>2008-01-18</td>\n",
       "      <td>Tak nejsem si úplně jistej, co o tom říct, pr...</td>\n",
       "    </tr>\n",
       "    <tr>\n",
       "      <th>1369474</th>\n",
       "      <td>GOREGASM</td>\n",
       "      <td>223564-kazatel</td>\n",
       "      <td>2.0</td>\n",
       "      <td>2016-01-31</td>\n",
       "      <td>Béčkové vody zakalené do digitálního apokalyp...</td>\n",
       "    </tr>\n",
       "    <tr>\n",
       "      <th>499592</th>\n",
       "      <td>Ernie_13</td>\n",
       "      <td>308635-zpatky-ve-hre</td>\n",
       "      <td>3.0</td>\n",
       "      <td>2014-03-07</td>\n",
       "      <td>No je to tých 70%....hrozná réžia, hrozný sce...</td>\n",
       "    </tr>\n",
       "    <tr>\n",
       "      <th>2322162</th>\n",
       "      <td>Khumbac</td>\n",
       "      <td>71194-walker-texas-ranger</td>\n",
       "      <td>4.0</td>\n",
       "      <td>2012-07-14</td>\n",
       "      <td>Z nostalgie, z recese, z úcty ke komedii dává...</td>\n",
       "    </tr>\n",
       "  </tbody>\n",
       "</table>\n",
       "</div>"
      ],
      "text/plain": [
       "          username                   movie_id  stars       date  \\\n",
       "328863        pepo             2596-osm-a-pul    1.0 2018-04-24   \n",
       "1601217  Melly.pro       224137-hvezdny-prach    5.0 2008-01-18   \n",
       "1369474   GOREGASM             223564-kazatel    2.0 2016-01-31   \n",
       "499592    Ernie_13       308635-zpatky-ve-hre    3.0 2014-03-07   \n",
       "2322162    Khumbac  71194-walker-texas-ranger    4.0 2012-07-14   \n",
       "\n",
       "                                                   comment  \n",
       "328863    Súhlasím, že 8 1/2 je umelecký film. Je totiž...  \n",
       "1601217   Tak nejsem si úplně jistej, co o tom říct, pr...  \n",
       "1369474   Béčkové vody zakalené do digitálního apokalyp...  \n",
       "499592    No je to tých 70%....hrozná réžia, hrozný sce...  \n",
       "2322162   Z nostalgie, z recese, z úcty ke komedii dává...  "
      ]
     },
     "execution_count": 12,
     "metadata": {},
     "output_type": "execute_result"
    }
   ],
   "source": [
    "ratings_train.head()"
   ]
  },
  {
   "cell_type": "code",
   "execution_count": 13,
   "metadata": {},
   "outputs": [],
   "source": [
    "class RatingDataset(Dataset): \n",
    "\n",
    "    def __init__(self, df_ratings: pd.DataFrame, movie2idx: pd.Series, user2idx: pd.Series):\n",
    "        self.df_ratings = df_ratings\n",
    "        self.movie2idx = movie2idx\n",
    "        self.user2idx = user2idx\n",
    "\n",
    "    def __len__(self) -> int:\n",
    "        return len(self.df_ratings)\n",
    "\n",
    "    def __getitem__(self, idx: int) -> Tuple[int, int, float]:\n",
    "        row = self.df_ratings.iloc[idx]\n",
    "        idx_movie = self.movie2idx[row.movie_id]\n",
    "        idx_user = self.user2idx[row.username]\n",
    "        rating = (row.stars / 5.0).astype(np.float32)\n",
    "        return idx_movie, idx_user, rating"
   ]
  },
  {
   "cell_type": "code",
   "execution_count": 14,
   "metadata": {},
   "outputs": [],
   "source": [
    "ds_train = RatingDataset(ratings_train, movie2idx, user2idx)\n",
    "ds_valid = RatingDataset(ratings_valid, movie2idx, user2idx)\n",
    "ds_test = RatingDataset(ratings_test, movie2idx, user2idx)\n",
    "\n",
    "ds_train_mini = Subset(\n",
    "    ds_train,\n",
    "    np.random.default_rng(0).choice(len(ds_train), len(ds_valid), replace=False)\n",
    ")"
   ]
  },
  {
   "cell_type": "code",
   "execution_count": 15,
   "metadata": {},
   "outputs": [
    {
     "data": {
      "text/plain": [
       "(2205112, 245013, 272237, 245013)"
      ]
     },
     "execution_count": 15,
     "metadata": {},
     "output_type": "execute_result"
    }
   ],
   "source": [
    "len(ds_train), len(ds_valid), len(ds_test), len(ds_train_mini)"
   ]
  },
  {
   "cell_type": "code",
   "execution_count": 16,
   "metadata": {},
   "outputs": [
    {
     "data": {
      "text/plain": [
       "(1023, 2359, 0.2)"
      ]
     },
     "execution_count": 16,
     "metadata": {},
     "output_type": "execute_result"
    }
   ],
   "source": [
    "ds_train[0]"
   ]
  },
  {
   "cell_type": "code",
   "execution_count": 17,
   "metadata": {},
   "outputs": [],
   "source": [
    "batch_size = 64\n",
    "\n",
    "def collate_move(device):\n",
    "    def collate(*params):\n",
    "        movie_idx, user_idx, rating = torch.utils.data.default_collate(*params)\n",
    "        return movie_idx.to(device), user_idx.to(device), rating.to(device)\n",
    "    return collate\n",
    "\n",
    "\n",
    "loader_train = DataLoader(ds_train, batch_size, collate_fn=collate_move(device))\n",
    "loader_valid = DataLoader(ds_valid, batch_size, collate_fn=collate_move(device))\n",
    "loader_test = DataLoader(ds_test, batch_size, collate_fn=collate_move(device))\n",
    "\n",
    "loader_train_mini = DataLoader(ds_train_mini, batch_size, collate_fn=collate_move(device))"
   ]
  },
  {
   "cell_type": "code",
   "execution_count": 18,
   "metadata": {},
   "outputs": [
    {
     "data": {
      "text/plain": [
       "(34455, 3829, 4254, 3829)"
      ]
     },
     "execution_count": 18,
     "metadata": {},
     "output_type": "execute_result"
    }
   ],
   "source": [
    "len(loader_train), len(loader_valid), len(loader_test), len(loader_train_mini)"
   ]
  },
  {
   "cell_type": "code",
   "execution_count": 19,
   "metadata": {},
   "outputs": [],
   "source": [
    "optim = torch.optim.Adam(\n",
    "    params=[movies, users],\n",
    "    lr=1e-2,\n",
    ")"
   ]
  },
  {
   "cell_type": "code",
   "execution_count": 23,
   "metadata": {},
   "outputs": [],
   "source": [
    "class Trainer:\n",
    "\n",
    "    def __init__(self,\n",
    "        users: torch.Tensor,\n",
    "        movies: torch.Tensor,\n",
    "        optimizer: torch.optim.Optimizer,\n",
    "    ):\n",
    "        self.users = users\n",
    "        self.movies = movies\n",
    "        self.metrics_train = []\n",
    "        self.metrics_valid = []\n",
    "        self.past_movies = []\n",
    "        self.past_users = []\n",
    "        self.optimizer = optimizer\n",
    "\n",
    "\n",
    "    def evaluate(\n",
    "        self,\n",
    "        loader: DataLoader,\n",
    "        tqdm_desc: str,\n",
    "        tqdm_leave: bool,\n",
    "    ) -> Dict[str, float]:\n",
    "\n",
    "        metrics = {\n",
    "            \"mse\": 0.0,\n",
    "            \"mae_stars\": 0.0\n",
    "        }\n",
    "\n",
    "        with torch.no_grad():\n",
    "            for movie_idx, user_idx, rating in tqdm(loader, desc=tqdm_desc, leave=tqdm_leave, position=1):\n",
    "                m = self.movies[movie_idx]\n",
    "                u = self.users[user_idx]\n",
    "                pred = torch.sigmoid((m * u).sum(-1))\n",
    "                metrics[\"mse\"] += F.mse_loss(pred, rating).cpu().item()\n",
    "                metrics[\"mae_stars\"] += F.l1_loss(pred * 5, rating * 5).cpu().item()\n",
    "        return {name: value / len(loader) for name, value in metrics.items()}\n",
    "\n",
    "    \n",
    "    def train(\n",
    "        self,\n",
    "        loader_train: DataLoader,\n",
    "        loader_train_mini: DataLoader,\n",
    "        loader_valid: DataLoader,\n",
    "        patience: int = 5,\n",
    "        max_epochs: int = 25,\n",
    "        evaluate_every_n_steps: int = 12500,\n",
    "        early_stopping_metric: str = \"mae_stars\",\n",
    "    ):\n",
    "        step = 0\n",
    "        for epoch in range(max_epochs):\n",
    "            for movie_idx, user_idx, rating in tqdm(loader_train, desc=f\"epoch {epoch}\", position=0):\n",
    "                m = self.movies[movie_idx]\n",
    "                u = self.users[user_idx]\n",
    "                pred = torch.sigmoid((m * u).sum(-1))\n",
    "                loss = F.mse_loss(pred, rating)\n",
    "                loss.backward()\n",
    "                self.optimizer.step()\n",
    "                self.optimizer.zero_grad()\n",
    "                if step % evaluate_every_n_steps == 0:\n",
    "                    self.metrics_train.append(self.evaluate(loader_train_mini, \"train evaluation\", tqdm_leave=False))\n",
    "                    self.metrics_valid.append(self.evaluate(loader_valid, \"validation evaluation\", tqdm_leave=False))\n",
    "                    print(\"train metrics:     \", self.metrics_train[-1])\n",
    "                    print(\"validation metrics:\", self.metrics_valid[-1])\n",
    "                    self.past_movies.append(movies.clone().detach().cpu())\n",
    "                    self.past_users.append(users.clone().detach().cpu())\n",
    "                    if len(self.metrics_train) >= patience:\n",
    "                        self.past_movies.pop(0)\n",
    "                        self.past_users.pop(0)\n",
    "                        last_n = pd.DataFrame(self.metrics_train[-patience:])[early_stopping_metric]\n",
    "                        if last_n.argmin() == 0:\n",
    "                            # TODO revert back to best weights\n",
    "                            return\n",
    "                step += 1\n"
   ]
  },
  {
   "cell_type": "code",
   "execution_count": 24,
   "metadata": {},
   "outputs": [],
   "source": [
    "trainer = Trainer(users, movies, optim)"
   ]
  },
  {
   "cell_type": "code",
   "execution_count": 25,
   "metadata": {},
   "outputs": [
    {
     "data": {
      "application/vnd.jupyter.widget-view+json": {
       "model_id": "d75e9c4ee2554711baaab14eb4e35759",
       "version_major": 2,
       "version_minor": 0
      },
      "text/plain": [
       "epoch 0:   0%|          | 0/34455 [00:00<?, ?it/s]"
      ]
     },
     "metadata": {},
     "output_type": "display_data"
    },
    {
     "data": {
      "application/vnd.jupyter.widget-view+json": {
       "model_id": "35791a97c4a440adb63d06b88e38d1f7",
       "version_major": 2,
       "version_minor": 0
      },
      "text/plain": [
       "train evaluation:   0%|          | 0/3829 [00:00<?, ?it/s]"
      ]
     },
     "metadata": {},
     "output_type": "display_data"
    },
    {
     "data": {
      "application/vnd.jupyter.widget-view+json": {
       "model_id": "c50e61ffc38c4e228f2d6665384977b1",
       "version_major": 2,
       "version_minor": 0
      },
      "text/plain": [
       "validation evaluation:   0%|          | 0/3829 [00:00<?, ?it/s]"
      ]
     },
     "metadata": {},
     "output_type": "display_data"
    },
    {
     "name": "stdout",
     "output_type": "stream",
     "text": [
      "train metrics:      {'mse': 0.31217285436542824, 'mae_stars': 2.318140492360814}\n",
      "validation metrics: {'mse': 0.31177442685668605, 'mae_stars': 2.3166307150212364}\n"
     ]
    },
    {
     "data": {
      "application/vnd.jupyter.widget-view+json": {
       "model_id": "4896df27e5df4cdfb9b71f8af3467b3b",
       "version_major": 2,
       "version_minor": 0
      },
      "text/plain": [
       "train evaluation:   0%|          | 0/3829 [00:00<?, ?it/s]"
      ]
     },
     "metadata": {},
     "output_type": "display_data"
    },
    {
     "data": {
      "application/vnd.jupyter.widget-view+json": {
       "model_id": "1b5636f4962a4ac898a6d93c6c943ead",
       "version_major": 2,
       "version_minor": 0
      },
      "text/plain": [
       "validation evaluation:   0%|          | 0/3829 [00:00<?, ?it/s]"
      ]
     },
     "metadata": {},
     "output_type": "display_data"
    },
    {
     "name": "stdout",
     "output_type": "stream",
     "text": [
      "train metrics:      {'mse': 0.28783912754737545, 'mae_stars': 2.181232829323074}\n",
      "validation metrics: {'mse': 0.30579391327733063, 'mae_stars': 2.274985332375689}\n"
     ]
    },
    {
     "data": {
      "application/vnd.jupyter.widget-view+json": {
       "model_id": "a35353182b844e4587b497e78e9f4fee",
       "version_major": 2,
       "version_minor": 0
      },
      "text/plain": [
       "train evaluation:   0%|          | 0/3829 [00:00<?, ?it/s]"
      ]
     },
     "metadata": {},
     "output_type": "display_data"
    },
    {
     "data": {
      "application/vnd.jupyter.widget-view+json": {
       "model_id": "636244f97ffc49bebcccecc49f122f4d",
       "version_major": 2,
       "version_minor": 0
      },
      "text/plain": [
       "validation evaluation:   0%|          | 0/3829 [00:00<?, ?it/s]"
      ]
     },
     "metadata": {},
     "output_type": "display_data"
    },
    {
     "name": "stdout",
     "output_type": "stream",
     "text": [
      "train metrics:      {'mse': 0.2076809807413239, 'mae_stars': 1.7699378756575188}\n",
      "validation metrics: {'mse': 0.22513355742814056, 'mae_stars': 1.86108544331115}\n"
     ]
    },
    {
     "data": {
      "application/vnd.jupyter.widget-view+json": {
       "model_id": "2ffe298611374f3f9438ee0e10f6f0f9",
       "version_major": 2,
       "version_minor": 0
      },
      "text/plain": [
       "epoch 1:   0%|          | 0/34455 [00:00<?, ?it/s]"
      ]
     },
     "metadata": {},
     "output_type": "display_data"
    },
    {
     "data": {
      "application/vnd.jupyter.widget-view+json": {
       "model_id": "4a907364d77d49f5bafd3ff31cb4967c",
       "version_major": 2,
       "version_minor": 0
      },
      "text/plain": [
       "train evaluation:   0%|          | 0/3829 [00:00<?, ?it/s]"
      ]
     },
     "metadata": {},
     "output_type": "display_data"
    },
    {
     "data": {
      "application/vnd.jupyter.widget-view+json": {
       "model_id": "862cd9ff8ab643ddad878ddb77bbaf80",
       "version_major": 2,
       "version_minor": 0
      },
      "text/plain": [
       "validation evaluation:   0%|          | 0/3829 [00:00<?, ?it/s]"
      ]
     },
     "metadata": {},
     "output_type": "display_data"
    },
    {
     "name": "stdout",
     "output_type": "stream",
     "text": [
      "train metrics:      {'mse': 0.17533279422619039, 'mae_stars': 1.6047005335199331}\n",
      "validation metrics: {'mse': 0.1919462075644263, 'mae_stars': 1.6911091848402304}\n"
     ]
    },
    {
     "data": {
      "application/vnd.jupyter.widget-view+json": {
       "model_id": "ddb6d1e3b967484b88b7950b38baf20f",
       "version_major": 2,
       "version_minor": 0
      },
      "text/plain": [
       "train evaluation:   0%|          | 0/3829 [00:00<?, ?it/s]"
      ]
     },
     "metadata": {},
     "output_type": "display_data"
    },
    {
     "data": {
      "application/vnd.jupyter.widget-view+json": {
       "model_id": "399f15242da9499293fcab10de46da25",
       "version_major": 2,
       "version_minor": 0
      },
      "text/plain": [
       "validation evaluation:   0%|          | 0/3829 [00:00<?, ?it/s]"
      ]
     },
     "metadata": {},
     "output_type": "display_data"
    },
    {
     "name": "stdout",
     "output_type": "stream",
     "text": [
      "train metrics:      {'mse': 0.16515964421218168, 'mae_stars': 1.5527619720906307}\n",
      "validation metrics: {'mse': 0.18087961601196054, 'mae_stars': 1.6338155698016594}\n"
     ]
    },
    {
     "data": {
      "application/vnd.jupyter.widget-view+json": {
       "model_id": "7d6d66ebd45046a8b74fcf325976dd87",
       "version_major": 2,
       "version_minor": 0
      },
      "text/plain": [
       "train evaluation:   0%|          | 0/3829 [00:00<?, ?it/s]"
      ]
     },
     "metadata": {},
     "output_type": "display_data"
    },
    {
     "data": {
      "application/vnd.jupyter.widget-view+json": {
       "model_id": "7b50683fc9654a4dbe01179343a96321",
       "version_major": 2,
       "version_minor": 0
      },
      "text/plain": [
       "validation evaluation:   0%|          | 0/3829 [00:00<?, ?it/s]"
      ]
     },
     "metadata": {},
     "output_type": "display_data"
    },
    {
     "name": "stdout",
     "output_type": "stream",
     "text": [
      "train metrics:      {'mse': 0.1589812959655516, 'mae_stars': 1.5214867753128247}\n",
      "validation metrics: {'mse': 0.1741661970559814, 'mae_stars': 1.5995021568760606}\n"
     ]
    },
    {
     "data": {
      "application/vnd.jupyter.widget-view+json": {
       "model_id": "c8ec4d1ffaf8477aa1860fd14f7ca1e9",
       "version_major": 2,
       "version_minor": 0
      },
      "text/plain": [
       "epoch 2:   0%|          | 0/34455 [00:00<?, ?it/s]"
      ]
     },
     "metadata": {},
     "output_type": "display_data"
    },
    {
     "data": {
      "application/vnd.jupyter.widget-view+json": {
       "model_id": "35812cf7f9ac4a73978af5b290a9c613",
       "version_major": 2,
       "version_minor": 0
      },
      "text/plain": [
       "train evaluation:   0%|          | 0/3829 [00:00<?, ?it/s]"
      ]
     },
     "metadata": {},
     "output_type": "display_data"
    },
    {
     "data": {
      "application/vnd.jupyter.widget-view+json": {
       "model_id": "b8b648294aae44e48ed39b343596e737",
       "version_major": 2,
       "version_minor": 0
      },
      "text/plain": [
       "validation evaluation:   0%|          | 0/3829 [00:00<?, ?it/s]"
      ]
     },
     "metadata": {},
     "output_type": "display_data"
    },
    {
     "name": "stdout",
     "output_type": "stream",
     "text": [
      "train metrics:      {'mse': 0.1558427723670915, 'mae_stars': 1.5057864524297597}\n",
      "validation metrics: {'mse': 0.17030467672848024, 'mae_stars': 1.5802035616595491}\n"
     ]
    },
    {
     "data": {
      "application/vnd.jupyter.widget-view+json": {
       "model_id": "c05d25099b234a8ebf293fa730e6aebf",
       "version_major": 2,
       "version_minor": 0
      },
      "text/plain": [
       "train evaluation:   0%|          | 0/3829 [00:00<?, ?it/s]"
      ]
     },
     "metadata": {},
     "output_type": "display_data"
    },
    {
     "data": {
      "application/vnd.jupyter.widget-view+json": {
       "model_id": "c0ddf6e3963d42be9b4c924e13b7b03f",
       "version_major": 2,
       "version_minor": 0
      },
      "text/plain": [
       "validation evaluation:   0%|          | 0/3829 [00:00<?, ?it/s]"
      ]
     },
     "metadata": {},
     "output_type": "display_data"
    },
    {
     "name": "stdout",
     "output_type": "stream",
     "text": [
      "train metrics:      {'mse': 0.15387444389212004, 'mae_stars': 1.4957386429454926}\n",
      "validation metrics: {'mse': 0.16825371385437915, 'mae_stars': 1.5692810291532873}\n"
     ]
    },
    {
     "data": {
      "application/vnd.jupyter.widget-view+json": {
       "model_id": "8e448c4ec7fe4e8c8050b2f1d593c0dc",
       "version_major": 2,
       "version_minor": 0
      },
      "text/plain": [
       "train evaluation:   0%|          | 0/3829 [00:00<?, ?it/s]"
      ]
     },
     "metadata": {},
     "output_type": "display_data"
    },
    {
     "data": {
      "application/vnd.jupyter.widget-view+json": {
       "model_id": "774a2d9cef7540798793f8c99c8fbd2a",
       "version_major": 2,
       "version_minor": 0
      },
      "text/plain": [
       "validation evaluation:   0%|          | 0/3829 [00:00<?, ?it/s]"
      ]
     },
     "metadata": {},
     "output_type": "display_data"
    },
    {
     "name": "stdout",
     "output_type": "stream",
     "text": [
      "train metrics:      {'mse': 0.15155141286359317, 'mae_stars': 1.484190226675294}\n",
      "validation metrics: {'mse': 0.16597221756913888, 'mae_stars': 1.557782025974206}\n"
     ]
    },
    {
     "data": {
      "application/vnd.jupyter.widget-view+json": {
       "model_id": "f957003e8f7a4b6081335738e5d479c3",
       "version_major": 2,
       "version_minor": 0
      },
      "text/plain": [
       "epoch 3:   0%|          | 0/34455 [00:00<?, ?it/s]"
      ]
     },
     "metadata": {},
     "output_type": "display_data"
    },
    {
     "data": {
      "application/vnd.jupyter.widget-view+json": {
       "model_id": "a8cf352113eb496ba008ce7f64214af3",
       "version_major": 2,
       "version_minor": 0
      },
      "text/plain": [
       "train evaluation:   0%|          | 0/3829 [00:00<?, ?it/s]"
      ]
     },
     "metadata": {},
     "output_type": "display_data"
    },
    {
     "data": {
      "application/vnd.jupyter.widget-view+json": {
       "model_id": "268d2c929c6e404fb51c3802654544ce",
       "version_major": 2,
       "version_minor": 0
      },
      "text/plain": [
       "validation evaluation:   0%|          | 0/3829 [00:00<?, ?it/s]"
      ]
     },
     "metadata": {},
     "output_type": "display_data"
    },
    {
     "name": "stdout",
     "output_type": "stream",
     "text": [
      "train metrics:      {'mse': 0.1506289272000208, 'mae_stars': 1.4793216449904922}\n",
      "validation metrics: {'mse': 0.1657295861410609, 'mae_stars': 1.5565647389005202}\n"
     ]
    },
    {
     "data": {
      "application/vnd.jupyter.widget-view+json": {
       "model_id": "e9e94d9f06fa4b49bde7b8070eb5a3c8",
       "version_major": 2,
       "version_minor": 0
      },
      "text/plain": [
       "train evaluation:   0%|          | 0/3829 [00:00<?, ?it/s]"
      ]
     },
     "metadata": {},
     "output_type": "display_data"
    },
    {
     "data": {
      "application/vnd.jupyter.widget-view+json": {
       "model_id": "69a9b10a2835464c93f9ae33258503b2",
       "version_major": 2,
       "version_minor": 0
      },
      "text/plain": [
       "validation evaluation:   0%|          | 0/3829 [00:00<?, ?it/s]"
      ]
     },
     "metadata": {},
     "output_type": "display_data"
    },
    {
     "name": "stdout",
     "output_type": "stream",
     "text": [
      "train metrics:      {'mse': 0.14967359298123614, 'mae_stars': 1.4746654259688425}\n",
      "validation metrics: {'mse': 0.16521901104742256, 'mae_stars': 1.5538258013945705}\n"
     ]
    },
    {
     "data": {
      "application/vnd.jupyter.widget-view+json": {
       "model_id": "e5abb0bcf6e24737865b28560e470182",
       "version_major": 2,
       "version_minor": 0
      },
      "text/plain": [
       "train evaluation:   0%|          | 0/3829 [00:00<?, ?it/s]"
      ]
     },
     "metadata": {},
     "output_type": "display_data"
    },
    {
     "data": {
      "application/vnd.jupyter.widget-view+json": {
       "model_id": "f955e16566014d47b8a603dbe8ac3c19",
       "version_major": 2,
       "version_minor": 0
      },
      "text/plain": [
       "validation evaluation:   0%|          | 0/3829 [00:00<?, ?it/s]"
      ]
     },
     "metadata": {},
     "output_type": "display_data"
    },
    {
     "name": "stdout",
     "output_type": "stream",
     "text": [
      "train metrics:      {'mse': 0.14872468364872302, 'mae_stars': 1.4696809217960352}\n",
      "validation metrics: {'mse': 0.16387339902043996, 'mae_stars': 1.5471875996339348}\n"
     ]
    },
    {
     "data": {
      "application/vnd.jupyter.widget-view+json": {
       "model_id": "ecb82d3e36794388a1a3d328c70a41d5",
       "version_major": 2,
       "version_minor": 0
      },
      "text/plain": [
       "epoch 4:   0%|          | 0/34455 [00:00<?, ?it/s]"
      ]
     },
     "metadata": {},
     "output_type": "display_data"
    },
    {
     "data": {
      "application/vnd.jupyter.widget-view+json": {
       "model_id": "07329ab8883548faad30a082b4361ab4",
       "version_major": 2,
       "version_minor": 0
      },
      "text/plain": [
       "train evaluation:   0%|          | 0/3829 [00:00<?, ?it/s]"
      ]
     },
     "metadata": {},
     "output_type": "display_data"
    },
    {
     "data": {
      "application/vnd.jupyter.widget-view+json": {
       "model_id": "4bc51b4a2ece46f7b753fbd420536910",
       "version_major": 2,
       "version_minor": 0
      },
      "text/plain": [
       "validation evaluation:   0%|          | 0/3829 [00:00<?, ?it/s]"
      ]
     },
     "metadata": {},
     "output_type": "display_data"
    },
    {
     "name": "stdout",
     "output_type": "stream",
     "text": [
      "train metrics:      {'mse': 0.14790128427125918, 'mae_stars': 1.4656234376889417}\n",
      "validation metrics: {'mse': 0.16300952418778578, 'mae_stars': 1.5426557613247274}\n"
     ]
    },
    {
     "data": {
      "application/vnd.jupyter.widget-view+json": {
       "model_id": "d9de73288e314743940885f437ea3459",
       "version_major": 2,
       "version_minor": 0
      },
      "text/plain": [
       "train evaluation:   0%|          | 0/3829 [00:00<?, ?it/s]"
      ]
     },
     "metadata": {},
     "output_type": "display_data"
    },
    {
     "data": {
      "application/vnd.jupyter.widget-view+json": {
       "model_id": "8f812be7977f4eb3bf66674ba69ace1c",
       "version_major": 2,
       "version_minor": 0
      },
      "text/plain": [
       "validation evaluation:   0%|          | 0/3829 [00:00<?, ?it/s]"
      ]
     },
     "metadata": {},
     "output_type": "display_data"
    },
    {
     "name": "stdout",
     "output_type": "stream",
     "text": [
      "train metrics:      {'mse': 0.14709597173567446, 'mae_stars': 1.4615804719594914}\n",
      "validation metrics: {'mse': 0.1621114492268499, 'mae_stars': 1.538137581959254}\n"
     ]
    },
    {
     "data": {
      "application/vnd.jupyter.widget-view+json": {
       "model_id": "7f4e9712217f4c42b8bfa20fb99a7e97",
       "version_major": 2,
       "version_minor": 0
      },
      "text/plain": [
       "epoch 5:   0%|          | 0/34455 [00:00<?, ?it/s]"
      ]
     },
     "metadata": {},
     "output_type": "display_data"
    },
    {
     "data": {
      "application/vnd.jupyter.widget-view+json": {
       "model_id": "a4e1e78c902e4f81a373b91011fade2c",
       "version_major": 2,
       "version_minor": 0
      },
      "text/plain": [
       "train evaluation:   0%|          | 0/3829 [00:00<?, ?it/s]"
      ]
     },
     "metadata": {},
     "output_type": "display_data"
    },
    {
     "data": {
      "application/vnd.jupyter.widget-view+json": {
       "model_id": "5a78090ca77140e797fa52a83d9476e8",
       "version_major": 2,
       "version_minor": 0
      },
      "text/plain": [
       "validation evaluation:   0%|          | 0/3829 [00:00<?, ?it/s]"
      ]
     },
     "metadata": {},
     "output_type": "display_data"
    },
    {
     "name": "stdout",
     "output_type": "stream",
     "text": [
      "train metrics:      {'mse': 0.14631391719049808, 'mae_stars': 1.457781948847757}\n",
      "validation metrics: {'mse': 0.16111080891378057, 'mae_stars': 1.5331772393986027}\n"
     ]
    },
    {
     "data": {
      "application/vnd.jupyter.widget-view+json": {
       "model_id": "879d190e435041799473a789ce08fbfe",
       "version_major": 2,
       "version_minor": 0
      },
      "text/plain": [
       "train evaluation:   0%|          | 0/3829 [00:00<?, ?it/s]"
      ]
     },
     "metadata": {},
     "output_type": "display_data"
    },
    {
     "data": {
      "application/vnd.jupyter.widget-view+json": {
       "model_id": "0a24306a641040c8ab041f074d2a73b0",
       "version_major": 2,
       "version_minor": 0
      },
      "text/plain": [
       "validation evaluation:   0%|          | 0/3829 [00:00<?, ?it/s]"
      ]
     },
     "metadata": {},
     "output_type": "display_data"
    },
    {
     "name": "stdout",
     "output_type": "stream",
     "text": [
      "train metrics:      {'mse': 0.14595851835693321, 'mae_stars': 1.4560409666788923}\n",
      "validation metrics: {'mse': 0.16074813163741258, 'mae_stars': 1.53123655747919}\n"
     ]
    },
    {
     "data": {
      "application/vnd.jupyter.widget-view+json": {
       "model_id": "db5d5195c3f3453eaa8374ef2bbd1e38",
       "version_major": 2,
       "version_minor": 0
      },
      "text/plain": [
       "train evaluation:   0%|          | 0/3829 [00:00<?, ?it/s]"
      ]
     },
     "metadata": {},
     "output_type": "display_data"
    },
    {
     "data": {
      "application/vnd.jupyter.widget-view+json": {
       "model_id": "fd138ad461004e10a7cb1a7caa0dfd99",
       "version_major": 2,
       "version_minor": 0
      },
      "text/plain": [
       "validation evaluation:   0%|          | 0/3829 [00:00<?, ?it/s]"
      ]
     },
     "metadata": {},
     "output_type": "display_data"
    },
    {
     "name": "stdout",
     "output_type": "stream",
     "text": [
      "train metrics:      {'mse': 0.14538384422943965, 'mae_stars': 1.4530473195500895}\n",
      "validation metrics: {'mse': 0.16091681007158665, 'mae_stars': 1.5320382666793309}\n"
     ]
    },
    {
     "data": {
      "application/vnd.jupyter.widget-view+json": {
       "model_id": "0f27aa1d7d054b0ebe3edf2565f856b0",
       "version_major": 2,
       "version_minor": 0
      },
      "text/plain": [
       "epoch 6:   0%|          | 0/34455 [00:00<?, ?it/s]"
      ]
     },
     "metadata": {},
     "output_type": "display_data"
    },
    {
     "data": {
      "application/vnd.jupyter.widget-view+json": {
       "model_id": "8ed309b8e9fc450aa0a9474f2dcd21c1",
       "version_major": 2,
       "version_minor": 0
      },
      "text/plain": [
       "train evaluation:   0%|          | 0/3829 [00:00<?, ?it/s]"
      ]
     },
     "metadata": {},
     "output_type": "display_data"
    },
    {
     "data": {
      "application/vnd.jupyter.widget-view+json": {
       "model_id": "58a9b8d4ab6349148aeb9614c12e8ab5",
       "version_major": 2,
       "version_minor": 0
      },
      "text/plain": [
       "validation evaluation:   0%|          | 0/3829 [00:00<?, ?it/s]"
      ]
     },
     "metadata": {},
     "output_type": "display_data"
    },
    {
     "name": "stdout",
     "output_type": "stream",
     "text": [
      "train metrics:      {'mse': 0.14488364901655365, 'mae_stars': 1.4504647131344768}\n",
      "validation metrics: {'mse': 0.16025333324839847, 'mae_stars': 1.5285688827354749}\n"
     ]
    },
    {
     "data": {
      "application/vnd.jupyter.widget-view+json": {
       "model_id": "f5df0d8589e046b185089da2e4c438e3",
       "version_major": 2,
       "version_minor": 0
      },
      "text/plain": [
       "train evaluation:   0%|          | 0/3829 [00:00<?, ?it/s]"
      ]
     },
     "metadata": {},
     "output_type": "display_data"
    },
    {
     "data": {
      "application/vnd.jupyter.widget-view+json": {
       "model_id": "0cfb632402a94497afad8d6cc6cb8600",
       "version_major": 2,
       "version_minor": 0
      },
      "text/plain": [
       "validation evaluation:   0%|          | 0/3829 [00:00<?, ?it/s]"
      ]
     },
     "metadata": {},
     "output_type": "display_data"
    },
    {
     "name": "stdout",
     "output_type": "stream",
     "text": [
      "train metrics:      {'mse': 0.14451378809818868, 'mae_stars': 1.4488543759254102}\n",
      "validation metrics: {'mse': 0.1603950688420372, 'mae_stars': 1.5295591828529813}\n"
     ]
    },
    {
     "data": {
      "application/vnd.jupyter.widget-view+json": {
       "model_id": "ae619a7c28e54795a0d33bfce69ec64f",
       "version_major": 2,
       "version_minor": 0
      },
      "text/plain": [
       "train evaluation:   0%|          | 0/3829 [00:00<?, ?it/s]"
      ]
     },
     "metadata": {},
     "output_type": "display_data"
    },
    {
     "data": {
      "application/vnd.jupyter.widget-view+json": {
       "model_id": "47d9023a748545ba8e944ad99bc6a2ea",
       "version_major": 2,
       "version_minor": 0
      },
      "text/plain": [
       "validation evaluation:   0%|          | 0/3829 [00:00<?, ?it/s]"
      ]
     },
     "metadata": {},
     "output_type": "display_data"
    },
    {
     "name": "stdout",
     "output_type": "stream",
     "text": [
      "train metrics:      {'mse': 0.14374118084056348, 'mae_stars': 1.4447723047544638}\n",
      "validation metrics: {'mse': 0.15971026940869115, 'mae_stars': 1.525840607206888}\n"
     ]
    },
    {
     "data": {
      "application/vnd.jupyter.widget-view+json": {
       "model_id": "e40b774b900048b698100bb305fe697b",
       "version_major": 2,
       "version_minor": 0
      },
      "text/plain": [
       "epoch 7:   0%|          | 0/34455 [00:00<?, ?it/s]"
      ]
     },
     "metadata": {},
     "output_type": "display_data"
    },
    {
     "data": {
      "application/vnd.jupyter.widget-view+json": {
       "model_id": "2ea34f3b32374198ad29c16dc4a5d393",
       "version_major": 2,
       "version_minor": 0
      },
      "text/plain": [
       "train evaluation:   0%|          | 0/3829 [00:00<?, ?it/s]"
      ]
     },
     "metadata": {},
     "output_type": "display_data"
    },
    {
     "data": {
      "application/vnd.jupyter.widget-view+json": {
       "model_id": "4d1e8f3686de4a4c80f8a4d72d735a70",
       "version_major": 2,
       "version_minor": 0
      },
      "text/plain": [
       "validation evaluation:   0%|          | 0/3829 [00:00<?, ?it/s]"
      ]
     },
     "metadata": {},
     "output_type": "display_data"
    },
    {
     "name": "stdout",
     "output_type": "stream",
     "text": [
      "train metrics:      {'mse': 0.14337176310818386, 'mae_stars': 1.4431463942636116}\n",
      "validation metrics: {'mse': 0.15967409271668068, 'mae_stars': 1.5259095786227417}\n"
     ]
    },
    {
     "data": {
      "application/vnd.jupyter.widget-view+json": {
       "model_id": "42441e2aa2b34c02b41daefa669eeb7f",
       "version_major": 2,
       "version_minor": 0
      },
      "text/plain": [
       "train evaluation:   0%|          | 0/3829 [00:00<?, ?it/s]"
      ]
     },
     "metadata": {},
     "output_type": "display_data"
    },
    {
     "data": {
      "application/vnd.jupyter.widget-view+json": {
       "model_id": "e8fc93df5fc44a978edf23cfb3d1e461",
       "version_major": 2,
       "version_minor": 0
      },
      "text/plain": [
       "validation evaluation:   0%|          | 0/3829 [00:00<?, ?it/s]"
      ]
     },
     "metadata": {},
     "output_type": "display_data"
    },
    {
     "name": "stdout",
     "output_type": "stream",
     "text": [
      "train metrics:      {'mse': 0.14309018379435834, 'mae_stars': 1.4415360141528994}\n",
      "validation metrics: {'mse': 0.15912226909179544, 'mae_stars': 1.5230878723542538}\n"
     ]
    },
    {
     "data": {
      "application/vnd.jupyter.widget-view+json": {
       "model_id": "3ed5d75ed5194b6dbeb1b80822591c54",
       "version_major": 2,
       "version_minor": 0
      },
      "text/plain": [
       "train evaluation:   0%|          | 0/3829 [00:00<?, ?it/s]"
      ]
     },
     "metadata": {},
     "output_type": "display_data"
    },
    {
     "data": {
      "application/vnd.jupyter.widget-view+json": {
       "model_id": "b2b7b70d5a5c4c8a80773deed71f17ac",
       "version_major": 2,
       "version_minor": 0
      },
      "text/plain": [
       "validation evaluation:   0%|          | 0/3829 [00:00<?, ?it/s]"
      ]
     },
     "metadata": {},
     "output_type": "display_data"
    },
    {
     "name": "stdout",
     "output_type": "stream",
     "text": [
      "train metrics:      {'mse': 0.14265399666629064, 'mae_stars': 1.4393181927399026}\n",
      "validation metrics: {'mse': 0.15869647691590133, 'mae_stars': 1.5207014189404089}\n"
     ]
    },
    {
     "data": {
      "application/vnd.jupyter.widget-view+json": {
       "model_id": "7453c6c704764533ab1ea6ecff81ccb8",
       "version_major": 2,
       "version_minor": 0
      },
      "text/plain": [
       "epoch 8:   0%|          | 0/34455 [00:00<?, ?it/s]"
      ]
     },
     "metadata": {},
     "output_type": "display_data"
    },
    {
     "data": {
      "application/vnd.jupyter.widget-view+json": {
       "model_id": "2eedb9ab479f4aada4c10291287ea97e",
       "version_major": 2,
       "version_minor": 0
      },
      "text/plain": [
       "train evaluation:   0%|          | 0/3829 [00:00<?, ?it/s]"
      ]
     },
     "metadata": {},
     "output_type": "display_data"
    },
    {
     "data": {
      "application/vnd.jupyter.widget-view+json": {
       "model_id": "f3f49aa90c3f4062be6f55be10eccf52",
       "version_major": 2,
       "version_minor": 0
      },
      "text/plain": [
       "validation evaluation:   0%|          | 0/3829 [00:00<?, ?it/s]"
      ]
     },
     "metadata": {},
     "output_type": "display_data"
    },
    {
     "name": "stdout",
     "output_type": "stream",
     "text": [
      "train metrics:      {'mse': 0.14274084332189163, 'mae_stars': 1.4398974312849286}\n",
      "validation metrics: {'mse': 0.15882714821639152, 'mae_stars': 1.5216052194088736}\n"
     ]
    },
    {
     "data": {
      "application/vnd.jupyter.widget-view+json": {
       "model_id": "2e8e9f39c06746a79df361467ae2290a",
       "version_major": 2,
       "version_minor": 0
      },
      "text/plain": [
       "train evaluation:   0%|          | 0/3829 [00:00<?, ?it/s]"
      ]
     },
     "metadata": {},
     "output_type": "display_data"
    },
    {
     "data": {
      "application/vnd.jupyter.widget-view+json": {
       "model_id": "c9733a699f4a48938f67f4b3f56a2c40",
       "version_major": 2,
       "version_minor": 0
      },
      "text/plain": [
       "validation evaluation:   0%|          | 0/3829 [00:00<?, ?it/s]"
      ]
     },
     "metadata": {},
     "output_type": "display_data"
    },
    {
     "name": "stdout",
     "output_type": "stream",
     "text": [
      "train metrics:      {'mse': 0.1427196379489253, 'mae_stars': 1.4397028263071618}\n",
      "validation metrics: {'mse': 0.15864260572542188, 'mae_stars': 1.5204837664078408}\n"
     ]
    },
    {
     "data": {
      "application/vnd.jupyter.widget-view+json": {
       "model_id": "06caa26af6334edca4dee45422811ab9",
       "version_major": 2,
       "version_minor": 0
      },
      "text/plain": [
       "epoch 9:   0%|          | 0/34455 [00:00<?, ?it/s]"
      ]
     },
     "metadata": {},
     "output_type": "display_data"
    },
    {
     "data": {
      "application/vnd.jupyter.widget-view+json": {
       "model_id": "b89625178a4d4388b1ca1c1fe2bfbbcc",
       "version_major": 2,
       "version_minor": 0
      },
      "text/plain": [
       "train evaluation:   0%|          | 0/3829 [00:00<?, ?it/s]"
      ]
     },
     "metadata": {},
     "output_type": "display_data"
    },
    {
     "data": {
      "application/vnd.jupyter.widget-view+json": {
       "model_id": "b7dfcd6ea0d94d489414bc9372ccae27",
       "version_major": 2,
       "version_minor": 0
      },
      "text/plain": [
       "validation evaluation:   0%|          | 0/3829 [00:00<?, ?it/s]"
      ]
     },
     "metadata": {},
     "output_type": "display_data"
    },
    {
     "name": "stdout",
     "output_type": "stream",
     "text": [
      "train metrics:      {'mse': 0.1424189915554148, 'mae_stars': 1.438287384393602}\n",
      "validation metrics: {'mse': 0.15825187841604946, 'mae_stars': 1.5186327556836507}\n"
     ]
    },
    {
     "data": {
      "application/vnd.jupyter.widget-view+json": {
       "model_id": "5580c5871ab246afafbe6662d4e075a7",
       "version_major": 2,
       "version_minor": 0
      },
      "text/plain": [
       "train evaluation:   0%|          | 0/3829 [00:00<?, ?it/s]"
      ]
     },
     "metadata": {},
     "output_type": "display_data"
    },
    {
     "data": {
      "application/vnd.jupyter.widget-view+json": {
       "model_id": "44e4c89df909436d8756e3f3637f177e",
       "version_major": 2,
       "version_minor": 0
      },
      "text/plain": [
       "validation evaluation:   0%|          | 0/3829 [00:00<?, ?it/s]"
      ]
     },
     "metadata": {},
     "output_type": "display_data"
    },
    {
     "name": "stdout",
     "output_type": "stream",
     "text": [
      "train metrics:      {'mse': 0.14236009312508063, 'mae_stars': 1.4378867493531324}\n",
      "validation metrics: {'mse': 0.1580830452534168, 'mae_stars': 1.5176972515995866}\n"
     ]
    },
    {
     "data": {
      "application/vnd.jupyter.widget-view+json": {
       "model_id": "d6f1cf3c781d4d9fb1fa65c0cdaf0e0a",
       "version_major": 2,
       "version_minor": 0
      },
      "text/plain": [
       "train evaluation:   0%|          | 0/3829 [00:00<?, ?it/s]"
      ]
     },
     "metadata": {},
     "output_type": "display_data"
    },
    {
     "data": {
      "application/vnd.jupyter.widget-view+json": {
       "model_id": "6e0b0510503e4228a4fe4ef72b6911e5",
       "version_major": 2,
       "version_minor": 0
      },
      "text/plain": [
       "validation evaluation:   0%|          | 0/3829 [00:00<?, ?it/s]"
      ]
     },
     "metadata": {},
     "output_type": "display_data"
    },
    {
     "name": "stdout",
     "output_type": "stream",
     "text": [
      "train metrics:      {'mse': 0.14201847423178374, 'mae_stars': 1.4363601311718275}\n",
      "validation metrics: {'mse': 0.1579849755026149, 'mae_stars': 1.5173416603449026}\n"
     ]
    },
    {
     "data": {
      "application/vnd.jupyter.widget-view+json": {
       "model_id": "aff74f338da549bb85e280224043b9c7",
       "version_major": 2,
       "version_minor": 0
      },
      "text/plain": [
       "epoch 10:   0%|          | 0/34455 [00:00<?, ?it/s]"
      ]
     },
     "metadata": {},
     "output_type": "display_data"
    },
    {
     "data": {
      "application/vnd.jupyter.widget-view+json": {
       "model_id": "32c0c4a47a884c14907c3fa9ba113514",
       "version_major": 2,
       "version_minor": 0
      },
      "text/plain": [
       "train evaluation:   0%|          | 0/3829 [00:00<?, ?it/s]"
      ]
     },
     "metadata": {},
     "output_type": "display_data"
    },
    {
     "data": {
      "application/vnd.jupyter.widget-view+json": {
       "model_id": "3f3fad55ab2f431f8a97072839374ee9",
       "version_major": 2,
       "version_minor": 0
      },
      "text/plain": [
       "validation evaluation:   0%|          | 0/3829 [00:00<?, ?it/s]"
      ]
     },
     "metadata": {},
     "output_type": "display_data"
    },
    {
     "name": "stdout",
     "output_type": "stream",
     "text": [
      "train metrics:      {'mse': 0.14174339805770306, 'mae_stars': 1.4347998622535383}\n",
      "validation metrics: {'mse': 0.15813174850987716, 'mae_stars': 1.5180240636645237}\n"
     ]
    },
    {
     "data": {
      "application/vnd.jupyter.widget-view+json": {
       "model_id": "a4e7cd9c9c6a41e68f5a20d91472d04f",
       "version_major": 2,
       "version_minor": 0
      },
      "text/plain": [
       "train evaluation:   0%|          | 0/3829 [00:00<?, ?it/s]"
      ]
     },
     "metadata": {},
     "output_type": "display_data"
    },
    {
     "data": {
      "application/vnd.jupyter.widget-view+json": {
       "model_id": "cc867c42cbc540388d4e9f839b8f1110",
       "version_major": 2,
       "version_minor": 0
      },
      "text/plain": [
       "validation evaluation:   0%|          | 0/3829 [00:00<?, ?it/s]"
      ]
     },
     "metadata": {},
     "output_type": "display_data"
    },
    {
     "name": "stdout",
     "output_type": "stream",
     "text": [
      "train metrics:      {'mse': 0.14172006992598402, 'mae_stars': 1.4346863300690111}\n",
      "validation metrics: {'mse': 0.1576237165334798, 'mae_stars': 1.5154449865007935}\n"
     ]
    },
    {
     "data": {
      "application/vnd.jupyter.widget-view+json": {
       "model_id": "c77ad4aba1904f37bd479f0b08d9baba",
       "version_major": 2,
       "version_minor": 0
      },
      "text/plain": [
       "train evaluation:   0%|          | 0/3829 [00:00<?, ?it/s]"
      ]
     },
     "metadata": {},
     "output_type": "display_data"
    },
    {
     "data": {
      "application/vnd.jupyter.widget-view+json": {
       "model_id": "ea42a31dc428459b9254f4d931b475e4",
       "version_major": 2,
       "version_minor": 0
      },
      "text/plain": [
       "validation evaluation:   0%|          | 0/3829 [00:00<?, ?it/s]"
      ]
     },
     "metadata": {},
     "output_type": "display_data"
    },
    {
     "name": "stdout",
     "output_type": "stream",
     "text": [
      "train metrics:      {'mse': 0.14158218227897, 'mae_stars': 1.4340572842701076}\n",
      "validation metrics: {'mse': 0.1575882539803006, 'mae_stars': 1.5153546163325335}\n"
     ]
    },
    {
     "data": {
      "application/vnd.jupyter.widget-view+json": {
       "model_id": "b2eeb73607de4d288a326cecf8c16a27",
       "version_major": 2,
       "version_minor": 0
      },
      "text/plain": [
       "epoch 11:   0%|          | 0/34455 [00:00<?, ?it/s]"
      ]
     },
     "metadata": {},
     "output_type": "display_data"
    },
    {
     "data": {
      "application/vnd.jupyter.widget-view+json": {
       "model_id": "8b586a189152437680d711025ae68ce1",
       "version_major": 2,
       "version_minor": 0
      },
      "text/plain": [
       "train evaluation:   0%|          | 0/3829 [00:00<?, ?it/s]"
      ]
     },
     "metadata": {},
     "output_type": "display_data"
    },
    {
     "data": {
      "application/vnd.jupyter.widget-view+json": {
       "model_id": "09e45b260e784c5dbb8d1e01637447bd",
       "version_major": 2,
       "version_minor": 0
      },
      "text/plain": [
       "validation evaluation:   0%|          | 0/3829 [00:00<?, ?it/s]"
      ]
     },
     "metadata": {},
     "output_type": "display_data"
    },
    {
     "name": "stdout",
     "output_type": "stream",
     "text": [
      "train metrics:      {'mse': 0.14161764579922637, 'mae_stars': 1.4343500540971943}\n",
      "validation metrics: {'mse': 0.1577254984324487, 'mae_stars': 1.5160420394871559}\n"
     ]
    },
    {
     "data": {
      "application/vnd.jupyter.widget-view+json": {
       "model_id": "aa8ebaf37ac04547abb0775cf9dfdbea",
       "version_major": 2,
       "version_minor": 0
      },
      "text/plain": [
       "train evaluation:   0%|          | 0/3829 [00:00<?, ?it/s]"
      ]
     },
     "metadata": {},
     "output_type": "display_data"
    },
    {
     "data": {
      "application/vnd.jupyter.widget-view+json": {
       "model_id": "bfcb495a2cfe4ede92d4aee29f51419a",
       "version_major": 2,
       "version_minor": 0
      },
      "text/plain": [
       "validation evaluation:   0%|          | 0/3829 [00:00<?, ?it/s]"
      ]
     },
     "metadata": {},
     "output_type": "display_data"
    },
    {
     "name": "stdout",
     "output_type": "stream",
     "text": [
      "train metrics:      {'mse': 0.1413510885224871, 'mae_stars': 1.4328586597702901}\n",
      "validation metrics: {'mse': 0.1576704309830531, 'mae_stars': 1.5157980249830312}\n"
     ]
    },
    {
     "data": {
      "application/vnd.jupyter.widget-view+json": {
       "model_id": "e2d308ac83bf4369b8d3afd35c792bff",
       "version_major": 2,
       "version_minor": 0
      },
      "text/plain": [
       "train evaluation:   0%|          | 0/3829 [00:00<?, ?it/s]"
      ]
     },
     "metadata": {},
     "output_type": "display_data"
    },
    {
     "data": {
      "application/vnd.jupyter.widget-view+json": {
       "model_id": "8d0fd5d4f2cd4215a138cf7da4c74d07",
       "version_major": 2,
       "version_minor": 0
      },
      "text/plain": [
       "validation evaluation:   0%|          | 0/3829 [00:00<?, ?it/s]"
      ]
     },
     "metadata": {},
     "output_type": "display_data"
    },
    {
     "name": "stdout",
     "output_type": "stream",
     "text": [
      "train metrics:      {'mse': 0.14120620957287025, 'mae_stars': 1.4322071564387453}\n",
      "validation metrics: {'mse': 0.15731973552453235, 'mae_stars': 1.5139133765511301}\n"
     ]
    },
    {
     "data": {
      "application/vnd.jupyter.widget-view+json": {
       "model_id": "ff7bc59274ab43818deb78dd979fe95e",
       "version_major": 2,
       "version_minor": 0
      },
      "text/plain": [
       "epoch 12:   0%|          | 0/34455 [00:00<?, ?it/s]"
      ]
     },
     "metadata": {},
     "output_type": "display_data"
    },
    {
     "data": {
      "application/vnd.jupyter.widget-view+json": {
       "model_id": "5e420fb9cf73438085f904e63b05c2ba",
       "version_major": 2,
       "version_minor": 0
      },
      "text/plain": [
       "train evaluation:   0%|          | 0/3829 [00:00<?, ?it/s]"
      ]
     },
     "metadata": {},
     "output_type": "display_data"
    },
    {
     "data": {
      "application/vnd.jupyter.widget-view+json": {
       "model_id": "327476609ff34f929665d1b4d5eb5f93",
       "version_major": 2,
       "version_minor": 0
      },
      "text/plain": [
       "validation evaluation:   0%|          | 0/3829 [00:00<?, ?it/s]"
      ]
     },
     "metadata": {},
     "output_type": "display_data"
    },
    {
     "name": "stdout",
     "output_type": "stream",
     "text": [
      "train metrics:      {'mse': 0.14097671852694943, 'mae_stars': 1.430944591628319}\n",
      "validation metrics: {'mse': 0.157144139933583, 'mae_stars': 1.51295463495262}\n"
     ]
    },
    {
     "data": {
      "application/vnd.jupyter.widget-view+json": {
       "model_id": "3dc04efa26274c0f9532f9b35bb302f7",
       "version_major": 2,
       "version_minor": 0
      },
      "text/plain": [
       "train evaluation:   0%|          | 0/3829 [00:00<?, ?it/s]"
      ]
     },
     "metadata": {},
     "output_type": "display_data"
    },
    {
     "data": {
      "application/vnd.jupyter.widget-view+json": {
       "model_id": "911877a64c9f4527a04531a681a16909",
       "version_major": 2,
       "version_minor": 0
      },
      "text/plain": [
       "validation evaluation:   0%|          | 0/3829 [00:00<?, ?it/s]"
      ]
     },
     "metadata": {},
     "output_type": "display_data"
    },
    {
     "name": "stdout",
     "output_type": "stream",
     "text": [
      "train metrics:      {'mse': 0.14092996982105035, 'mae_stars': 1.4308830258366207}\n",
      "validation metrics: {'mse': 0.1570930261058856, 'mae_stars': 1.5127112838362053}\n"
     ]
    },
    {
     "data": {
      "application/vnd.jupyter.widget-view+json": {
       "model_id": "6497cb28992842b3a04d5511347d2041",
       "version_major": 2,
       "version_minor": 0
      },
      "text/plain": [
       "epoch 13:   0%|          | 0/34455 [00:00<?, ?it/s]"
      ]
     },
     "metadata": {},
     "output_type": "display_data"
    },
    {
     "data": {
      "application/vnd.jupyter.widget-view+json": {
       "model_id": "fc82656267a24d0ba4b4fe164a7baa89",
       "version_major": 2,
       "version_minor": 0
      },
      "text/plain": [
       "train evaluation:   0%|          | 0/3829 [00:00<?, ?it/s]"
      ]
     },
     "metadata": {},
     "output_type": "display_data"
    },
    {
     "data": {
      "application/vnd.jupyter.widget-view+json": {
       "model_id": "1e88a2294e7f4cfd927890c6c758845c",
       "version_major": 2,
       "version_minor": 0
      },
      "text/plain": [
       "validation evaluation:   0%|          | 0/3829 [00:00<?, ?it/s]"
      ]
     },
     "metadata": {},
     "output_type": "display_data"
    },
    {
     "name": "stdout",
     "output_type": "stream",
     "text": [
      "train metrics:      {'mse': 0.1407275581136482, 'mae_stars': 1.4298348048705287}\n",
      "validation metrics: {'mse': 0.15712386640370063, 'mae_stars': 1.512989656300668}\n"
     ]
    },
    {
     "data": {
      "application/vnd.jupyter.widget-view+json": {
       "model_id": "7f9513ec0be54ce2b3dc523d711ede2a",
       "version_major": 2,
       "version_minor": 0
      },
      "text/plain": [
       "train evaluation:   0%|          | 0/3829 [00:00<?, ?it/s]"
      ]
     },
     "metadata": {},
     "output_type": "display_data"
    },
    {
     "data": {
      "application/vnd.jupyter.widget-view+json": {
       "model_id": "c6fa6361f37f47b4983130092d0e47e2",
       "version_major": 2,
       "version_minor": 0
      },
      "text/plain": [
       "validation evaluation:   0%|          | 0/3829 [00:00<?, ?it/s]"
      ]
     },
     "metadata": {},
     "output_type": "display_data"
    },
    {
     "name": "stdout",
     "output_type": "stream",
     "text": [
      "train metrics:      {'mse': 0.1407260887050448, 'mae_stars': 1.4297425312141614}\n",
      "validation metrics: {'mse': 0.15664965148016005, 'mae_stars': 1.5105141028314324}\n"
     ]
    },
    {
     "data": {
      "application/vnd.jupyter.widget-view+json": {
       "model_id": "a45784219cc146499c146f8c04272aa7",
       "version_major": 2,
       "version_minor": 0
      },
      "text/plain": [
       "train evaluation:   0%|          | 0/3829 [00:00<?, ?it/s]"
      ]
     },
     "metadata": {},
     "output_type": "display_data"
    },
    {
     "data": {
      "application/vnd.jupyter.widget-view+json": {
       "model_id": "f1fd4bcc8c6a46ffb852b65a22a153bc",
       "version_major": 2,
       "version_minor": 0
      },
      "text/plain": [
       "validation evaluation:   0%|          | 0/3829 [00:00<?, ?it/s]"
      ]
     },
     "metadata": {},
     "output_type": "display_data"
    },
    {
     "name": "stdout",
     "output_type": "stream",
     "text": [
      "train metrics:      {'mse': 0.1403438879790397, 'mae_stars': 1.4277892328329826}\n",
      "validation metrics: {'mse': 0.15652485119826365, 'mae_stars': 1.5097750834429908}\n"
     ]
    },
    {
     "data": {
      "application/vnd.jupyter.widget-view+json": {
       "model_id": "a9541609e30a479e806f348aff69138f",
       "version_major": 2,
       "version_minor": 0
      },
      "text/plain": [
       "epoch 14:   0%|          | 0/34455 [00:00<?, ?it/s]"
      ]
     },
     "metadata": {},
     "output_type": "display_data"
    },
    {
     "data": {
      "application/vnd.jupyter.widget-view+json": {
       "model_id": "c6c6f0b7b57f47c2b341eff38a0d9301",
       "version_major": 2,
       "version_minor": 0
      },
      "text/plain": [
       "train evaluation:   0%|          | 0/3829 [00:00<?, ?it/s]"
      ]
     },
     "metadata": {},
     "output_type": "display_data"
    },
    {
     "data": {
      "application/vnd.jupyter.widget-view+json": {
       "model_id": "0f6970e07edc495a86a0f13b39bfce7e",
       "version_major": 2,
       "version_minor": 0
      },
      "text/plain": [
       "validation evaluation:   0%|          | 0/3829 [00:00<?, ?it/s]"
      ]
     },
     "metadata": {},
     "output_type": "display_data"
    },
    {
     "name": "stdout",
     "output_type": "stream",
     "text": [
      "train metrics:      {'mse': 0.1402822542876262, 'mae_stars': 1.4275980683150133}\n",
      "validation metrics: {'mse': 0.15617172518289255, 'mae_stars': 1.5078617400368377}\n"
     ]
    },
    {
     "data": {
      "application/vnd.jupyter.widget-view+json": {
       "model_id": "6063eac7c30c43e89afbb34f4eaabf88",
       "version_major": 2,
       "version_minor": 0
      },
      "text/plain": [
       "train evaluation:   0%|          | 0/3829 [00:00<?, ?it/s]"
      ]
     },
     "metadata": {},
     "output_type": "display_data"
    },
    {
     "data": {
      "application/vnd.jupyter.widget-view+json": {
       "model_id": "b86639cbe14e44c5b7a92a1d8d91cbb6",
       "version_major": 2,
       "version_minor": 0
      },
      "text/plain": [
       "validation evaluation:   0%|          | 0/3829 [00:00<?, ?it/s]"
      ]
     },
     "metadata": {},
     "output_type": "display_data"
    },
    {
     "name": "stdout",
     "output_type": "stream",
     "text": [
      "train metrics:      {'mse': 0.1401793563212605, 'mae_stars': 1.4270840807445493}\n",
      "validation metrics: {'mse': 0.1561014299453877, 'mae_stars': 1.507774469777105}\n"
     ]
    },
    {
     "data": {
      "application/vnd.jupyter.widget-view+json": {
       "model_id": "279db13e4d1a4b6fba1653456b2bcc25",
       "version_major": 2,
       "version_minor": 0
      },
      "text/plain": [
       "train evaluation:   0%|          | 0/3829 [00:00<?, ?it/s]"
      ]
     },
     "metadata": {},
     "output_type": "display_data"
    },
    {
     "data": {
      "application/vnd.jupyter.widget-view+json": {
       "model_id": "2b74c43e2f7443b8a993238dd798b7de",
       "version_major": 2,
       "version_minor": 0
      },
      "text/plain": [
       "validation evaluation:   0%|          | 0/3829 [00:00<?, ?it/s]"
      ]
     },
     "metadata": {},
     "output_type": "display_data"
    },
    {
     "name": "stdout",
     "output_type": "stream",
     "text": [
      "train metrics:      {'mse': 0.14001477915442434, 'mae_stars': 1.4262537919033536}\n",
      "validation metrics: {'mse': 0.15585060307712773, 'mae_stars': 1.5064595982560791}\n"
     ]
    },
    {
     "data": {
      "application/vnd.jupyter.widget-view+json": {
       "model_id": "6429d7508ac347cbbe95bd1280fe0a8d",
       "version_major": 2,
       "version_minor": 0
      },
      "text/plain": [
       "epoch 15:   0%|          | 0/34455 [00:00<?, ?it/s]"
      ]
     },
     "metadata": {},
     "output_type": "display_data"
    },
    {
     "data": {
      "application/vnd.jupyter.widget-view+json": {
       "model_id": "a1a5e1f5e0144b24a93bc2ac1757ae21",
       "version_major": 2,
       "version_minor": 0
      },
      "text/plain": [
       "train evaluation:   0%|          | 0/3829 [00:00<?, ?it/s]"
      ]
     },
     "metadata": {},
     "output_type": "display_data"
    },
    {
     "data": {
      "application/vnd.jupyter.widget-view+json": {
       "model_id": "abb1b4b7eac94277b4903b3ab842afd9",
       "version_major": 2,
       "version_minor": 0
      },
      "text/plain": [
       "validation evaluation:   0%|          | 0/3829 [00:00<?, ?it/s]"
      ]
     },
     "metadata": {},
     "output_type": "display_data"
    },
    {
     "name": "stdout",
     "output_type": "stream",
     "text": [
      "train metrics:      {'mse': 0.13995763791015298, 'mae_stars': 1.4259584717789155}\n",
      "validation metrics: {'mse': 0.15592386650997095, 'mae_stars': 1.506734778750936}\n"
     ]
    },
    {
     "data": {
      "application/vnd.jupyter.widget-view+json": {
       "model_id": "a00643571be24b4a92083070c003bcd4",
       "version_major": 2,
       "version_minor": 0
      },
      "text/plain": [
       "train evaluation:   0%|          | 0/3829 [00:00<?, ?it/s]"
      ]
     },
     "metadata": {},
     "output_type": "display_data"
    },
    {
     "data": {
      "application/vnd.jupyter.widget-view+json": {
       "model_id": "717e54f1150f456e808c85b790131efe",
       "version_major": 2,
       "version_minor": 0
      },
      "text/plain": [
       "validation evaluation:   0%|          | 0/3829 [00:00<?, ?it/s]"
      ]
     },
     "metadata": {},
     "output_type": "display_data"
    },
    {
     "name": "stdout",
     "output_type": "stream",
     "text": [
      "train metrics:      {'mse': 0.13997243726750086, 'mae_stars': 1.4259617535680043}\n",
      "validation metrics: {'mse': 0.15597518062772125, 'mae_stars': 1.5070847819884472}\n"
     ]
    },
    {
     "data": {
      "application/vnd.jupyter.widget-view+json": {
       "model_id": "cdc3bc325c904382acd97a49b852fa8c",
       "version_major": 2,
       "version_minor": 0
      },
      "text/plain": [
       "train evaluation:   0%|          | 0/3829 [00:00<?, ?it/s]"
      ]
     },
     "metadata": {},
     "output_type": "display_data"
    },
    {
     "data": {
      "application/vnd.jupyter.widget-view+json": {
       "model_id": "1c5a115a91454126ae4e0440c0ef0287",
       "version_major": 2,
       "version_minor": 0
      },
      "text/plain": [
       "validation evaluation:   0%|          | 0/3829 [00:00<?, ?it/s]"
      ]
     },
     "metadata": {},
     "output_type": "display_data"
    },
    {
     "name": "stdout",
     "output_type": "stream",
     "text": [
      "train metrics:      {'mse': 0.13998009575218096, 'mae_stars': 1.4261238140049912}\n",
      "validation metrics: {'mse': 0.15564634355957932, 'mae_stars': 1.5052571175116476}\n"
     ]
    },
    {
     "data": {
      "application/vnd.jupyter.widget-view+json": {
       "model_id": "635db2553ec04df8aa920eefcef914fb",
       "version_major": 2,
       "version_minor": 0
      },
      "text/plain": [
       "epoch 16:   0%|          | 0/34455 [00:00<?, ?it/s]"
      ]
     },
     "metadata": {},
     "output_type": "display_data"
    },
    {
     "data": {
      "application/vnd.jupyter.widget-view+json": {
       "model_id": "4815f194816344fe99d153a2299e9513",
       "version_major": 2,
       "version_minor": 0
      },
      "text/plain": [
       "train evaluation:   0%|          | 0/3829 [00:00<?, ?it/s]"
      ]
     },
     "metadata": {},
     "output_type": "display_data"
    },
    {
     "data": {
      "application/vnd.jupyter.widget-view+json": {
       "model_id": "4d7c41c9f0504a1aa7534badf8c362df",
       "version_major": 2,
       "version_minor": 0
      },
      "text/plain": [
       "validation evaluation:   0%|          | 0/3829 [00:00<?, ?it/s]"
      ]
     },
     "metadata": {},
     "output_type": "display_data"
    },
    {
     "name": "stdout",
     "output_type": "stream",
     "text": [
      "train metrics:      {'mse': 0.13965341856629707, 'mae_stars': 1.4244337170483332}\n",
      "validation metrics: {'mse': 0.15547454345083075, 'mae_stars': 1.5044870357906952}\n"
     ]
    },
    {
     "data": {
      "application/vnd.jupyter.widget-view+json": {
       "model_id": "a03b5fdabda84733b4cc39f8a431406c",
       "version_major": 2,
       "version_minor": 0
      },
      "text/plain": [
       "train evaluation:   0%|          | 0/3829 [00:00<?, ?it/s]"
      ]
     },
     "metadata": {},
     "output_type": "display_data"
    },
    {
     "data": {
      "application/vnd.jupyter.widget-view+json": {
       "model_id": "a679894f80af4a26be459719f41321b6",
       "version_major": 2,
       "version_minor": 0
      },
      "text/plain": [
       "validation evaluation:   0%|          | 0/3829 [00:00<?, ?it/s]"
      ]
     },
     "metadata": {},
     "output_type": "display_data"
    },
    {
     "name": "stdout",
     "output_type": "stream",
     "text": [
      "train metrics:      {'mse': 0.13958943528204681, 'mae_stars': 1.4241516376855512}\n",
      "validation metrics: {'mse': 0.15563870681954228, 'mae_stars': 1.5051248304586742}\n"
     ]
    },
    {
     "data": {
      "application/vnd.jupyter.widget-view+json": {
       "model_id": "6010472bda664bff8f5d5623089ed5c0",
       "version_major": 2,
       "version_minor": 0
      },
      "text/plain": [
       "epoch 17:   0%|          | 0/34455 [00:00<?, ?it/s]"
      ]
     },
     "metadata": {},
     "output_type": "display_data"
    },
    {
     "data": {
      "application/vnd.jupyter.widget-view+json": {
       "model_id": "e513ef1b80ac4f52b2970259a7669cfe",
       "version_major": 2,
       "version_minor": 0
      },
      "text/plain": [
       "train evaluation:   0%|          | 0/3829 [00:00<?, ?it/s]"
      ]
     },
     "metadata": {},
     "output_type": "display_data"
    },
    {
     "data": {
      "application/vnd.jupyter.widget-view+json": {
       "model_id": "0edaab7a13ef43edb73a996a4f9c48e2",
       "version_major": 2,
       "version_minor": 0
      },
      "text/plain": [
       "validation evaluation:   0%|          | 0/3829 [00:00<?, ?it/s]"
      ]
     },
     "metadata": {},
     "output_type": "display_data"
    },
    {
     "name": "stdout",
     "output_type": "stream",
     "text": [
      "train metrics:      {'mse': 0.1394254940200269, 'mae_stars': 1.4233101167545583}\n",
      "validation metrics: {'mse': 0.15558281062391227, 'mae_stars': 1.5049288897079722}\n"
     ]
    },
    {
     "data": {
      "application/vnd.jupyter.widget-view+json": {
       "model_id": "37cbbd589a00456381eba0eb7e5920d0",
       "version_major": 2,
       "version_minor": 0
      },
      "text/plain": [
       "train evaluation:   0%|          | 0/3829 [00:00<?, ?it/s]"
      ]
     },
     "metadata": {},
     "output_type": "display_data"
    },
    {
     "data": {
      "application/vnd.jupyter.widget-view+json": {
       "model_id": "1d663ef450de4bc8ae902f7875484594",
       "version_major": 2,
       "version_minor": 0
      },
      "text/plain": [
       "validation evaluation:   0%|          | 0/3829 [00:00<?, ?it/s]"
      ]
     },
     "metadata": {},
     "output_type": "display_data"
    },
    {
     "name": "stdout",
     "output_type": "stream",
     "text": [
      "train metrics:      {'mse': 0.13930274718546873, 'mae_stars': 1.4227134057515967}\n",
      "validation metrics: {'mse': 0.1553977464560928, 'mae_stars': 1.50411100829977}\n"
     ]
    },
    {
     "data": {
      "application/vnd.jupyter.widget-view+json": {
       "model_id": "0a46dad9aad54053b0eff389a4f4fe37",
       "version_major": 2,
       "version_minor": 0
      },
      "text/plain": [
       "train evaluation:   0%|          | 0/3829 [00:00<?, ?it/s]"
      ]
     },
     "metadata": {},
     "output_type": "display_data"
    },
    {
     "data": {
      "application/vnd.jupyter.widget-view+json": {
       "model_id": "c7f3674dfd314261b2016e57b00a66c3",
       "version_major": 2,
       "version_minor": 0
      },
      "text/plain": [
       "validation evaluation:   0%|          | 0/3829 [00:00<?, ?it/s]"
      ]
     },
     "metadata": {},
     "output_type": "display_data"
    },
    {
     "name": "stdout",
     "output_type": "stream",
     "text": [
      "train metrics:      {'mse': 0.1391560108629273, 'mae_stars': 1.4219556349660685}\n",
      "validation metrics: {'mse': 0.15489630984494132, 'mae_stars': 1.5015915053480442}\n"
     ]
    },
    {
     "data": {
      "application/vnd.jupyter.widget-view+json": {
       "model_id": "0cb78862867d424fad5c9bbeb6132d03",
       "version_major": 2,
       "version_minor": 0
      },
      "text/plain": [
       "epoch 18:   0%|          | 0/34455 [00:00<?, ?it/s]"
      ]
     },
     "metadata": {},
     "output_type": "display_data"
    },
    {
     "data": {
      "application/vnd.jupyter.widget-view+json": {
       "model_id": "95a99bbd22de483e97e2df0ef133a635",
       "version_major": 2,
       "version_minor": 0
      },
      "text/plain": [
       "train evaluation:   0%|          | 0/3829 [00:00<?, ?it/s]"
      ]
     },
     "metadata": {},
     "output_type": "display_data"
    },
    {
     "data": {
      "application/vnd.jupyter.widget-view+json": {
       "model_id": "e0ee56c3361d4fa7880c3e016fc02d21",
       "version_major": 2,
       "version_minor": 0
      },
      "text/plain": [
       "validation evaluation:   0%|          | 0/3829 [00:00<?, ?it/s]"
      ]
     },
     "metadata": {},
     "output_type": "display_data"
    },
    {
     "name": "stdout",
     "output_type": "stream",
     "text": [
      "train metrics:      {'mse': 0.13914407709149848, 'mae_stars': 1.4219253501714006}\n",
      "validation metrics: {'mse': 0.15509890140535065, 'mae_stars': 1.50267508559826}\n"
     ]
    },
    {
     "data": {
      "application/vnd.jupyter.widget-view+json": {
       "model_id": "bf2e4121e9ab41c88065a5b8242fb5ec",
       "version_major": 2,
       "version_minor": 0
      },
      "text/plain": [
       "train evaluation:   0%|          | 0/3829 [00:00<?, ?it/s]"
      ]
     },
     "metadata": {},
     "output_type": "display_data"
    },
    {
     "data": {
      "application/vnd.jupyter.widget-view+json": {
       "model_id": "05df3324d3654cc8a7f5983772c65c75",
       "version_major": 2,
       "version_minor": 0
      },
      "text/plain": [
       "validation evaluation:   0%|          | 0/3829 [00:00<?, ?it/s]"
      ]
     },
     "metadata": {},
     "output_type": "display_data"
    },
    {
     "name": "stdout",
     "output_type": "stream",
     "text": [
      "train metrics:      {'mse': 0.1389895395421272, 'mae_stars': 1.4210873159175443}\n",
      "validation metrics: {'mse': 0.15485207794672454, 'mae_stars': 1.5014314825212902}\n"
     ]
    },
    {
     "data": {
      "application/vnd.jupyter.widget-view+json": {
       "model_id": "c42368a9776c450db0373ca5b5053a40",
       "version_major": 2,
       "version_minor": 0
      },
      "text/plain": [
       "train evaluation:   0%|          | 0/3829 [00:00<?, ?it/s]"
      ]
     },
     "metadata": {},
     "output_type": "display_data"
    },
    {
     "data": {
      "application/vnd.jupyter.widget-view+json": {
       "model_id": "53f78adabc09464eba531b2558134d9f",
       "version_major": 2,
       "version_minor": 0
      },
      "text/plain": [
       "validation evaluation:   0%|          | 0/3829 [00:00<?, ?it/s]"
      ]
     },
     "metadata": {},
     "output_type": "display_data"
    },
    {
     "name": "stdout",
     "output_type": "stream",
     "text": [
      "train metrics:      {'mse': 0.13874296981770304, 'mae_stars': 1.4198097543979196}\n",
      "validation metrics: {'mse': 0.15467392293248422, 'mae_stars': 1.5005623908228463}\n"
     ]
    },
    {
     "data": {
      "application/vnd.jupyter.widget-view+json": {
       "model_id": "e9640155146b4204a49d5578bc3b4dac",
       "version_major": 2,
       "version_minor": 0
      },
      "text/plain": [
       "epoch 19:   0%|          | 0/34455 [00:00<?, ?it/s]"
      ]
     },
     "metadata": {},
     "output_type": "display_data"
    },
    {
     "data": {
      "application/vnd.jupyter.widget-view+json": {
       "model_id": "5c5a5abe9a094384b519b1fbff47024e",
       "version_major": 2,
       "version_minor": 0
      },
      "text/plain": [
       "train evaluation:   0%|          | 0/3829 [00:00<?, ?it/s]"
      ]
     },
     "metadata": {},
     "output_type": "display_data"
    },
    {
     "data": {
      "application/vnd.jupyter.widget-view+json": {
       "model_id": "19bc9c27f54b413f887dabf637e27a3a",
       "version_major": 2,
       "version_minor": 0
      },
      "text/plain": [
       "validation evaluation:   0%|          | 0/3829 [00:00<?, ?it/s]"
      ]
     },
     "metadata": {},
     "output_type": "display_data"
    },
    {
     "name": "stdout",
     "output_type": "stream",
     "text": [
      "train metrics:      {'mse': 0.13875757116940166, 'mae_stars': 1.4199848342234487}\n",
      "validation metrics: {'mse': 0.15453293221399722, 'mae_stars': 1.499675622619017}\n"
     ]
    },
    {
     "data": {
      "application/vnd.jupyter.widget-view+json": {
       "model_id": "e72f8159dddf4b978c7cc8652980bd77",
       "version_major": 2,
       "version_minor": 0
      },
      "text/plain": [
       "train evaluation:   0%|          | 0/3829 [00:00<?, ?it/s]"
      ]
     },
     "metadata": {},
     "output_type": "display_data"
    },
    {
     "data": {
      "application/vnd.jupyter.widget-view+json": {
       "model_id": "84965e7a90a343598c032edce4cfc65a",
       "version_major": 2,
       "version_minor": 0
      },
      "text/plain": [
       "validation evaluation:   0%|          | 0/3829 [00:00<?, ?it/s]"
      ]
     },
     "metadata": {},
     "output_type": "display_data"
    },
    {
     "name": "stdout",
     "output_type": "stream",
     "text": [
      "train metrics:      {'mse': 0.13876630458664602, 'mae_stars': 1.4200189663741818}\n",
      "validation metrics: {'mse': 0.15435756658310676, 'mae_stars': 1.4989952761655565}\n"
     ]
    },
    {
     "data": {
      "application/vnd.jupyter.widget-view+json": {
       "model_id": "480c96bfad064ec1926a75938f3db356",
       "version_major": 2,
       "version_minor": 0
      },
      "text/plain": [
       "train evaluation:   0%|          | 0/3829 [00:00<?, ?it/s]"
      ]
     },
     "metadata": {},
     "output_type": "display_data"
    },
    {
     "data": {
      "application/vnd.jupyter.widget-view+json": {
       "model_id": "c8750df9ad45493e9f459fc0f82f4206",
       "version_major": 2,
       "version_minor": 0
      },
      "text/plain": [
       "validation evaluation:   0%|          | 0/3829 [00:00<?, ?it/s]"
      ]
     },
     "metadata": {},
     "output_type": "display_data"
    },
    {
     "name": "stdout",
     "output_type": "stream",
     "text": [
      "train metrics:      {'mse': 0.1386679122367955, 'mae_stars': 1.4195172386183132}\n",
      "validation metrics: {'mse': 0.15449854465370297, 'mae_stars': 1.4997007661122321}\n"
     ]
    },
    {
     "data": {
      "application/vnd.jupyter.widget-view+json": {
       "model_id": "b0b3b1f8e96245349d4223be670ba406",
       "version_major": 2,
       "version_minor": 0
      },
      "text/plain": [
       "epoch 20:   0%|          | 0/34455 [00:00<?, ?it/s]"
      ]
     },
     "metadata": {},
     "output_type": "display_data"
    },
    {
     "data": {
      "application/vnd.jupyter.widget-view+json": {
       "model_id": "d29e7add8506402fb01a7b9746ca38f4",
       "version_major": 2,
       "version_minor": 0
      },
      "text/plain": [
       "train evaluation:   0%|          | 0/3829 [00:00<?, ?it/s]"
      ]
     },
     "metadata": {},
     "output_type": "display_data"
    },
    {
     "data": {
      "application/vnd.jupyter.widget-view+json": {
       "model_id": "915a245e0fc84ea29496a5a0fa85d0d5",
       "version_major": 2,
       "version_minor": 0
      },
      "text/plain": [
       "validation evaluation:   0%|          | 0/3829 [00:00<?, ?it/s]"
      ]
     },
     "metadata": {},
     "output_type": "display_data"
    },
    {
     "name": "stdout",
     "output_type": "stream",
     "text": [
      "train metrics:      {'mse': 0.13865190016854428, 'mae_stars': 1.4193910264912832}\n",
      "validation metrics: {'mse': 0.15461904273803068, 'mae_stars': 1.5001758357101833}\n"
     ]
    },
    {
     "data": {
      "application/vnd.jupyter.widget-view+json": {
       "model_id": "814e0afa107e422b88032379381d3baf",
       "version_major": 2,
       "version_minor": 0
      },
      "text/plain": [
       "train evaluation:   0%|          | 0/3829 [00:00<?, ?it/s]"
      ]
     },
     "metadata": {},
     "output_type": "display_data"
    },
    {
     "data": {
      "application/vnd.jupyter.widget-view+json": {
       "model_id": "306ad5e0972a4c1f8dfe597b1c75d8b2",
       "version_major": 2,
       "version_minor": 0
      },
      "text/plain": [
       "validation evaluation:   0%|          | 0/3829 [00:00<?, ?it/s]"
      ]
     },
     "metadata": {},
     "output_type": "display_data"
    },
    {
     "name": "stdout",
     "output_type": "stream",
     "text": [
      "train metrics:      {'mse': 0.1385024419255296, 'mae_stars': 1.418700791410878}\n",
      "validation metrics: {'mse': 0.15460062455059997, 'mae_stars': 1.5002335739621422}\n"
     ]
    },
    {
     "data": {
      "application/vnd.jupyter.widget-view+json": {
       "model_id": "db8e75b0cb644735b90f98d8a0f33d0b",
       "version_major": 2,
       "version_minor": 0
      },
      "text/plain": [
       "epoch 21:   0%|          | 0/34455 [00:00<?, ?it/s]"
      ]
     },
     "metadata": {},
     "output_type": "display_data"
    },
    {
     "data": {
      "application/vnd.jupyter.widget-view+json": {
       "model_id": "8cc3a592a3b94223b3e2a421d60fa2c6",
       "version_major": 2,
       "version_minor": 0
      },
      "text/plain": [
       "train evaluation:   0%|          | 0/3829 [00:00<?, ?it/s]"
      ]
     },
     "metadata": {},
     "output_type": "display_data"
    },
    {
     "data": {
      "application/vnd.jupyter.widget-view+json": {
       "model_id": "0110a030334a45b9b084b83a23fd5e7a",
       "version_major": 2,
       "version_minor": 0
      },
      "text/plain": [
       "validation evaluation:   0%|          | 0/3829 [00:00<?, ?it/s]"
      ]
     },
     "metadata": {},
     "output_type": "display_data"
    },
    {
     "name": "stdout",
     "output_type": "stream",
     "text": [
      "train metrics:      {'mse': 0.13826603557720885, 'mae_stars': 1.4174896826100243}\n",
      "validation metrics: {'mse': 0.15436329487511743, 'mae_stars': 1.4989571808585613}\n"
     ]
    },
    {
     "data": {
      "application/vnd.jupyter.widget-view+json": {
       "model_id": "3d21cf1b6e124a07b7613b0b3a88545e",
       "version_major": 2,
       "version_minor": 0
      },
      "text/plain": [
       "train evaluation:   0%|          | 0/3829 [00:00<?, ?it/s]"
      ]
     },
     "metadata": {},
     "output_type": "display_data"
    },
    {
     "data": {
      "application/vnd.jupyter.widget-view+json": {
       "model_id": "a3566aa186b44af6bae09a463a59b23c",
       "version_major": 2,
       "version_minor": 0
      },
      "text/plain": [
       "validation evaluation:   0%|          | 0/3829 [00:00<?, ?it/s]"
      ]
     },
     "metadata": {},
     "output_type": "display_data"
    },
    {
     "name": "stdout",
     "output_type": "stream",
     "text": [
      "train metrics:      {'mse': 0.1382390458275924, 'mae_stars': 1.4173858926793743}\n",
      "validation metrics: {'mse': 0.15447654232448932, 'mae_stars': 1.4994970257147138}\n"
     ]
    },
    {
     "data": {
      "application/vnd.jupyter.widget-view+json": {
       "model_id": "1d8680b31ead4886a8b56c4558a092a7",
       "version_major": 2,
       "version_minor": 0
      },
      "text/plain": [
       "train evaluation:   0%|          | 0/3829 [00:00<?, ?it/s]"
      ]
     },
     "metadata": {},
     "output_type": "display_data"
    },
    {
     "data": {
      "application/vnd.jupyter.widget-view+json": {
       "model_id": "9948de43f33746c98627ba71030ccace",
       "version_major": 2,
       "version_minor": 0
      },
      "text/plain": [
       "validation evaluation:   0%|          | 0/3829 [00:00<?, ?it/s]"
      ]
     },
     "metadata": {},
     "output_type": "display_data"
    },
    {
     "name": "stdout",
     "output_type": "stream",
     "text": [
      "train metrics:      {'mse': 0.13823232285777623, 'mae_stars': 1.4173433857725009}\n",
      "validation metrics: {'mse': 0.15452617712729466, 'mae_stars': 1.4996521854313463}\n"
     ]
    },
    {
     "data": {
      "application/vnd.jupyter.widget-view+json": {
       "model_id": "4008d807a83d46ecb0577ff723448b92",
       "version_major": 2,
       "version_minor": 0
      },
      "text/plain": [
       "epoch 22:   0%|          | 0/34455 [00:00<?, ?it/s]"
      ]
     },
     "metadata": {},
     "output_type": "display_data"
    },
    {
     "data": {
      "application/vnd.jupyter.widget-view+json": {
       "model_id": "f30b2117b4e24f60a7ab2d8bb588f05f",
       "version_major": 2,
       "version_minor": 0
      },
      "text/plain": [
       "train evaluation:   0%|          | 0/3829 [00:00<?, ?it/s]"
      ]
     },
     "metadata": {},
     "output_type": "display_data"
    },
    {
     "data": {
      "application/vnd.jupyter.widget-view+json": {
       "model_id": "e62ec2b5e8d944a6a06ca2900ebcf14a",
       "version_major": 2,
       "version_minor": 0
      },
      "text/plain": [
       "validation evaluation:   0%|          | 0/3829 [00:00<?, ?it/s]"
      ]
     },
     "metadata": {},
     "output_type": "display_data"
    },
    {
     "name": "stdout",
     "output_type": "stream",
     "text": [
      "train metrics:      {'mse': 0.13803239270741183, 'mae_stars': 1.4162919229924382}\n",
      "validation metrics: {'mse': 0.15444946788556896, 'mae_stars': 1.4994309315578096}\n"
     ]
    },
    {
     "data": {
      "application/vnd.jupyter.widget-view+json": {
       "model_id": "a4f2ecfb4c3c4f9c8ea8cbb5ac155ead",
       "version_major": 2,
       "version_minor": 0
      },
      "text/plain": [
       "train evaluation:   0%|          | 0/3829 [00:00<?, ?it/s]"
      ]
     },
     "metadata": {},
     "output_type": "display_data"
    },
    {
     "data": {
      "application/vnd.jupyter.widget-view+json": {
       "model_id": "453910a371e049e9b57e0e8a4fb8034d",
       "version_major": 2,
       "version_minor": 0
      },
      "text/plain": [
       "validation evaluation:   0%|          | 0/3829 [00:00<?, ?it/s]"
      ]
     },
     "metadata": {},
     "output_type": "display_data"
    },
    {
     "name": "stdout",
     "output_type": "stream",
     "text": [
      "train metrics:      {'mse': 0.13805549586039512, 'mae_stars': 1.416490027458682}\n",
      "validation metrics: {'mse': 0.15430024042667187, 'mae_stars': 1.4985654474736878}\n"
     ]
    },
    {
     "data": {
      "application/vnd.jupyter.widget-view+json": {
       "model_id": "3a5487c089f1456e89d1f83475b90f83",
       "version_major": 2,
       "version_minor": 0
      },
      "text/plain": [
       "train evaluation:   0%|          | 0/3829 [00:00<?, ?it/s]"
      ]
     },
     "metadata": {},
     "output_type": "display_data"
    },
    {
     "data": {
      "application/vnd.jupyter.widget-view+json": {
       "model_id": "fa836e57ca024b67936a05a0b73b5cb8",
       "version_major": 2,
       "version_minor": 0
      },
      "text/plain": [
       "validation evaluation:   0%|          | 0/3829 [00:00<?, ?it/s]"
      ]
     },
     "metadata": {},
     "output_type": "display_data"
    },
    {
     "name": "stdout",
     "output_type": "stream",
     "text": [
      "train metrics:      {'mse': 0.13804132189162877, 'mae_stars': 1.416449916272476}\n",
      "validation metrics: {'mse': 0.15403641229527026, 'mae_stars': 1.497183043142933}\n"
     ]
    },
    {
     "data": {
      "application/vnd.jupyter.widget-view+json": {
       "model_id": "6f2497ff6db34fbb81aa1e1b4e7c9db3",
       "version_major": 2,
       "version_minor": 0
      },
      "text/plain": [
       "epoch 23:   0%|          | 0/34455 [00:00<?, ?it/s]"
      ]
     },
     "metadata": {},
     "output_type": "display_data"
    },
    {
     "data": {
      "application/vnd.jupyter.widget-view+json": {
       "model_id": "cecd23d5a1de4026a0f75a344cac875f",
       "version_major": 2,
       "version_minor": 0
      },
      "text/plain": [
       "train evaluation:   0%|          | 0/3829 [00:00<?, ?it/s]"
      ]
     },
     "metadata": {},
     "output_type": "display_data"
    },
    {
     "data": {
      "application/vnd.jupyter.widget-view+json": {
       "model_id": "06eaae9b1dc04d2fab48a774591c3fcc",
       "version_major": 2,
       "version_minor": 0
      },
      "text/plain": [
       "validation evaluation:   0%|          | 0/3829 [00:00<?, ?it/s]"
      ]
     },
     "metadata": {},
     "output_type": "display_data"
    },
    {
     "name": "stdout",
     "output_type": "stream",
     "text": [
      "train metrics:      {'mse': 0.13777997508084658, 'mae_stars': 1.4150549250565612}\n",
      "validation metrics: {'mse': 0.15420797718632903, 'mae_stars': 1.498262297798928}\n"
     ]
    },
    {
     "data": {
      "application/vnd.jupyter.widget-view+json": {
       "model_id": "642275c6cd67412fbf19e2412ba15b75",
       "version_major": 2,
       "version_minor": 0
      },
      "text/plain": [
       "train evaluation:   0%|          | 0/3829 [00:00<?, ?it/s]"
      ]
     },
     "metadata": {},
     "output_type": "display_data"
    },
    {
     "data": {
      "application/vnd.jupyter.widget-view+json": {
       "model_id": "c3a41bd4886e4adf918701c8e6be84b6",
       "version_major": 2,
       "version_minor": 0
      },
      "text/plain": [
       "validation evaluation:   0%|          | 0/3829 [00:00<?, ?it/s]"
      ]
     },
     "metadata": {},
     "output_type": "display_data"
    },
    {
     "name": "stdout",
     "output_type": "stream",
     "text": [
      "train metrics:      {'mse': 0.13773588655522828, 'mae_stars': 1.414882451179103}\n",
      "validation metrics: {'mse': 0.15396355212777738, 'mae_stars': 1.4969376468042008}\n"
     ]
    },
    {
     "data": {
      "application/vnd.jupyter.widget-view+json": {
       "model_id": "f887da1df6f44921bb91ef14ba81472c",
       "version_major": 2,
       "version_minor": 0
      },
      "text/plain": [
       "train evaluation:   0%|          | 0/3829 [00:00<?, ?it/s]"
      ]
     },
     "metadata": {},
     "output_type": "display_data"
    },
    {
     "data": {
      "application/vnd.jupyter.widget-view+json": {
       "model_id": "6fa9ff5895be467c919f8009f86ef7e0",
       "version_major": 2,
       "version_minor": 0
      },
      "text/plain": [
       "validation evaluation:   0%|          | 0/3829 [00:00<?, ?it/s]"
      ]
     },
     "metadata": {},
     "output_type": "display_data"
    },
    {
     "name": "stdout",
     "output_type": "stream",
     "text": [
      "train metrics:      {'mse': 0.13756721240382463, 'mae_stars': 1.414006270263923}\n",
      "validation metrics: {'mse': 0.15398795840657079, 'mae_stars': 1.4971467034565809}\n"
     ]
    },
    {
     "data": {
      "application/vnd.jupyter.widget-view+json": {
       "model_id": "0f9d33e8dd2c4e788ee82ed6a314b17e",
       "version_major": 2,
       "version_minor": 0
      },
      "text/plain": [
       "epoch 24:   0%|          | 0/34455 [00:00<?, ?it/s]"
      ]
     },
     "metadata": {},
     "output_type": "display_data"
    },
    {
     "data": {
      "application/vnd.jupyter.widget-view+json": {
       "model_id": "940e8af052f748319c49c9291035f7df",
       "version_major": 2,
       "version_minor": 0
      },
      "text/plain": [
       "train evaluation:   0%|          | 0/3829 [00:00<?, ?it/s]"
      ]
     },
     "metadata": {},
     "output_type": "display_data"
    },
    {
     "data": {
      "application/vnd.jupyter.widget-view+json": {
       "model_id": "e591bc2b2dd34aab862eea069c93f505",
       "version_major": 2,
       "version_minor": 0
      },
      "text/plain": [
       "validation evaluation:   0%|          | 0/3829 [00:00<?, ?it/s]"
      ]
     },
     "metadata": {},
     "output_type": "display_data"
    },
    {
     "name": "stdout",
     "output_type": "stream",
     "text": [
      "train metrics:      {'mse': 0.13752928195722142, 'mae_stars': 1.4138111741432604}\n",
      "validation metrics: {'mse': 0.15384165537547242, 'mae_stars': 1.4963939515876221}\n"
     ]
    },
    {
     "data": {
      "application/vnd.jupyter.widget-view+json": {
       "model_id": "ca9bedf8a160494d84f19fc9ddc042b9",
       "version_major": 2,
       "version_minor": 0
      },
      "text/plain": [
       "train evaluation:   0%|          | 0/3829 [00:00<?, ?it/s]"
      ]
     },
     "metadata": {},
     "output_type": "display_data"
    },
    {
     "data": {
      "application/vnd.jupyter.widget-view+json": {
       "model_id": "150cac3d9fdf4405b98917b3089f70a9",
       "version_major": 2,
       "version_minor": 0
      },
      "text/plain": [
       "validation evaluation:   0%|          | 0/3829 [00:00<?, ?it/s]"
      ]
     },
     "metadata": {},
     "output_type": "display_data"
    },
    {
     "name": "stdout",
     "output_type": "stream",
     "text": [
      "train metrics:      {'mse': 0.13745612807554375, 'mae_stars': 1.4134965944178082}\n",
      "validation metrics: {'mse': 0.15380797337679367, 'mae_stars': 1.496082435126839}\n"
     ]
    }
   ],
   "source": [
    "trainer.train(loader_train, loader_train_mini, loader_valid)"
   ]
  },
  {
   "cell_type": "code",
   "execution_count": null,
   "metadata": {},
   "outputs": [],
   "source": []
  }
 ],
 "metadata": {
  "interpreter": {
   "hash": "ac41bbbcefc99109c907fdabb34e4468b7c5711414ea0b5f9d02fdd6869e5cad"
  },
  "kernelspec": {
   "display_name": "Python 3.9.7 ('env': venv)",
   "language": "python",
   "name": "python3"
  },
  "language_info": {
   "codemirror_mode": {
    "name": "ipython",
    "version": 3
   },
   "file_extension": ".py",
   "mimetype": "text/x-python",
   "name": "python",
   "nbconvert_exporter": "python",
   "pygments_lexer": "ipython3",
   "version": "3.9.7"
  },
  "orig_nbformat": 4
 },
 "nbformat": 4,
 "nbformat_minor": 2
}
