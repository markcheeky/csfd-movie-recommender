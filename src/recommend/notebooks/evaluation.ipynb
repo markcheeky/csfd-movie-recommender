{
 "cells": [
  {
   "cell_type": "markdown",
   "id": "f0810226-c0ce-46c5-9d3f-181559f2152e",
   "metadata": {},
   "source": [
    "# Evaluator of Recommender"
   ]
  },
  {
   "cell_type": "code",
   "execution_count": 1,
   "id": "d928bd60-9a7c-42f7-a801-7ad86ea6c143",
   "metadata": {},
   "outputs": [],
   "source": [
    "# imports\n",
    "import pandas as pd\n",
    "import numpy as np\n",
    "import seaborn as sns\n",
    "import matplotlib.pyplot as plt\n",
    "from sklearn.metrics import jaccard_score\n",
    "from IPython.display import display, HTML"
   ]
  },
  {
   "cell_type": "code",
   "execution_count": 2,
   "id": "eb6ec611-c00b-4fe0-9eb2-66a137868019",
   "metadata": {},
   "outputs": [],
   "source": [
    "movies = pd.read_pickle('./data/movies.pkl')\n",
    "ratings = pd.read_pickle('./data/ratings.pkl')"
   ]
  },
  {
   "cell_type": "code",
   "execution_count": 34,
   "id": "99e8fa09-ddb5-465f-a385-84b2f421b858",
   "metadata": {},
   "outputs": [],
   "source": [
    "class Evaluator():\n",
    "    def __init__(self, movies, ratings):\n",
    "#         self.moviesss = movies\n",
    "        self.ratings = ratings\n",
    "    \n",
    "    def evaluate(self, gen_movies, username=None, eval_type=\"jaccard\", manual_gt=None, split=0.2):\n",
    "        # z ratings vybrat useroviny, seradit podle data, vzit `split` procent, \n",
    "        # => vyhodit movie_id\n",
    "        \n",
    "        if manual_gt == None:\n",
    "            sorted_user = self.ratings.loc[self.ratings.username == username].sort_values(by=\"date\", ascending=False)\n",
    "            ground_truth = sorted_user.head(round(len(sorted_user)*split)).movie_id\n",
    "    #         display(HTML(sorted_user.head(round(len(sorted_user)*split)).to_html()))\n",
    "        else:\n",
    "            ground_truth = manual_gt\n",
    "\n",
    "        if eval_type == \"jaccard\":\n",
    "            return self.jaccard(ground_truth, gen_movies)\n",
    "\n",
    "        if eval_type == \"manual\":\n",
    "            is_good = self.manual_evaluation(ground_truth, gen_movies)\n",
    "            precision = sum(is_good)/len(is_good)\n",
    "            recall = sum(is_good)/len(ground_truth)\n",
    "            print(f\"precision: {precision}\")\n",
    "            print(f\"recall: {recall}\")\n",
    "            print(f\"f1-score: {2*precision*recall/(precision+recall)}\")\n",
    "            \n",
    "            \n",
    "    def jaccard(self, a, b):\n",
    "        set_a, set_b = set(a), set(b)\n",
    "#         print(set_a)\n",
    "        print(set_a.intersection(set_b))\n",
    "        l_inters = len(set_a.intersection(set_b))\n",
    "        return l_inters/(len(a)+len(b)-l_inters)\n",
    "        \n",
    "    def manual_evaluation(self, ground_truth, gen_movies):\n",
    "        print(f\"the GROUND TRUTH is:\\n {ground_truth}\\n\")\n",
    "        answers = []\n",
    "        for gm in gen_movies:\n",
    "            ans = \"\"\n",
    "            while ans != \"y\" and ans != \"n\" and ans != \"over\":\n",
    "                ans = input(f\"is the movie {gm} a good prediciton? (y/n/over): \")\n",
    "            if ans == \"over\":\n",
    "                break\n",
    "            answers.append(ans)\n",
    "        print(np.array(answers))\n",
    "        return np.array(answers) == \"y\"\n",
    "            \n",
    "    \n",
    "    def split_users(self):\n",
    "        # serad usery podle poctu ratingu\n",
    "        index = ratings[\"username\"].value_counts().index\n",
    "        self.valid_names = index.index.values[0::2]\n",
    "        self.test_names = index.index.values[1::2]\n",
    "        "
   ]
  },
  {
   "cell_type": "code",
   "execution_count": 35,
   "id": "a4be2128-5fd0-467d-b69c-33016d07e20d",
   "metadata": {},
   "outputs": [],
   "source": [
    "evaluator = Evaluator(movies, ratings)"
   ]
  },
  {
   "cell_type": "code",
   "execution_count": 36,
   "id": "3633a040-ce3c-45b6-b3b4-67f52528f540",
   "metadata": {
    "tags": []
   },
   "outputs": [
    {
     "name": "stdout",
     "output_type": "stream",
     "text": [
      "the GROUND TRUTH is:\n",
      " 2062289           3065-mary-reilly\n",
      "2474835               21306-bytost\n",
      "655532           451893-muzzikanti\n",
      "2089931    560981-prezident-blanik\n",
      "1485507     9142-cekani-na-patrika\n",
      "                    ...           \n",
      "1152556           101170-vecny-zid\n",
      "884127         2610-cabiriiny-noci\n",
      "422422                  32350-obet\n",
      "953903          1755-hory-maji-oci\n",
      "2134526          2617-darmoslapove\n",
      "Name: movie_id, Length: 1027, dtype: object\n",
      "\n"
     ]
    },
    {
     "name": "stdin",
     "output_type": "stream",
     "text": [
      "is the movie 1430-projekt-a a good prediciton? (y/n/over):  y\n",
      "is the movie 19952-ve-sluzbach-papeze a good prediciton? (y/n/over):  y\n",
      "is the movie 391274-joy a good prediciton? (y/n/over):  n\n",
      "is the movie 7389-hra-bez-pravidel a good prediciton? (y/n/over):  n\n",
      "is the movie 7626-stuj-pri-mne a good prediciton? (y/n/over):  n\n",
      "is the movie 29561-the-quiet-earth a good prediciton? (y/n/over):  y\n",
      "is the movie 50300-instalater-z-tuchlovic a good prediciton? (y/n/over):  y\n",
      "is the movie 426009-deadpool-2 a good prediciton? (y/n/over):  y\n",
      "is the movie 175257-hustle-a-flow a good prediciton? (y/n/over):  over\n"
     ]
    },
    {
     "name": "stdout",
     "output_type": "stream",
     "text": [
      "['y' 'y' 'n' 'n' 'n' 'y' 'y' 'y']\n",
      "precision: 0.625\n",
      "recall: 0.004868549172346641\n",
      "f1-score: 0.00966183574879227\n"
     ]
    }
   ],
   "source": [
    "gen_movies = ['1430-projekt-a', '19952-ve-sluzbach-papeze', '391274-joy', '7389-hra-bez-pravidel', '7626-stuj-pri-mne', '29561-the-quiet-earth', '50300-instalater-z-tuchlovic', '426009-deadpool-2', '175257-hustle-a-flow', '396645-tata-je-doma', '474915-vezmes-si-me-kamo', '411706-teorie-tygra', '14284-dej-si-pohov-kamosi-2', '320638-strazci-galaxie', '9392-evropa', '381728-kickboxer-vengeance', '13128-vzpoura-na-bounty', '336286-syn-zmaru', '318271-mazel', '250727-papirovy-hrdina', '381274-kong-ostrov-lebek', '17622-na-pokraji-slavy', '317342-x-men-budouci-minulost', '127-hrac', '55410-smrtihlav', '12670-tajemstvi-meho-uspechu', '1562-karel-a-ja', '56206-svycarak', '552677-vice', '4677-pokoj-s-vyhlidkou', '59851-svatek-matek', '319631-mission-impossible-narod-grazlu', '348705-philomena', '279901-cinsky-zverokruh', '263658-maly-velky-bojovnik', '88180-divoka-planeta', '195035-tri', '23830-uplne-zatmeni', '494367-nocni-hra', '33071-bitva-o-planetu-opic', '353868-mrozi-muz', '47525-moje-tlusta-recka-svatba', '87412-superstar', '238136-chips-blazniva-hlidka', '32534-navrat-velkeho-blondyna']\n",
    "\n",
    "evaluator.evaluate(gen_movies, \"Martin741\", eval_type=\"manual\")"
   ]
  },
  {
   "cell_type": "code",
   "execution_count": 27,
   "id": "336d4536-541e-4013-9c29-379ef8c258a4",
   "metadata": {},
   "outputs": [
    {
     "data": {
      "text/plain": [
       "138                                      230421-houbicky\n",
       "344                                     10789-prvni-liga\n",
       "739                                       235032-yes-man\n",
       "2136                  234754-chlapec-v-pruhovanem-pyzamu\n",
       "3159                                   4380-povestny-muz\n",
       "                               ...                      \n",
       "2794959    39648-master-commander-odvracena-strana-sveta\n",
       "2795591                        197196-vzpominky-na-lasku\n",
       "2796526                        220743-world-trade-center\n",
       "2797172                          43239-muzska-zalezitost\n",
       "2797314                             221264-zivot-jde-dal\n",
       "Name: movie_id, Length: 5135, dtype: object"
      ]
     },
     "execution_count": 27,
     "metadata": {},
     "output_type": "execute_result"
    }
   ],
   "source": [
    "ratings.loc[ratings.username == \"Martin741\"].movie_id"
   ]
  },
  {
   "cell_type": "code",
   "execution_count": 17,
   "id": "4cfbff0c-2b81-49ba-b27e-6219f8409575",
   "metadata": {},
   "outputs": [
    {
     "data": {
      "text/plain": [
       "array([False, False, False, False,  True,  True])"
      ]
     },
     "execution_count": 17,
     "metadata": {},
     "output_type": "execute_result"
    }
   ],
   "source": [
    "np.array([\"y\",\"y\",\"y\",\"y\",\"n\",\"n\"]) == \"n\""
   ]
  },
  {
   "cell_type": "code",
   "execution_count": 110,
   "id": "58664c72-e612-4b91-a14f-442a0947646a",
   "metadata": {},
   "outputs": [
    {
     "name": "stdin",
     "output_type": "stream",
     "text": [
      "hehe:  y\n"
     ]
    }
   ],
   "source": [
    "ans = input(\"hehe: \")"
   ]
  },
  {
   "cell_type": "code",
   "execution_count": 111,
   "id": "1e3ffdaa-4ecd-47a8-b5bc-11cdbd9503a3",
   "metadata": {},
   "outputs": [
    {
     "data": {
      "text/plain": [
       "'y'"
      ]
     },
     "execution_count": 111,
     "metadata": {},
     "output_type": "execute_result"
    }
   ],
   "source": [
    "ans"
   ]
  },
  {
   "cell_type": "code",
   "execution_count": null,
   "id": "a8296987-b677-493f-8405-af197ce5b1b3",
   "metadata": {},
   "outputs": [],
   "source": []
  }
 ],
 "metadata": {
  "kernelspec": {
   "display_name": "Python 3",
   "language": "python",
   "name": "python3"
  },
  "language_info": {
   "codemirror_mode": {
    "name": "ipython",
    "version": 3
   },
   "file_extension": ".py",
   "mimetype": "text/x-python",
   "name": "python",
   "nbconvert_exporter": "python",
   "pygments_lexer": "ipython3",
   "version": "3.8.8"
  }
 },
 "nbformat": 4,
 "nbformat_minor": 5
}
