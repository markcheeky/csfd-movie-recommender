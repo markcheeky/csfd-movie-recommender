{
 "cells": [
  {
   "cell_type": "markdown",
   "id": "waiting-tonight",
   "metadata": {},
   "source": [
    "# Evaluator of Recommender"
   ]
  },
  {
   "cell_type": "code",
   "execution_count": 1,
   "id": "durable-hebrew",
   "metadata": {},
   "outputs": [],
   "source": [
    "# imports\n",
    "import pandas as pd\n",
    "import numpy as np\n",
    "import seaborn as sns\n",
    "import matplotlib.pyplot as plt\n",
    "from sklearn.metrics import jaccard_score\n",
    "from IPython.display import display, HTML"
   ]
  },
  {
   "cell_type": "code",
   "execution_count": 3,
   "id": "suburban-heaven",
   "metadata": {},
   "outputs": [],
   "source": [
    "movies = pd.read_pickle('../../../data/movies.pkl')\n",
    "ratings = pd.read_pickle('../../../data/ratings.pkl')"
   ]
  },
  {
   "cell_type": "code",
   "execution_count": 7,
   "id": "south-degree",
   "metadata": {},
   "outputs": [],
   "source": [
    "class Evaluator():\n",
    "    def __init__(self, movies, ratings):\n",
    "        self.movies_df = movies\n",
    "        self.ratings = ratings\n",
    "    \n",
    "    def evaluate(self, gen_movies, username=None, eval_type=\"jaccard\", manual_gt=None, split=0.2):\n",
    "        # z ratings vybrat useroviny, seradit podle data, vzit `split` procent, \n",
    "        # => vyhodit movie_id\n",
    "        \n",
    "        if manual_gt == None:\n",
    "            sorted_user = self.ratings.loc[self.ratings.username == username].sort_values(by=\"date\", ascending=False)\n",
    "            ground_truth = sorted_user.head(round(len(sorted_user)*split)).movie_id\n",
    "    #         display(HTML(sorted_user.head(round(len(sorted_user)*split)).to_html()))\n",
    "        else:\n",
    "            ground_truth = manual_gt\n",
    "\n",
    "        if eval_type == \"jaccard\":\n",
    "            return self.jaccard(ground_truth, gen_movies)\n",
    "\n",
    "        if eval_type == \"manual\":\n",
    "            is_good = self.manual_evaluation(ground_truth, gen_movies)\n",
    "            precision = sum(is_good)/len(is_good)\n",
    "            recall = sum(is_good)/len(ground_truth)\n",
    "            print(f\"precision: {precision}\")\n",
    "            print(f\"recall: {recall}\")\n",
    "            print(f\"f1-score: {2*precision*recall/(precision+recall)}\")\n",
    "            \n",
    "            \n",
    "    def jaccard(self, a, b):\n",
    "        set_a, set_b = set(a), set(b)\n",
    "#         print(set_a)\n",
    "        print(set_a.intersection(set_b))\n",
    "        l_inters = len(set_a.intersection(set_b))\n",
    "        return l_inters/(len(a)+len(b)-l_inters)\n",
    "        \n",
    "    def manual_evaluation(self, ground_truth, gen_movies):\n",
    "        print(f\"the GROUND TRUTH is:\\n {ground_truth}\\n\")\n",
    "        answers = []\n",
    "        for gm in gen_movies:\n",
    "            ans = \"\"\n",
    "            while ans != \"y\" and ans != \"n\" and ans != \"over\":\n",
    "                ans = input(f\"is the movie {gm} a good prediciton? (y/n/over): \")\n",
    "            if ans == \"over\":\n",
    "                break\n",
    "            answers.append(ans)\n",
    "        print(np.array(answers))\n",
    "        return np.array(answers) == \"y\"\n",
    "            \n",
    "    \n",
    "    def split_users(self):\n",
    "        # serad usery podle poctu ratingu\n",
    "        index = ratings[\"username\"].value_counts().index\n",
    "        self.valid_names = index.index.values[0::2]\n",
    "        self.test_names = index.index.values[1::2]\n",
    "        "
   ]
  },
  {
   "cell_type": "code",
   "execution_count": 5,
   "id": "german-advisory",
   "metadata": {},
   "outputs": [],
   "source": [
    "evaluator = Evaluator(movies, ratings)"
   ]
  },
  {
   "cell_type": "code",
   "execution_count": 8,
   "id": "different-window",
   "metadata": {
    "tags": []
   },
   "outputs": [
    {
     "name": "stdout",
     "output_type": "stream",
     "text": [
      "{'336286-syn-zmaru', '238136-chips-blazniva-hlidka', '381728-kickboxer-vengeance', '1562-karel-a-ja', '7389-hra-bez-pravidel', '88180-divoka-planeta', '426009-deadpool-2', '17622-na-pokraji-slavy', '13128-vzpoura-na-bounty', '59851-svatek-matek', '279901-cinsky-zverokruh', '411706-teorie-tygra', '47525-moje-tlusta-recka-svatba', '1430-projekt-a', '4677-pokoj-s-vyhlidkou', '263658-maly-velky-bojovnik', '175257-hustle-a-flow', '14284-dej-si-pohov-kamosi-2', '381274-kong-ostrov-lebek', '9392-evropa', '32534-navrat-velkeho-blondyna', '391274-joy', '396645-tata-je-doma', '29561-the-quiet-earth', '19952-ve-sluzbach-papeze', '353868-mrozi-muz', '56206-svycarak', '320638-strazci-galaxie', '319631-mission-impossible-narod-grazlu', '195035-tri', '23830-uplne-zatmeni', '552677-vice', '12670-tajemstvi-meho-uspechu', '250727-papirovy-hrdina', '318271-mazel', '317342-x-men-budouci-minulost', '494367-nocni-hra', '33071-bitva-o-planetu-opic', '474915-vezmes-si-me-kamo', '50300-instalater-z-tuchlovic', '55410-smrtihlav', '7626-stuj-pri-mne', '348705-philomena', '127-hrac', '87412-superstar'}\n"
     ]
    },
    {
     "data": {
      "text/plain": [
       "0.043816942551119765"
      ]
     },
     "execution_count": 8,
     "metadata": {},
     "output_type": "execute_result"
    }
   ],
   "source": [
    "gen_movies = ['1430-projekt-a', '19952-ve-sluzbach-papeze', '391274-joy', '7389-hra-bez-pravidel', '7626-stuj-pri-mne', '29561-the-quiet-earth', '50300-instalater-z-tuchlovic', '426009-deadpool-2', '175257-hustle-a-flow', '396645-tata-je-doma', '474915-vezmes-si-me-kamo', '411706-teorie-tygra', '14284-dej-si-pohov-kamosi-2', '320638-strazci-galaxie', '9392-evropa', '381728-kickboxer-vengeance', '13128-vzpoura-na-bounty', '336286-syn-zmaru', '318271-mazel', '250727-papirovy-hrdina', '381274-kong-ostrov-lebek', '17622-na-pokraji-slavy', '317342-x-men-budouci-minulost', '127-hrac', '55410-smrtihlav', '12670-tajemstvi-meho-uspechu', '1562-karel-a-ja', '56206-svycarak', '552677-vice', '4677-pokoj-s-vyhlidkou', '59851-svatek-matek', '319631-mission-impossible-narod-grazlu', '348705-philomena', '279901-cinsky-zverokruh', '263658-maly-velky-bojovnik', '88180-divoka-planeta', '195035-tri', '23830-uplne-zatmeni', '494367-nocni-hra', '33071-bitva-o-planetu-opic', '353868-mrozi-muz', '47525-moje-tlusta-recka-svatba', '87412-superstar', '238136-chips-blazniva-hlidka', '32534-navrat-velkeho-blondyna']\n",
    "\n",
    "evaluator.evaluate(gen_movies, \"Martin741\", eval_type=\"jaccard\")"
   ]
  },
  {
   "cell_type": "code",
   "execution_count": 27,
   "id": "awful-concept",
   "metadata": {},
   "outputs": [
    {
     "data": {
      "text/plain": [
       "138                                      230421-houbicky\n",
       "344                                     10789-prvni-liga\n",
       "739                                       235032-yes-man\n",
       "2136                  234754-chlapec-v-pruhovanem-pyzamu\n",
       "3159                                   4380-povestny-muz\n",
       "                               ...                      \n",
       "2794959    39648-master-commander-odvracena-strana-sveta\n",
       "2795591                        197196-vzpominky-na-lasku\n",
       "2796526                        220743-world-trade-center\n",
       "2797172                          43239-muzska-zalezitost\n",
       "2797314                             221264-zivot-jde-dal\n",
       "Name: movie_id, Length: 5135, dtype: object"
      ]
     },
     "execution_count": 27,
     "metadata": {},
     "output_type": "execute_result"
    }
   ],
   "source": [
    "ratings.loc[ratings.username == \"Martin741\"].movie_id"
   ]
  },
  {
   "cell_type": "code",
   "execution_count": 17,
   "id": "engaged-swing",
   "metadata": {},
   "outputs": [
    {
     "data": {
      "text/plain": [
       "array([False, False, False, False,  True,  True])"
      ]
     },
     "execution_count": 17,
     "metadata": {},
     "output_type": "execute_result"
    }
   ],
   "source": [
    "np.array([\"y\",\"y\",\"y\",\"y\",\"n\",\"n\"]) == \"n\""
   ]
  },
  {
   "cell_type": "code",
   "execution_count": 110,
   "id": "decent-victorian",
   "metadata": {},
   "outputs": [
    {
     "name": "stdin",
     "output_type": "stream",
     "text": [
      "hehe:  y\n"
     ]
    }
   ],
   "source": [
    "ans = input(\"hehe: \")"
   ]
  },
  {
   "cell_type": "code",
   "execution_count": 111,
   "id": "green-relay",
   "metadata": {},
   "outputs": [
    {
     "data": {
      "text/plain": [
       "'y'"
      ]
     },
     "execution_count": 111,
     "metadata": {},
     "output_type": "execute_result"
    }
   ],
   "source": [
    "ans"
   ]
  },
  {
   "cell_type": "code",
   "execution_count": null,
   "id": "editorial-pharmaceutical",
   "metadata": {},
   "outputs": [],
   "source": []
  }
 ],
 "metadata": {
  "kernelspec": {
   "display_name": "Python 3",
   "language": "python",
   "name": "python3"
  },
  "language_info": {
   "codemirror_mode": {
    "name": "ipython",
    "version": 3
   },
   "file_extension": ".py",
   "mimetype": "text/x-python",
   "name": "python",
   "nbconvert_exporter": "python",
   "pygments_lexer": "ipython3",
   "version": "3.8.5"
  }
 },
 "nbformat": 4,
 "nbformat_minor": 5
}
